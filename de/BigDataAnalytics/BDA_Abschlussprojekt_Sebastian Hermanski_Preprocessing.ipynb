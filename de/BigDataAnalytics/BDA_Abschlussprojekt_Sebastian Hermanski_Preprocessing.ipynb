{
 "cells": [
  {
   "cell_type": "markdown",
   "id": "5ed5bcf3",
   "metadata": {},
   "source": [
    "# Aufgabenstellung\n",
    "\n",
    "Du arbeitest als Data Scientist bei einer P-2-P-Plattform, die vor einem Jahr gegründet wurde. Nun wollt ihr euer Geschäft erweitern. Euer Team hat sich aufgeteilt und jeder Analyst hat einen Teilbereich der Daten. Deine Aufgabe ist es in einer *explorativen Datenanalyse* Insights für eure Plattform herauszufinden.\n",
    "\n",
    "Euer Geschäftsmodell ist das Betreiben einer Plattform (crowd-investing) bei der sich Personen die eine Geschäftsidee haben, aber nicht das benötigte Geld, anmelden und für ihr Projekt innerhalb einer vorgegebenen Zeit Geld sammeln können. Auf der anderen Seite habt ihr Geldgeber, die gern ihr Geld in Projekte anlegen möchten und nach Investitionen suchen. Als Vermittler bringt eure Plattform also Geldnehmer und Geldgeber zusammen. Ihr verdient euer Geld mit einer Provision für jedes Projekt was auf eurer Plattform landet.\n",
    "\n",
    "Deine Datenbasis ist die Historie eurer Plattform. Alle Projekte sind abgeschlossene Projekte, d.h. die Zeit, um für sein Projekt Geld zu sammeln ist abgelaufen. Euer Geschäftsmodell sieht es vor, dass die gesammelten Gelder ausgezahlt werden, auch wenn der Zielbetrag nicht erreicht wurde.\n",
    "\n",
    "Dafür ist der Datensatz zunächst vorzubereiten. In die Bewertung geht zudem die Dokumentation mit ein. Für die Visualisierung sind 3 verschiedenartige Plots zu benennen, die in die Bewertung eingehen sollen. Das bedeutet nicht, dass du nur 3 Plots ersellen darfst - ausschließlich für die Bewertung sind drei verschiedenartige Plots zu benennen! Vergiss dabei nicht die Erkenntnisse die aus jedem Plot gezogen werden können, zu notieren.\n",
    "\n",
    "Die Dokumentation kann in englisch oder deutsch erfolgen.\n",
    "\n",
    "Am Freitag erfolgt die Vorstellung der Plots innerhalb des Zeitrahmens von 5min - (+-1min) ist dabei ok.\n",
    "\n",
    "Treff ist **Freitag um 14:30 Uhr im Hauptraum**. Da werden wir die Unterlagen in dokumentensichere Formate umwandeln. Das machen wir aber zusammen. Danach habt ihr bis 15:35 Uhr zeit, eure zu bewertenden Unterlagen in den Projektabgabeordner hochzuladen.\n",
    "\n",
    "\n",
    "## Inhalt des Datensatzes\n",
    "Der gesplittete Datensatz enthält folgende Spalten (inkl. Bedeutung):\n",
    "\n",
    "- funded_amount ... mit Ablauf der \"Crowding\"zeit erhaltener Betrag/ ausgezahlter Betrag in USD\n",
    "- loan_amount ... Zielbetrag (Betrag dem man für das Projekt erreichen wollte) in USD\n",
    "- activity ... Unterkategory zu dem das Ziel des Crowdprojektes thematisch gehört\n",
    "- sector ... Oberkategory in den das Crowdprojektes Thema fällt\n",
    "- use ... Kurzbeschreibung wofür das Geld verwendet werden soll\n",
    "- country_code ... Ländercode nach ISO Norm\n",
    "- country ... Ländername nach ISO Norm\n",
    "- region ... Region\n",
    "- currency ... Währung in den der funded_amount dann ausgezahlt wurde\n",
    "- term in months ... Dauer über die der Kredit ausgezahlt werden soll\n",
    "- lender_count ...Darlehensgeber (also wieviele Personen Geld für das Projekt gegeben haben)\n",
    "- borrower_genders ... Geschlecht und Anzahl der Darlehensnehmer, also diejenigen die das Crowdprojekt initiiert haben     \n",
    "- repayment interval ... vertraglich vereinbarte Rückzahlungsmodalitäten/-rhythmus"
   ]
  },
  {
   "cell_type": "markdown",
   "id": "6f1e23b5",
   "metadata": {},
   "source": [
    "# Projektbearbeitung - Crowd-Investing\n",
    "\n",
    "## Vorbereitung - Importieren der Bibliotheken und Einlesen des Datensatzes\n",
    "\n",
    "Bevor die eigentliche Arbeit beginnen kann, müssen zuvor einige notwendige Bibliotheken eingelesen werden. Danach wird der Datensatz eingelesen, welcher im vorliegenden Fall aus zwei Dateien besteht. Die Daten liegen in einem CSV-Format vor. Hier muss beachtet werden, was als Trennzeichen in der jeweiligen Datei benutzt wurde. Dies muss beim Import berücksichtigt werden. "
   ]
  },
  {
   "cell_type": "code",
   "execution_count": 1,
   "id": "8e1f83da",
   "metadata": {
    "ExecuteTime": {
     "end_time": "2022-06-02T11:26:37.966477Z",
     "start_time": "2022-06-02T11:26:37.395087Z"
    }
   },
   "outputs": [],
   "source": [
    "import pandas as pd\n",
    "import numpy as np\n",
    "\n",
    "from currency_converter import CurrencyConverter\n",
    "from pycountry_convert import country_alpha2_to_continent_code, country_name_to_country_alpha2\n",
    "\n",
    "from datetime import date\n",
    "from colorama import Fore, Back"
   ]
  },
  {
   "cell_type": "code",
   "execution_count": 2,
   "id": "b63de53a",
   "metadata": {
    "ExecuteTime": {
     "end_time": "2022-06-02T11:26:37.982217Z",
     "start_time": "2022-06-02T11:26:37.966477Z"
    }
   },
   "outputs": [],
   "source": [
    "file1 = 'your_part1.csv'\n",
    "file2 = 'your_part2.csv'"
   ]
  },
  {
   "cell_type": "code",
   "execution_count": 3,
   "id": "93b08695",
   "metadata": {
    "ExecuteTime": {
     "end_time": "2022-06-02T11:26:38.941726Z",
     "start_time": "2022-06-02T11:26:37.984275Z"
    }
   },
   "outputs": [
    {
     "data": {
      "text/html": [
       "<div>\n",
       "<style scoped>\n",
       "    .dataframe tbody tr th:only-of-type {\n",
       "        vertical-align: middle;\n",
       "    }\n",
       "\n",
       "    .dataframe tbody tr th {\n",
       "        vertical-align: top;\n",
       "    }\n",
       "\n",
       "    .dataframe thead th {\n",
       "        text-align: right;\n",
       "    }\n",
       "</style>\n",
       "<table border=\"1\" class=\"dataframe\">\n",
       "  <thead>\n",
       "    <tr style=\"text-align: right;\">\n",
       "      <th></th>\n",
       "      <th>funded_amount</th>\n",
       "      <th>loan_amount</th>\n",
       "      <th>activity</th>\n",
       "      <th>sector</th>\n",
       "      <th>use</th>\n",
       "      <th>country_code</th>\n",
       "      <th>country</th>\n",
       "      <th>region</th>\n",
       "      <th>currency</th>\n",
       "      <th>term_in_months</th>\n",
       "      <th>lender_count</th>\n",
       "      <th>borrower_genders</th>\n",
       "      <th>repayment_interval</th>\n",
       "    </tr>\n",
       "  </thead>\n",
       "  <tbody>\n",
       "    <tr>\n",
       "      <th>0</th>\n",
       "      <td>300.0</td>\n",
       "      <td>300.0</td>\n",
       "      <td>Fruits &amp; Vegetables</td>\n",
       "      <td>Food</td>\n",
       "      <td>To buy seasonal, fresh fruits to sell.</td>\n",
       "      <td>PK</td>\n",
       "      <td>Pakistan</td>\n",
       "      <td>Lahore</td>\n",
       "      <td>PKR</td>\n",
       "      <td>12.0</td>\n",
       "      <td>12</td>\n",
       "      <td>female</td>\n",
       "      <td>irregular</td>\n",
       "    </tr>\n",
       "    <tr>\n",
       "      <th>1</th>\n",
       "      <td>575.0</td>\n",
       "      <td>575.0</td>\n",
       "      <td>Rickshaw</td>\n",
       "      <td>Transportation</td>\n",
       "      <td>to repair and maintain the auto rickshaw used ...</td>\n",
       "      <td>PK</td>\n",
       "      <td>Pakistan</td>\n",
       "      <td>Lahore</td>\n",
       "      <td>PKR</td>\n",
       "      <td>11.0</td>\n",
       "      <td>14</td>\n",
       "      <td>female, female</td>\n",
       "      <td>irregular</td>\n",
       "    </tr>\n",
       "    <tr>\n",
       "      <th>2</th>\n",
       "      <td>150.0</td>\n",
       "      <td>150.0</td>\n",
       "      <td>Transportation</td>\n",
       "      <td>Transportation</td>\n",
       "      <td>To repair their old cycle-van and buy another ...</td>\n",
       "      <td>IN</td>\n",
       "      <td>India</td>\n",
       "      <td>Maynaguri</td>\n",
       "      <td>INR</td>\n",
       "      <td>43.0</td>\n",
       "      <td>6</td>\n",
       "      <td>female</td>\n",
       "      <td>bullet</td>\n",
       "    </tr>\n",
       "    <tr>\n",
       "      <th>3</th>\n",
       "      <td>200.0</td>\n",
       "      <td>200.0</td>\n",
       "      <td>Embroidery</td>\n",
       "      <td>Arts</td>\n",
       "      <td>to purchase an embroidery machine and a variet...</td>\n",
       "      <td>PK</td>\n",
       "      <td>Pakistan</td>\n",
       "      <td>Lahore</td>\n",
       "      <td>PKR</td>\n",
       "      <td>11.0</td>\n",
       "      <td>8</td>\n",
       "      <td>female</td>\n",
       "      <td>irregular</td>\n",
       "    </tr>\n",
       "    <tr>\n",
       "      <th>4</th>\n",
       "      <td>400.0</td>\n",
       "      <td>400.0</td>\n",
       "      <td>Milk Sales</td>\n",
       "      <td>Food</td>\n",
       "      <td>to purchase one buffalo.</td>\n",
       "      <td>PK</td>\n",
       "      <td>Pakistan</td>\n",
       "      <td>Abdul Hakeem</td>\n",
       "      <td>PKR</td>\n",
       "      <td>14.0</td>\n",
       "      <td>16</td>\n",
       "      <td>female</td>\n",
       "      <td>monthly</td>\n",
       "    </tr>\n",
       "  </tbody>\n",
       "</table>\n",
       "</div>"
      ],
      "text/plain": [
       "    funded_amount   loan_amount             activity          sector  \\\n",
       "0           300.0         300.0  Fruits & Vegetables            Food   \n",
       "1           575.0         575.0             Rickshaw  Transportation   \n",
       "2           150.0         150.0       Transportation  Transportation   \n",
       "3           200.0         200.0           Embroidery            Arts   \n",
       "4           400.0         400.0           Milk Sales            Food   \n",
       "\n",
       "                                                 use  country_code   country  \\\n",
       "0            To buy seasonal, fresh fruits to sell.             PK  Pakistan   \n",
       "1  to repair and maintain the auto rickshaw used ...            PK  Pakistan   \n",
       "2  To repair their old cycle-van and buy another ...            IN     India   \n",
       "3  to purchase an embroidery machine and a variet...            PK  Pakistan   \n",
       "4                           to purchase one buffalo.            PK  Pakistan   \n",
       "\n",
       "         region  currency   term_in_months   lender_count  borrower_genders  \\\n",
       "0        Lahore       PKR             12.0             12            female   \n",
       "1        Lahore       PKR             11.0             14    female, female   \n",
       "2     Maynaguri       INR             43.0              6            female   \n",
       "3        Lahore       PKR             11.0              8            female   \n",
       "4  Abdul Hakeem       PKR             14.0             16            female   \n",
       "\n",
       "   repayment_interval  \n",
       "0           irregular  \n",
       "1           irregular  \n",
       "2              bullet  \n",
       "3           irregular  \n",
       "4             monthly  "
      ]
     },
     "execution_count": 3,
     "metadata": {},
     "output_type": "execute_result"
    }
   ],
   "source": [
    "df1 = pd.read_csv(file1, index_col=0)\n",
    "df1.head()"
   ]
  },
  {
   "cell_type": "code",
   "execution_count": 4,
   "id": "77feb012",
   "metadata": {
    "ExecuteTime": {
     "end_time": "2022-06-02T11:26:38.956906Z",
     "start_time": "2022-06-02T11:26:38.943759Z"
    }
   },
   "outputs": [
    {
     "data": {
      "text/plain": [
       "(335000, 13)"
      ]
     },
     "execution_count": 4,
     "metadata": {},
     "output_type": "execute_result"
    }
   ],
   "source": [
    "df1.shape"
   ]
  },
  {
   "cell_type": "code",
   "execution_count": 5,
   "id": "431d1571",
   "metadata": {
    "ExecuteTime": {
     "end_time": "2022-06-02T11:26:39.636564Z",
     "start_time": "2022-06-02T11:26:38.958959Z"
    }
   },
   "outputs": [
    {
     "data": {
      "text/html": [
       "<div>\n",
       "<style scoped>\n",
       "    .dataframe tbody tr th:only-of-type {\n",
       "        vertical-align: middle;\n",
       "    }\n",
       "\n",
       "    .dataframe tbody tr th {\n",
       "        vertical-align: top;\n",
       "    }\n",
       "\n",
       "    .dataframe thead th {\n",
       "        text-align: right;\n",
       "    }\n",
       "</style>\n",
       "<table border=\"1\" class=\"dataframe\">\n",
       "  <thead>\n",
       "    <tr style=\"text-align: right;\">\n",
       "      <th></th>\n",
       "      <th># funded_amount# loan_amount# activity# sector# use# country_code# country# region# currency# term_in_months# lender_count# borrower_genders# repayment_interval</th>\n",
       "    </tr>\n",
       "  </thead>\n",
       "  <tbody>\n",
       "    <tr>\n",
       "      <th>0</th>\n",
       "      <td>Leyte#PHP#8.0#6#female#irregular</td>\n",
       "    </tr>\n",
       "  </tbody>\n",
       "</table>\n",
       "</div>"
      ],
      "text/plain": [
       "  # funded_amount# loan_amount# activity# sector# use# country_code# country# region# currency# term_in_months# lender_count# borrower_genders# repayment_interval\n",
       "0                   Leyte#PHP#8.0#6#female#irregular                                                                                                              "
      ]
     },
     "execution_count": 5,
     "metadata": {},
     "output_type": "execute_result"
    }
   ],
   "source": [
    "df2 = pd.read_csv(file2, usecols=[1])\n",
    "df2.head(1)"
   ]
  },
  {
   "cell_type": "markdown",
   "id": "517029c5",
   "metadata": {},
   "source": [
    "Beim Import der Datei gab es einen Fehler. Das Einlesen der ersten Spalte klappte hingegen und wie man sehen kann, muss das Trennzeichen (hier auf #) angepasst werden."
   ]
  },
  {
   "cell_type": "code",
   "execution_count": 6,
   "id": "ba0f3237",
   "metadata": {
    "ExecuteTime": {
     "end_time": "2022-06-02T11:26:40.647601Z",
     "start_time": "2022-06-02T11:26:39.638590Z"
    }
   },
   "outputs": [
    {
     "data": {
      "text/html": [
       "<div>\n",
       "<style scoped>\n",
       "    .dataframe tbody tr th:only-of-type {\n",
       "        vertical-align: middle;\n",
       "    }\n",
       "\n",
       "    .dataframe tbody tr th {\n",
       "        vertical-align: top;\n",
       "    }\n",
       "\n",
       "    .dataframe thead th {\n",
       "        text-align: right;\n",
       "    }\n",
       "</style>\n",
       "<table border=\"1\" class=\"dataframe\">\n",
       "  <thead>\n",
       "    <tr style=\"text-align: right;\">\n",
       "      <th></th>\n",
       "      <th>funded_amount</th>\n",
       "      <th>loan_amount</th>\n",
       "      <th>activity</th>\n",
       "      <th>sector</th>\n",
       "      <th>use</th>\n",
       "      <th>country_code</th>\n",
       "      <th>country</th>\n",
       "      <th>region</th>\n",
       "      <th>currency</th>\n",
       "      <th>term_in_months</th>\n",
       "      <th>lender_count</th>\n",
       "      <th>borrower_genders</th>\n",
       "      <th>repayment_interval</th>\n",
       "    </tr>\n",
       "  </thead>\n",
       "  <tbody>\n",
       "    <tr>\n",
       "      <th>0</th>\n",
       "      <td>175.0</td>\n",
       "      <td>175.0</td>\n",
       "      <td>Liquor Store / Off-License</td>\n",
       "      <td>Food</td>\n",
       "      <td>to purchase additional stock of coconut wine t...</td>\n",
       "      <td>PH</td>\n",
       "      <td>Philippines</td>\n",
       "      <td>Palo, Leyte</td>\n",
       "      <td>PHP</td>\n",
       "      <td>8.0</td>\n",
       "      <td>6</td>\n",
       "      <td>female</td>\n",
       "      <td>irregular</td>\n",
       "    </tr>\n",
       "    <tr>\n",
       "      <th>1</th>\n",
       "      <td>325.0</td>\n",
       "      <td>325.0</td>\n",
       "      <td>Livestock</td>\n",
       "      <td>Agriculture</td>\n",
       "      <td>to buy 3 zebus and food to fatten them up.</td>\n",
       "      <td>MG</td>\n",
       "      <td>Madagascar</td>\n",
       "      <td>Antsirabe</td>\n",
       "      <td>MGA</td>\n",
       "      <td>12.0</td>\n",
       "      <td>13</td>\n",
       "      <td>female</td>\n",
       "      <td>monthly</td>\n",
       "    </tr>\n",
       "    <tr>\n",
       "      <th>2</th>\n",
       "      <td>550.0</td>\n",
       "      <td>550.0</td>\n",
       "      <td>Food Stall</td>\n",
       "      <td>Food</td>\n",
       "      <td>to buy ingredients for her food-vending busine...</td>\n",
       "      <td>PH</td>\n",
       "      <td>Philippines</td>\n",
       "      <td>Cordova, Cebu</td>\n",
       "      <td>PHP</td>\n",
       "      <td>5.0</td>\n",
       "      <td>6</td>\n",
       "      <td>female</td>\n",
       "      <td>irregular</td>\n",
       "    </tr>\n",
       "    <tr>\n",
       "      <th>3</th>\n",
       "      <td>1300.0</td>\n",
       "      <td>1300.0</td>\n",
       "      <td>Cattle</td>\n",
       "      <td>Agriculture</td>\n",
       "      <td>to buy one head of cattle.</td>\n",
       "      <td>EG</td>\n",
       "      <td>Egypt</td>\n",
       "      <td>Baniswef</td>\n",
       "      <td>EGP</td>\n",
       "      <td>14.0</td>\n",
       "      <td>50</td>\n",
       "      <td>male</td>\n",
       "      <td>monthly</td>\n",
       "    </tr>\n",
       "    <tr>\n",
       "      <th>4</th>\n",
       "      <td>900.0</td>\n",
       "      <td>900.0</td>\n",
       "      <td>Consumer Goods</td>\n",
       "      <td>Personal Use</td>\n",
       "      <td>to buy consumer goods amongst others.</td>\n",
       "      <td>PE</td>\n",
       "      <td>Peru</td>\n",
       "      <td>Urubamba - Urubamba - Cusco</td>\n",
       "      <td>PEN</td>\n",
       "      <td>6.0</td>\n",
       "      <td>1</td>\n",
       "      <td>female</td>\n",
       "      <td>irregular</td>\n",
       "    </tr>\n",
       "  </tbody>\n",
       "</table>\n",
       "</div>"
      ],
      "text/plain": [
       "    funded_amount   loan_amount                    activity        sector  \\\n",
       "0           175.0         175.0  Liquor Store / Off-License          Food   \n",
       "1           325.0         325.0                   Livestock   Agriculture   \n",
       "2           550.0         550.0                  Food Stall          Food   \n",
       "3          1300.0        1300.0                      Cattle   Agriculture   \n",
       "4           900.0         900.0              Consumer Goods  Personal Use   \n",
       "\n",
       "                                                 use  country_code  \\\n",
       "0  to purchase additional stock of coconut wine t...            PH   \n",
       "1         to buy 3 zebus and food to fatten them up.            MG   \n",
       "2  to buy ingredients for her food-vending busine...            PH   \n",
       "3                         to buy one head of cattle.            EG   \n",
       "4              to buy consumer goods amongst others.            PE   \n",
       "\n",
       "       country                       region  currency   term_in_months  \\\n",
       "0  Philippines                  Palo, Leyte       PHP              8.0   \n",
       "1   Madagascar                    Antsirabe       MGA             12.0   \n",
       "2  Philippines                Cordova, Cebu       PHP              5.0   \n",
       "3        Egypt                     Baniswef       EGP             14.0   \n",
       "4         Peru  Urubamba - Urubamba - Cusco       PEN              6.0   \n",
       "\n",
       "    lender_count  borrower_genders  repayment_interval  \n",
       "0              6            female           irregular  \n",
       "1             13            female             monthly  \n",
       "2              6            female           irregular  \n",
       "3             50              male             monthly  \n",
       "4              1            female           irregular  "
      ]
     },
     "execution_count": 6,
     "metadata": {},
     "output_type": "execute_result"
    }
   ],
   "source": [
    "df2 = pd.read_csv(file2,\n",
    "                  delimiter='#', # Trennzeichen muss angepasst werden\n",
    "                  index_col=0\n",
    "                 ) \n",
    "df2.head()"
   ]
  },
  {
   "cell_type": "code",
   "execution_count": 7,
   "id": "cdfd4b95",
   "metadata": {
    "ExecuteTime": {
     "end_time": "2022-06-02T11:26:40.667670Z",
     "start_time": "2022-06-02T11:26:40.647601Z"
    }
   },
   "outputs": [
    {
     "data": {
      "text/plain": [
       "(336205, 13)"
      ]
     },
     "execution_count": 7,
     "metadata": {},
     "output_type": "execute_result"
    }
   ],
   "source": [
    "df2.shape"
   ]
  },
  {
   "cell_type": "markdown",
   "id": "f01ff03a",
   "metadata": {},
   "source": [
    "### Zusammenfügen der Datensätze\n",
    "\n",
    "Nachdem nun beide Datensätze eingelesen wurden, konnten diese miteinander verglichen werden. Beide Datensätze bestehen aus der selben Anzahl an Spalten (hier sind es 13 an der Zahl) und können somit zeilenweise verbunden werden (d.h. es gibt keine neuen Eigenschaften im zweiten Datensatz und die Daten können einfach unten angehangen werden)"
   ]
  },
  {
   "cell_type": "code",
   "execution_count": 8,
   "id": "caa68d91",
   "metadata": {
    "ExecuteTime": {
     "end_time": "2022-06-02T11:26:40.809064Z",
     "start_time": "2022-06-02T11:26:40.669729Z"
    }
   },
   "outputs": [
    {
     "data": {
      "text/html": [
       "<div>\n",
       "<style scoped>\n",
       "    .dataframe tbody tr th:only-of-type {\n",
       "        vertical-align: middle;\n",
       "    }\n",
       "\n",
       "    .dataframe tbody tr th {\n",
       "        vertical-align: top;\n",
       "    }\n",
       "\n",
       "    .dataframe thead th {\n",
       "        text-align: right;\n",
       "    }\n",
       "</style>\n",
       "<table border=\"1\" class=\"dataframe\">\n",
       "  <thead>\n",
       "    <tr style=\"text-align: right;\">\n",
       "      <th></th>\n",
       "      <th>funded_amount</th>\n",
       "      <th>loan_amount</th>\n",
       "      <th>activity</th>\n",
       "      <th>sector</th>\n",
       "      <th>use</th>\n",
       "      <th>country_code</th>\n",
       "      <th>country</th>\n",
       "      <th>region</th>\n",
       "      <th>currency</th>\n",
       "      <th>term_in_months</th>\n",
       "      <th>lender_count</th>\n",
       "      <th>borrower_genders</th>\n",
       "      <th>repayment_interval</th>\n",
       "    </tr>\n",
       "  </thead>\n",
       "  <tbody>\n",
       "    <tr>\n",
       "      <th>0</th>\n",
       "      <td>300.0</td>\n",
       "      <td>300.0</td>\n",
       "      <td>Fruits &amp; Vegetables</td>\n",
       "      <td>Food</td>\n",
       "      <td>To buy seasonal, fresh fruits to sell.</td>\n",
       "      <td>PK</td>\n",
       "      <td>Pakistan</td>\n",
       "      <td>Lahore</td>\n",
       "      <td>PKR</td>\n",
       "      <td>12.0</td>\n",
       "      <td>12</td>\n",
       "      <td>female</td>\n",
       "      <td>irregular</td>\n",
       "    </tr>\n",
       "    <tr>\n",
       "      <th>1</th>\n",
       "      <td>575.0</td>\n",
       "      <td>575.0</td>\n",
       "      <td>Rickshaw</td>\n",
       "      <td>Transportation</td>\n",
       "      <td>to repair and maintain the auto rickshaw used ...</td>\n",
       "      <td>PK</td>\n",
       "      <td>Pakistan</td>\n",
       "      <td>Lahore</td>\n",
       "      <td>PKR</td>\n",
       "      <td>11.0</td>\n",
       "      <td>14</td>\n",
       "      <td>female, female</td>\n",
       "      <td>irregular</td>\n",
       "    </tr>\n",
       "    <tr>\n",
       "      <th>2</th>\n",
       "      <td>150.0</td>\n",
       "      <td>150.0</td>\n",
       "      <td>Transportation</td>\n",
       "      <td>Transportation</td>\n",
       "      <td>To repair their old cycle-van and buy another ...</td>\n",
       "      <td>IN</td>\n",
       "      <td>India</td>\n",
       "      <td>Maynaguri</td>\n",
       "      <td>INR</td>\n",
       "      <td>43.0</td>\n",
       "      <td>6</td>\n",
       "      <td>female</td>\n",
       "      <td>bullet</td>\n",
       "    </tr>\n",
       "    <tr>\n",
       "      <th>3</th>\n",
       "      <td>200.0</td>\n",
       "      <td>200.0</td>\n",
       "      <td>Embroidery</td>\n",
       "      <td>Arts</td>\n",
       "      <td>to purchase an embroidery machine and a variet...</td>\n",
       "      <td>PK</td>\n",
       "      <td>Pakistan</td>\n",
       "      <td>Lahore</td>\n",
       "      <td>PKR</td>\n",
       "      <td>11.0</td>\n",
       "      <td>8</td>\n",
       "      <td>female</td>\n",
       "      <td>irregular</td>\n",
       "    </tr>\n",
       "    <tr>\n",
       "      <th>4</th>\n",
       "      <td>400.0</td>\n",
       "      <td>400.0</td>\n",
       "      <td>Milk Sales</td>\n",
       "      <td>Food</td>\n",
       "      <td>to purchase one buffalo.</td>\n",
       "      <td>PK</td>\n",
       "      <td>Pakistan</td>\n",
       "      <td>Abdul Hakeem</td>\n",
       "      <td>PKR</td>\n",
       "      <td>14.0</td>\n",
       "      <td>16</td>\n",
       "      <td>female</td>\n",
       "      <td>monthly</td>\n",
       "    </tr>\n",
       "    <tr>\n",
       "      <th>...</th>\n",
       "      <td>...</td>\n",
       "      <td>...</td>\n",
       "      <td>...</td>\n",
       "      <td>...</td>\n",
       "      <td>...</td>\n",
       "      <td>...</td>\n",
       "      <td>...</td>\n",
       "      <td>...</td>\n",
       "      <td>...</td>\n",
       "      <td>...</td>\n",
       "      <td>...</td>\n",
       "      <td>...</td>\n",
       "      <td>...</td>\n",
       "    </tr>\n",
       "    <tr>\n",
       "      <th>336200</th>\n",
       "      <td>0.0</td>\n",
       "      <td>25.0</td>\n",
       "      <td>Livestock</td>\n",
       "      <td>Agriculture</td>\n",
       "      <td>[True, u'para compara: cemento, arenya y ladri...</td>\n",
       "      <td>PY</td>\n",
       "      <td>Paraguay</td>\n",
       "      <td>Concepción</td>\n",
       "      <td>USD</td>\n",
       "      <td>13.0</td>\n",
       "      <td>0</td>\n",
       "      <td>female</td>\n",
       "      <td>monthly</td>\n",
       "    </tr>\n",
       "    <tr>\n",
       "      <th>336201</th>\n",
       "      <td>25.0</td>\n",
       "      <td>25.0</td>\n",
       "      <td>Livestock</td>\n",
       "      <td>Agriculture</td>\n",
       "      <td>[True, u'to start a turducken farm.'] - this l...</td>\n",
       "      <td>KE</td>\n",
       "      <td>Kenya</td>\n",
       "      <td>NaN</td>\n",
       "      <td>KES</td>\n",
       "      <td>13.0</td>\n",
       "      <td>1</td>\n",
       "      <td>female</td>\n",
       "      <td>monthly</td>\n",
       "    </tr>\n",
       "    <tr>\n",
       "      <th>336202</th>\n",
       "      <td>0.0</td>\n",
       "      <td>25.0</td>\n",
       "      <td>Games</td>\n",
       "      <td>Entertainment</td>\n",
       "      <td>NaN</td>\n",
       "      <td>KE</td>\n",
       "      <td>Kenya</td>\n",
       "      <td>NaN</td>\n",
       "      <td>KES</td>\n",
       "      <td>13.0</td>\n",
       "      <td>0</td>\n",
       "      <td>NaN</td>\n",
       "      <td>monthly</td>\n",
       "    </tr>\n",
       "    <tr>\n",
       "      <th>336203</th>\n",
       "      <td>0.0</td>\n",
       "      <td>25.0</td>\n",
       "      <td>Livestock</td>\n",
       "      <td>Agriculture</td>\n",
       "      <td>[True, u'to start a turducken farm.'] - this l...</td>\n",
       "      <td>KE</td>\n",
       "      <td>Kenya</td>\n",
       "      <td>NaN</td>\n",
       "      <td>KES</td>\n",
       "      <td>13.0</td>\n",
       "      <td>0</td>\n",
       "      <td>female</td>\n",
       "      <td>monthly</td>\n",
       "    </tr>\n",
       "    <tr>\n",
       "      <th>336204</th>\n",
       "      <td>0.0</td>\n",
       "      <td>25.0</td>\n",
       "      <td>Livestock</td>\n",
       "      <td>Agriculture</td>\n",
       "      <td>[True, u'to start a turducken farm.'] - this l...</td>\n",
       "      <td>KE</td>\n",
       "      <td>Kenya</td>\n",
       "      <td>NaN</td>\n",
       "      <td>KES</td>\n",
       "      <td>13.0</td>\n",
       "      <td>0</td>\n",
       "      <td>female</td>\n",
       "      <td>monthly</td>\n",
       "    </tr>\n",
       "  </tbody>\n",
       "</table>\n",
       "<p>671205 rows × 13 columns</p>\n",
       "</div>"
      ],
      "text/plain": [
       "         funded_amount   loan_amount             activity          sector  \\\n",
       "0                300.0         300.0  Fruits & Vegetables            Food   \n",
       "1                575.0         575.0             Rickshaw  Transportation   \n",
       "2                150.0         150.0       Transportation  Transportation   \n",
       "3                200.0         200.0           Embroidery            Arts   \n",
       "4                400.0         400.0           Milk Sales            Food   \n",
       "...                ...           ...                  ...             ...   \n",
       "336200             0.0          25.0            Livestock     Agriculture   \n",
       "336201            25.0          25.0            Livestock     Agriculture   \n",
       "336202             0.0          25.0                Games   Entertainment   \n",
       "336203             0.0          25.0            Livestock     Agriculture   \n",
       "336204             0.0          25.0            Livestock     Agriculture   \n",
       "\n",
       "                                                      use  country_code  \\\n",
       "0                 To buy seasonal, fresh fruits to sell.             PK   \n",
       "1       to repair and maintain the auto rickshaw used ...            PK   \n",
       "2       To repair their old cycle-van and buy another ...            IN   \n",
       "3       to purchase an embroidery machine and a variet...            PK   \n",
       "4                                to purchase one buffalo.            PK   \n",
       "...                                                   ...           ...   \n",
       "336200  [True, u'para compara: cemento, arenya y ladri...            PY   \n",
       "336201  [True, u'to start a turducken farm.'] - this l...            KE   \n",
       "336202                                                NaN            KE   \n",
       "336203  [True, u'to start a turducken farm.'] - this l...            KE   \n",
       "336204  [True, u'to start a turducken farm.'] - this l...            KE   \n",
       "\n",
       "         country        region  currency   term_in_months   lender_count  \\\n",
       "0       Pakistan        Lahore       PKR             12.0             12   \n",
       "1       Pakistan        Lahore       PKR             11.0             14   \n",
       "2          India     Maynaguri       INR             43.0              6   \n",
       "3       Pakistan        Lahore       PKR             11.0              8   \n",
       "4       Pakistan  Abdul Hakeem       PKR             14.0             16   \n",
       "...          ...           ...       ...              ...            ...   \n",
       "336200  Paraguay    Concepción       USD             13.0              0   \n",
       "336201     Kenya           NaN       KES             13.0              1   \n",
       "336202     Kenya           NaN       KES             13.0              0   \n",
       "336203     Kenya           NaN       KES             13.0              0   \n",
       "336204     Kenya           NaN       KES             13.0              0   \n",
       "\n",
       "        borrower_genders  repayment_interval  \n",
       "0                 female           irregular  \n",
       "1         female, female           irregular  \n",
       "2                 female              bullet  \n",
       "3                 female           irregular  \n",
       "4                 female             monthly  \n",
       "...                  ...                 ...  \n",
       "336200            female             monthly  \n",
       "336201            female             monthly  \n",
       "336202               NaN             monthly  \n",
       "336203            female             monthly  \n",
       "336204            female             monthly  \n",
       "\n",
       "[671205 rows x 13 columns]"
      ]
     },
     "execution_count": 8,
     "metadata": {},
     "output_type": "execute_result"
    }
   ],
   "source": [
    "df = pd.concat([df1, df2], axis=0)\n",
    "df"
   ]
  },
  {
   "cell_type": "markdown",
   "id": "36586eff",
   "metadata": {},
   "source": [
    "### Prüfung des Resultates\n",
    "\n",
    "Es wird geprüft, ob das Zusammenfügen der Dateien geklappt hat. Wir kennen die Dimensionen (Anzahl der Zeilen/Spalten) der ersten beiden Datensätze und können dies mit dem kompletten Datensatz vergleichen. Da wir die Daten als neue Zeilen unter den ersten angefügt haben, darf sich die Anzahl der Spalten nicht verändert haben, die Zeilen jedoch sollten der Summe aus Datensatz1 und Datensatz2 entsprechen."
   ]
  },
  {
   "cell_type": "code",
   "execution_count": 9,
   "id": "d6f80507",
   "metadata": {
    "ExecuteTime": {
     "end_time": "2022-06-02T11:26:40.829129Z",
     "start_time": "2022-06-02T11:26:40.811089Z"
    }
   },
   "outputs": [
    {
     "name": "stdout",
     "output_type": "stream",
     "text": [
      "Alle Datensätze haben die gleiche Spaltenanzahl!\n",
      "\n",
      "Zeilenweises Zusammenfügen hat funktioniert!\n",
      "\n",
      "Der komplette Datensatz besteht aus 671205 Zeilen und 13 Spalten\n"
     ]
    }
   ],
   "source": [
    "if df1.shape[1] == df2.shape[1] & df1.shape[1] == df.shape[1]:\n",
    "    print('Alle Datensätze haben die gleiche Spaltenanzahl!\\n')\n",
    "\n",
    "if df.shape[0] == df1.shape[0] + df2.shape[0]:\n",
    "    print('Zeilenweises Zusammenfügen hat funktioniert!\\n')\n",
    "    print(\n",
    "        'Der komplette Datensatz besteht aus {rows} Zeilen und {columns} Spalten'\n",
    "        .format(rows=df.shape[0], columns=df.shape[1]))"
   ]
  },
  {
   "cell_type": "markdown",
   "id": "ff1be20f",
   "metadata": {},
   "source": [
    "Das Zusammenfügen hat funktioniert. Nun sotiere ich den Datensatz noch nach dem Land und setze den Index entsprechend zurück. Anschließend können wir uns den Datensatz etwas genauer anschauen."
   ]
  },
  {
   "cell_type": "markdown",
   "id": "3f4487c9",
   "metadata": {},
   "source": [
    "## Preprocessing des Datensatzes\n",
    "\n",
    "Nachfolgend wird der Datensatz nach folgenden Gesichtspunkten geprüft:\n",
    "\n",
    "- erste grobe statistische Übersicht anzeigen\n",
    "- unnötige Leerzeichen bei Zeichenketten (um später die daten besser selektieren zu können)\n",
    "- passen die Datentypen zu dem Inhalt der Spalten\n",
    "- fehlende Werte (sowohl reale als auch synonymisierte Werte)\n",
    "- können Daten kategorisiert werden (z.B. einige wenige Werte für ganz viele Zeilen)"
   ]
  },
  {
   "cell_type": "markdown",
   "id": "8b5d8d97",
   "metadata": {},
   "source": [
    "### Einfache statistische Übersicht"
   ]
  },
  {
   "cell_type": "code",
   "execution_count": 10,
   "id": "f8632d3f",
   "metadata": {
    "ExecuteTime": {
     "end_time": "2022-06-02T11:26:40.922888Z",
     "start_time": "2022-06-02T11:26:40.829129Z"
    }
   },
   "outputs": [
    {
     "data": {
      "text/html": [
       "<div>\n",
       "<style scoped>\n",
       "    .dataframe tbody tr th:only-of-type {\n",
       "        vertical-align: middle;\n",
       "    }\n",
       "\n",
       "    .dataframe tbody tr th {\n",
       "        vertical-align: top;\n",
       "    }\n",
       "\n",
       "    .dataframe thead th {\n",
       "        text-align: right;\n",
       "    }\n",
       "</style>\n",
       "<table border=\"1\" class=\"dataframe\">\n",
       "  <thead>\n",
       "    <tr style=\"text-align: right;\">\n",
       "      <th></th>\n",
       "      <th>funded_amount</th>\n",
       "      <th>loan_amount</th>\n",
       "      <th>term_in_months</th>\n",
       "      <th>lender_count</th>\n",
       "    </tr>\n",
       "  </thead>\n",
       "  <tbody>\n",
       "    <tr>\n",
       "      <th>count</th>\n",
       "      <td>671205.000000</td>\n",
       "      <td>671205.000000</td>\n",
       "      <td>671205.000000</td>\n",
       "      <td>671205.000000</td>\n",
       "    </tr>\n",
       "    <tr>\n",
       "      <th>mean</th>\n",
       "      <td>785.995061</td>\n",
       "      <td>842.397107</td>\n",
       "      <td>13.739022</td>\n",
       "      <td>20.590922</td>\n",
       "    </tr>\n",
       "    <tr>\n",
       "      <th>std</th>\n",
       "      <td>1130.398941</td>\n",
       "      <td>1198.660073</td>\n",
       "      <td>8.598919</td>\n",
       "      <td>28.459551</td>\n",
       "    </tr>\n",
       "    <tr>\n",
       "      <th>min</th>\n",
       "      <td>0.000000</td>\n",
       "      <td>25.000000</td>\n",
       "      <td>1.000000</td>\n",
       "      <td>0.000000</td>\n",
       "    </tr>\n",
       "    <tr>\n",
       "      <th>25%</th>\n",
       "      <td>250.000000</td>\n",
       "      <td>275.000000</td>\n",
       "      <td>8.000000</td>\n",
       "      <td>7.000000</td>\n",
       "    </tr>\n",
       "    <tr>\n",
       "      <th>50%</th>\n",
       "      <td>450.000000</td>\n",
       "      <td>500.000000</td>\n",
       "      <td>13.000000</td>\n",
       "      <td>13.000000</td>\n",
       "    </tr>\n",
       "    <tr>\n",
       "      <th>75%</th>\n",
       "      <td>900.000000</td>\n",
       "      <td>1000.000000</td>\n",
       "      <td>14.000000</td>\n",
       "      <td>24.000000</td>\n",
       "    </tr>\n",
       "    <tr>\n",
       "      <th>max</th>\n",
       "      <td>100000.000000</td>\n",
       "      <td>100000.000000</td>\n",
       "      <td>158.000000</td>\n",
       "      <td>2986.000000</td>\n",
       "    </tr>\n",
       "  </tbody>\n",
       "</table>\n",
       "</div>"
      ],
      "text/plain": [
       "        funded_amount    loan_amount   term_in_months   lender_count\n",
       "count   671205.000000  671205.000000    671205.000000  671205.000000\n",
       "mean       785.995061     842.397107        13.739022      20.590922\n",
       "std       1130.398941    1198.660073         8.598919      28.459551\n",
       "min          0.000000      25.000000         1.000000       0.000000\n",
       "25%        250.000000     275.000000         8.000000       7.000000\n",
       "50%        450.000000     500.000000        13.000000      13.000000\n",
       "75%        900.000000    1000.000000        14.000000      24.000000\n",
       "max     100000.000000  100000.000000       158.000000    2986.000000"
      ]
     },
     "execution_count": 10,
     "metadata": {},
     "output_type": "execute_result"
    }
   ],
   "source": [
    "df.describe()"
   ]
  },
  {
   "cell_type": "markdown",
   "id": "6de6059a",
   "metadata": {},
   "source": [
    "Hier fällt auf, das wir in den Spalten **funded_amount** und **lender_count** als Minimalwert '0' angegeben haben. Das könnte ein ersten Hinweis auf fehlende Werte sein. Vielleicht hängen beide Werte voneinander ab, denn wo kein Dahrlehensgeber ist, da kann auch kein Geld geflossen sein. Aber dies wird zu einem späteren Zeitpunkt überprüft."
   ]
  },
  {
   "cell_type": "code",
   "execution_count": 11,
   "id": "4257c86c",
   "metadata": {
    "ExecuteTime": {
     "end_time": "2022-06-02T11:26:41.404319Z",
     "start_time": "2022-06-02T11:26:40.922888Z"
    }
   },
   "outputs": [
    {
     "data": {
      "text/plain": [
       " funded_amount            610\n",
       " loan_amount              479\n",
       " activity                 163\n",
       " sector                    15\n",
       " use                   424912\n",
       " country_code              86\n",
       " country                   87\n",
       " region                 12695\n",
       " currency                  67\n",
       " term_in_months           148\n",
       " lender_count             503\n",
       " borrower_genders       11298\n",
       " repayment_interval         4\n",
       "dtype: int64"
      ]
     },
     "execution_count": 11,
     "metadata": {},
     "output_type": "execute_result"
    }
   ],
   "source": [
    "df.nunique()"
   ]
  },
  {
   "cell_type": "markdown",
   "id": "0f88404d",
   "metadata": {},
   "source": [
    "Hier fällt der besonders hohe Anteil der einzigartigen Werte in der Spalte **borrower_genders** auf. Beim Geschlecht geht man erstmal von einer geringeren Anzahl aus (nach heutigem Standard sind es drei), doch hier scheint man davon abzuweichen. Wir werden später prüfen, was es damit aufsich hat."
   ]
  },
  {
   "cell_type": "markdown",
   "id": "f4f87afe",
   "metadata": {},
   "source": [
    "### Leerzeichen in Spaltenüberschriften\n",
    "\n",
    "Es wird geprüft, ob es Leerzeichen in den Spaltenbeschriftungen gibt, welche das spätere selektieren/filtern der Daten beeinträchtigen kann. Wenn vorhanden, werden diese schließlich entfernt."
   ]
  },
  {
   "cell_type": "code",
   "execution_count": 12,
   "id": "b29e2bdd",
   "metadata": {
    "ExecuteTime": {
     "end_time": "2022-06-02T11:26:41.427082Z",
     "start_time": "2022-06-02T11:26:41.404319Z"
    }
   },
   "outputs": [
    {
     "name": "stdout",
     "output_type": "stream",
     "text": [
      "Überschriften vorher:\n"
     ]
    },
    {
     "data": {
      "text/plain": [
       "Index([' funded_amount', ' loan_amount', ' activity', ' sector', ' use',\n",
       "       ' country_code', ' country', ' region', ' currency', ' term_in_months',\n",
       "       ' lender_count', ' borrower_genders', ' repayment_interval'],\n",
       "      dtype='object')"
      ]
     },
     "execution_count": 12,
     "metadata": {},
     "output_type": "execute_result"
    }
   ],
   "source": [
    "print('Überschriften vorher:')\n",
    "df.columns"
   ]
  },
  {
   "cell_type": "code",
   "execution_count": 13,
   "id": "cea0b2ab",
   "metadata": {
    "ExecuteTime": {
     "end_time": "2022-06-02T11:26:41.442689Z",
     "start_time": "2022-06-02T11:26:41.427082Z"
    }
   },
   "outputs": [],
   "source": [
    "for column in df.columns:\n",
    "    if column[0].isspace():\n",
    "        df.rename(columns=lambda column: column.strip(), inplace=True)"
   ]
  },
  {
   "cell_type": "code",
   "execution_count": 14,
   "id": "5427d53c",
   "metadata": {
    "ExecuteTime": {
     "end_time": "2022-06-02T11:26:41.458329Z",
     "start_time": "2022-06-02T11:26:41.442689Z"
    }
   },
   "outputs": [
    {
     "name": "stdout",
     "output_type": "stream",
     "text": [
      "Überschriften nacher:\n"
     ]
    },
    {
     "data": {
      "text/plain": [
       "Index(['funded_amount', 'loan_amount', 'activity', 'sector', 'use',\n",
       "       'country_code', 'country', 'region', 'currency', 'term_in_months',\n",
       "       'lender_count', 'borrower_genders', 'repayment_interval'],\n",
       "      dtype='object')"
      ]
     },
     "execution_count": 14,
     "metadata": {},
     "output_type": "execute_result"
    }
   ],
   "source": [
    "#check, ob Verarbeitung geklappt hat\n",
    "\n",
    "print('Überschriften nacher:')\n",
    "df.columns"
   ]
  },
  {
   "cell_type": "markdown",
   "id": "4bbbfb89",
   "metadata": {},
   "source": [
    "### Sortieren und neu indizieren"
   ]
  },
  {
   "cell_type": "code",
   "execution_count": 15,
   "id": "58b1da9e",
   "metadata": {
    "ExecuteTime": {
     "end_time": "2022-06-02T11:26:42.141250Z",
     "start_time": "2022-06-02T11:26:41.458329Z"
    }
   },
   "outputs": [],
   "source": [
    "df.sort_values(by=['country'], inplace=True)"
   ]
  },
  {
   "cell_type": "code",
   "execution_count": 16,
   "id": "92ed9d9a",
   "metadata": {
    "ExecuteTime": {
     "end_time": "2022-06-02T11:26:42.187497Z",
     "start_time": "2022-06-02T11:26:42.141250Z"
    }
   },
   "outputs": [
    {
     "data": {
      "text/html": [
       "<div>\n",
       "<style scoped>\n",
       "    .dataframe tbody tr th:only-of-type {\n",
       "        vertical-align: middle;\n",
       "    }\n",
       "\n",
       "    .dataframe tbody tr th {\n",
       "        vertical-align: top;\n",
       "    }\n",
       "\n",
       "    .dataframe thead th {\n",
       "        text-align: right;\n",
       "    }\n",
       "</style>\n",
       "<table border=\"1\" class=\"dataframe\">\n",
       "  <thead>\n",
       "    <tr style=\"text-align: right;\">\n",
       "      <th></th>\n",
       "      <th>funded_amount</th>\n",
       "      <th>loan_amount</th>\n",
       "      <th>activity</th>\n",
       "      <th>sector</th>\n",
       "      <th>use</th>\n",
       "      <th>country_code</th>\n",
       "      <th>country</th>\n",
       "      <th>region</th>\n",
       "      <th>currency</th>\n",
       "      <th>term_in_months</th>\n",
       "      <th>lender_count</th>\n",
       "      <th>borrower_genders</th>\n",
       "      <th>repayment_interval</th>\n",
       "    </tr>\n",
       "  </thead>\n",
       "  <tbody>\n",
       "    <tr>\n",
       "      <th>0</th>\n",
       "      <td>8000.0</td>\n",
       "      <td>8000.0</td>\n",
       "      <td>Textiles</td>\n",
       "      <td>Arts</td>\n",
       "      <td>To purchase raw materials, including fabrics, ...</td>\n",
       "      <td>AF</td>\n",
       "      <td>Afghanistan</td>\n",
       "      <td>Kandahar City</td>\n",
       "      <td>USD</td>\n",
       "      <td>6.0</td>\n",
       "      <td>308</td>\n",
       "      <td>female</td>\n",
       "      <td>bullet</td>\n",
       "    </tr>\n",
       "    <tr>\n",
       "      <th>1</th>\n",
       "      <td>6000.0</td>\n",
       "      <td>6000.0</td>\n",
       "      <td>Textiles</td>\n",
       "      <td>Arts</td>\n",
       "      <td>To buy 9 sewing machines that will increase pr...</td>\n",
       "      <td>AF</td>\n",
       "      <td>Afghanistan</td>\n",
       "      <td>Kandahar City</td>\n",
       "      <td>USD</td>\n",
       "      <td>8.0</td>\n",
       "      <td>204</td>\n",
       "      <td>female</td>\n",
       "      <td>bullet</td>\n",
       "    </tr>\n",
       "    <tr>\n",
       "      <th>2</th>\n",
       "      <td>825.0</td>\n",
       "      <td>825.0</td>\n",
       "      <td>Agriculture</td>\n",
       "      <td>Agriculture</td>\n",
       "      <td>to buy a dairy cow</td>\n",
       "      <td>AL</td>\n",
       "      <td>Albania</td>\n",
       "      <td>Korce</td>\n",
       "      <td>ALL</td>\n",
       "      <td>20.0</td>\n",
       "      <td>26</td>\n",
       "      <td>female</td>\n",
       "      <td>monthly</td>\n",
       "    </tr>\n",
       "    <tr>\n",
       "      <th>3</th>\n",
       "      <td>2775.0</td>\n",
       "      <td>2775.0</td>\n",
       "      <td>Agriculture</td>\n",
       "      <td>Agriculture</td>\n",
       "      <td>to repair the damaged animal stable and also d...</td>\n",
       "      <td>AL</td>\n",
       "      <td>Albania</td>\n",
       "      <td>Korce</td>\n",
       "      <td>ALL</td>\n",
       "      <td>26.0</td>\n",
       "      <td>101</td>\n",
       "      <td>male</td>\n",
       "      <td>monthly</td>\n",
       "    </tr>\n",
       "    <tr>\n",
       "      <th>4</th>\n",
       "      <td>825.0</td>\n",
       "      <td>825.0</td>\n",
       "      <td>Personal Housing Expenses</td>\n",
       "      <td>Housing</td>\n",
       "      <td>to repair windows and doors in her house.</td>\n",
       "      <td>AL</td>\n",
       "      <td>Albania</td>\n",
       "      <td>Korce</td>\n",
       "      <td>ALL</td>\n",
       "      <td>14.0</td>\n",
       "      <td>32</td>\n",
       "      <td>female</td>\n",
       "      <td>monthly</td>\n",
       "    </tr>\n",
       "    <tr>\n",
       "      <th>...</th>\n",
       "      <td>...</td>\n",
       "      <td>...</td>\n",
       "      <td>...</td>\n",
       "      <td>...</td>\n",
       "      <td>...</td>\n",
       "      <td>...</td>\n",
       "      <td>...</td>\n",
       "      <td>...</td>\n",
       "      <td>...</td>\n",
       "      <td>...</td>\n",
       "      <td>...</td>\n",
       "      <td>...</td>\n",
       "      <td>...</td>\n",
       "    </tr>\n",
       "    <tr>\n",
       "      <th>671200</th>\n",
       "      <td>1900.0</td>\n",
       "      <td>1900.0</td>\n",
       "      <td>Poultry</td>\n",
       "      <td>Agriculture</td>\n",
       "      <td>To expand her production of chickens.</td>\n",
       "      <td>ZW</td>\n",
       "      <td>Zimbabwe</td>\n",
       "      <td>Harare</td>\n",
       "      <td>USD</td>\n",
       "      <td>8.0</td>\n",
       "      <td>69</td>\n",
       "      <td>female, female, female, female</td>\n",
       "      <td>monthly</td>\n",
       "    </tr>\n",
       "    <tr>\n",
       "      <th>671201</th>\n",
       "      <td>1500.0</td>\n",
       "      <td>1500.0</td>\n",
       "      <td>Clothing</td>\n",
       "      <td>Clothing</td>\n",
       "      <td>to buy clothes and school uniforms for resale.</td>\n",
       "      <td>ZW</td>\n",
       "      <td>Zimbabwe</td>\n",
       "      <td>GOKWE</td>\n",
       "      <td>USD</td>\n",
       "      <td>8.0</td>\n",
       "      <td>36</td>\n",
       "      <td>female</td>\n",
       "      <td>monthly</td>\n",
       "    </tr>\n",
       "    <tr>\n",
       "      <th>671202</th>\n",
       "      <td>500.0</td>\n",
       "      <td>500.0</td>\n",
       "      <td>Clothing Sales</td>\n",
       "      <td>Clothing</td>\n",
       "      <td>To purchase more clothes to sell</td>\n",
       "      <td>ZW</td>\n",
       "      <td>Zimbabwe</td>\n",
       "      <td>Hurungwe</td>\n",
       "      <td>USD</td>\n",
       "      <td>8.0</td>\n",
       "      <td>19</td>\n",
       "      <td>female</td>\n",
       "      <td>irregular</td>\n",
       "    </tr>\n",
       "    <tr>\n",
       "      <th>671203</th>\n",
       "      <td>1100.0</td>\n",
       "      <td>1100.0</td>\n",
       "      <td>Grocery Store</td>\n",
       "      <td>Food</td>\n",
       "      <td>to restock a wider range of stock for her tabl...</td>\n",
       "      <td>ZW</td>\n",
       "      <td>Zimbabwe</td>\n",
       "      <td>Harare</td>\n",
       "      <td>USD</td>\n",
       "      <td>9.0</td>\n",
       "      <td>30</td>\n",
       "      <td>female, female, female, female</td>\n",
       "      <td>irregular</td>\n",
       "    </tr>\n",
       "    <tr>\n",
       "      <th>671204</th>\n",
       "      <td>500.0</td>\n",
       "      <td>500.0</td>\n",
       "      <td>Grocery Store</td>\n",
       "      <td>Food</td>\n",
       "      <td>To purchase more grocery stock in bulk</td>\n",
       "      <td>ZW</td>\n",
       "      <td>Zimbabwe</td>\n",
       "      <td>Gokwe North</td>\n",
       "      <td>USD</td>\n",
       "      <td>8.0</td>\n",
       "      <td>14</td>\n",
       "      <td>female</td>\n",
       "      <td>irregular</td>\n",
       "    </tr>\n",
       "  </tbody>\n",
       "</table>\n",
       "<p>671205 rows × 13 columns</p>\n",
       "</div>"
      ],
      "text/plain": [
       "        funded_amount  loan_amount                   activity       sector  \\\n",
       "0              8000.0       8000.0                   Textiles         Arts   \n",
       "1              6000.0       6000.0                   Textiles         Arts   \n",
       "2               825.0        825.0                Agriculture  Agriculture   \n",
       "3              2775.0       2775.0                Agriculture  Agriculture   \n",
       "4               825.0        825.0  Personal Housing Expenses      Housing   \n",
       "...               ...          ...                        ...          ...   \n",
       "671200         1900.0       1900.0                    Poultry  Agriculture   \n",
       "671201         1500.0       1500.0                   Clothing     Clothing   \n",
       "671202          500.0        500.0             Clothing Sales     Clothing   \n",
       "671203         1100.0       1100.0              Grocery Store         Food   \n",
       "671204          500.0        500.0              Grocery Store         Food   \n",
       "\n",
       "                                                      use country_code  \\\n",
       "0       To purchase raw materials, including fabrics, ...           AF   \n",
       "1       To buy 9 sewing machines that will increase pr...           AF   \n",
       "2                                      to buy a dairy cow           AL   \n",
       "3       to repair the damaged animal stable and also d...           AL   \n",
       "4               to repair windows and doors in her house.           AL   \n",
       "...                                                   ...          ...   \n",
       "671200              To expand her production of chickens.           ZW   \n",
       "671201     to buy clothes and school uniforms for resale.           ZW   \n",
       "671202                   To purchase more clothes to sell           ZW   \n",
       "671203  to restock a wider range of stock for her tabl...           ZW   \n",
       "671204             To purchase more grocery stock in bulk           ZW   \n",
       "\n",
       "            country         region currency  term_in_months  lender_count  \\\n",
       "0       Afghanistan  Kandahar City      USD             6.0           308   \n",
       "1       Afghanistan  Kandahar City      USD             8.0           204   \n",
       "2           Albania          Korce      ALL            20.0            26   \n",
       "3           Albania          Korce      ALL            26.0           101   \n",
       "4           Albania          Korce      ALL            14.0            32   \n",
       "...             ...            ...      ...             ...           ...   \n",
       "671200     Zimbabwe         Harare      USD             8.0            69   \n",
       "671201     Zimbabwe          GOKWE      USD             8.0            36   \n",
       "671202     Zimbabwe       Hurungwe      USD             8.0            19   \n",
       "671203     Zimbabwe         Harare      USD             9.0            30   \n",
       "671204     Zimbabwe    Gokwe North      USD             8.0            14   \n",
       "\n",
       "                      borrower_genders repayment_interval  \n",
       "0                               female             bullet  \n",
       "1                               female             bullet  \n",
       "2                               female            monthly  \n",
       "3                                 male            monthly  \n",
       "4                               female            monthly  \n",
       "...                                ...                ...  \n",
       "671200  female, female, female, female            monthly  \n",
       "671201                          female            monthly  \n",
       "671202                          female          irregular  \n",
       "671203  female, female, female, female          irregular  \n",
       "671204                          female          irregular  \n",
       "\n",
       "[671205 rows x 13 columns]"
      ]
     },
     "execution_count": 16,
     "metadata": {},
     "output_type": "execute_result"
    }
   ],
   "source": [
    "df.reset_index(drop=True, inplace=True)\n",
    "df"
   ]
  },
  {
   "cell_type": "code",
   "execution_count": 17,
   "id": "92622f5b",
   "metadata": {
    "ExecuteTime": {
     "end_time": "2022-06-02T11:26:42.203137Z",
     "start_time": "2022-06-02T11:26:42.187497Z"
    }
   },
   "outputs": [],
   "source": [
    "# Funktion zur Ausgabe des genutzten Speicherplatzes in MiB\n",
    "def my_memory_usage(dataframe):\n",
    "    # Umrechnungsfaktor Byte --> MiB\n",
    "    MiB = 2**(20)\n",
    "    \n",
    "    mem = dataframe.memory_usage(deep=True)\n",
    "    n = round(mem.sum() / MiB, 1)\n",
    "    print('genutzer Speicherplatz [MiB]:')\n",
    "    return n"
   ]
  },
  {
   "cell_type": "code",
   "execution_count": 18,
   "id": "566b1b2d",
   "metadata": {
    "ExecuteTime": {
     "end_time": "2022-06-02T11:26:42.925150Z",
     "start_time": "2022-06-02T11:26:42.203137Z"
    }
   },
   "outputs": [
    {
     "name": "stdout",
     "output_type": "stream",
     "text": [
      "genutzer Speicherplatz [MiB]:\n"
     ]
    },
    {
     "data": {
      "text/plain": [
       "429.9"
      ]
     },
     "execution_count": 18,
     "metadata": {},
     "output_type": "execute_result"
    }
   ],
   "source": [
    "mem_usage_init = my_memory_usage(df)\n",
    "mem_usage_init"
   ]
  },
  {
   "cell_type": "code",
   "execution_count": 19,
   "id": "13f0a0d0",
   "metadata": {
    "ExecuteTime": {
     "end_time": "2022-06-02T11:26:44.441739Z",
     "start_time": "2022-06-02T11:26:42.927215Z"
    }
   },
   "outputs": [
    {
     "name": "stdout",
     "output_type": "stream",
     "text": [
      "<class 'pandas.core.frame.DataFrame'>\n",
      "RangeIndex: 671205 entries, 0 to 671204\n",
      "Data columns (total 13 columns):\n",
      " #   Column              Non-Null Count   Dtype  \n",
      "---  ------              --------------   -----  \n",
      " 0   funded_amount       671205 non-null  float64\n",
      " 1   loan_amount         671205 non-null  float64\n",
      " 2   activity            671205 non-null  object \n",
      " 3   sector              671205 non-null  object \n",
      " 4   use                 666973 non-null  object \n",
      " 5   country_code        671197 non-null  object \n",
      " 6   country             671205 non-null  object \n",
      " 7   region              614405 non-null  object \n",
      " 8   currency            671205 non-null  object \n",
      " 9   term_in_months      671205 non-null  float64\n",
      " 10  lender_count        671205 non-null  int64  \n",
      " 11  borrower_genders    666984 non-null  object \n",
      " 12  repayment_interval  671205 non-null  object \n",
      "dtypes: float64(3), int64(1), object(9)\n",
      "memory usage: 429.9 MB\n"
     ]
    }
   ],
   "source": [
    "df.info(verbose=True, memory_usage='deep')"
   ]
  },
  {
   "cell_type": "markdown",
   "id": "01c1bb9f",
   "metadata": {},
   "source": [
    "### Prüfung auf fehlende Werte\n",
    "\n",
    "Nun prüfen wir den Datensatz auf fehlende Werte. Anschlißend wird bewertet, was wir mit diesen Daten machen (Löschen, Konvertieren, berechnete Werte eintragen)."
   ]
  },
  {
   "cell_type": "code",
   "execution_count": 20,
   "id": "f7874d17",
   "metadata": {
    "ExecuteTime": {
     "end_time": "2022-06-02T11:26:45.374054Z",
     "start_time": "2022-06-02T11:26:44.442742Z"
    }
   },
   "outputs": [
    {
     "data": {
      "text/plain": [
       "funded_amount             0\n",
       "loan_amount               0\n",
       "activity                  0\n",
       "sector                    0\n",
       "use                    4232\n",
       "country_code              8\n",
       "country                   0\n",
       "region                56800\n",
       "currency                  0\n",
       "term_in_months            0\n",
       "lender_count              0\n",
       "borrower_genders       4221\n",
       "repayment_interval        0\n",
       "dtype: int64"
      ]
     },
     "execution_count": 20,
     "metadata": {},
     "output_type": "execute_result"
    }
   ],
   "source": [
    "null_values = df.isnull().sum()\n",
    "null_values"
   ]
  },
  {
   "cell_type": "code",
   "execution_count": 21,
   "id": "75b25bd4",
   "metadata": {
    "ExecuteTime": {
     "end_time": "2022-06-02T11:26:45.389684Z",
     "start_time": "2022-06-02T11:26:45.374054Z"
    }
   },
   "outputs": [
    {
     "data": {
      "text/plain": [
       "use                  4232\n",
       "country_code            8\n",
       "region              56800\n",
       "borrower_genders     4221\n",
       "dtype: int64"
      ]
     },
     "execution_count": 21,
     "metadata": {},
     "output_type": "execute_result"
    }
   ],
   "source": [
    "cols_with_nulls = null_values[null_values > 0] \n",
    "cols_with_nulls"
   ]
  },
  {
   "cell_type": "code",
   "execution_count": 22,
   "id": "6e304c7b",
   "metadata": {
    "ExecuteTime": {
     "end_time": "2022-06-02T11:26:45.405309Z",
     "start_time": "2022-06-02T11:26:45.389684Z"
    }
   },
   "outputs": [
    {
     "data": {
      "text/plain": [
       "Index(['use', 'country_code', 'region', 'borrower_genders'], dtype='object')"
      ]
     },
     "execution_count": 22,
     "metadata": {},
     "output_type": "execute_result"
    }
   ],
   "source": [
    "cols_with_nulls.index"
   ]
  },
  {
   "cell_type": "code",
   "execution_count": 23,
   "id": "569860b8",
   "metadata": {
    "ExecuteTime": {
     "end_time": "2022-06-02T11:26:45.420933Z",
     "start_time": "2022-06-02T11:26:45.405309Z"
    }
   },
   "outputs": [
    {
     "name": "stdout",
     "output_type": "stream",
     "text": [
      "Anzahl der fehlenden Werte in Spalte \"use\":\n",
      "4232 von 671205 Zeilen enthalten fehlende Werte (0.63%).\n",
      "\n",
      "Anzahl der fehlenden Werte in Spalte \"country_code\":\n",
      "8 von 671205 Zeilen enthalten fehlende Werte (0.00%).\n",
      "\n",
      "Anzahl der fehlenden Werte in Spalte \"region\":\n",
      "56800 von 671205 Zeilen enthalten fehlende Werte (8.46%).\n",
      "\n",
      "Anzahl der fehlenden Werte in Spalte \"borrower_genders\":\n",
      "4221 von 671205 Zeilen enthalten fehlende Werte (0.63%).\n",
      "\n"
     ]
    }
   ],
   "source": [
    "n_rows = df.shape[0]\n",
    "\n",
    "for i, column in enumerate(cols_with_nulls.index):\n",
    "    name = 'Anzahl der fehlenden Werte in Spalte \"{0}\":'.format(column)\n",
    "    missing = cols_with_nulls.values[i]\n",
    "    perc = missing / n_rows\n",
    "    print(name)\n",
    "    print('{pos1} von {pos2} Zeilen enthalten fehlende Werte ({pos3:.2%}).\\n'.\n",
    "          format(pos1=missing, pos3=perc, pos2=n_rows))"
   ]
  },
  {
   "cell_type": "markdown",
   "id": "0ca22b6c",
   "metadata": {},
   "source": [
    "#### Reminder: reale 0-Werte\n",
    "\n",
    "Wir erinnern uns an die 0-Werte, welche wir in der statistischen Übersicht gefunden haben. Diese waren in den Spalten **funded_amount** sowie **lender_count** ersichtlich. Mit nachfolgender Methode prüfen wir, ob die Daten vielleich zusammen gehören. Der Gedanke ist der, das wenn die Anzahl der Zeilen beider Spalten übereinstimmt und auch die der Index bei beiden Spalten der gleiche ist, dann gibt es hier folgenden Zusammenhang:\n",
    "\n",
    "Wo kein Investor, da kein Geld, welches investiert werden kann."
   ]
  },
  {
   "cell_type": "code",
   "execution_count": 24,
   "id": "3113a634",
   "metadata": {
    "ExecuteTime": {
     "end_time": "2022-06-02T11:26:45.552465Z",
     "start_time": "2022-06-02T11:26:45.420933Z"
    }
   },
   "outputs": [],
   "source": [
    "funded_zeros = df.loc[:, 'funded_amount'] == 0\n",
    "lender_zeros = df.loc[:, 'lender_count'] == 0\n",
    "\n",
    "n_rows_funded = len(df.loc[funded_zeros])\n",
    "n_rows_lender = len(df.loc[lender_zeros])\n",
    "\n",
    "indicies_funded = df.loc[funded_zeros].index\n",
    "indicies_lender = df.loc[lender_zeros].index\n",
    "\n",
    "matching_indicies = len(indicies_funded.intersection(indicies_lender))"
   ]
  },
  {
   "cell_type": "code",
   "execution_count": 25,
   "id": "3a43f2e1",
   "metadata": {
    "ExecuteTime": {
     "end_time": "2022-06-02T11:26:45.568092Z",
     "start_time": "2022-06-02T11:26:45.552465Z"
    }
   },
   "outputs": [
    {
     "name": "stdout",
     "output_type": "stream",
     "text": [
      "3383 Zeilen betroffen\n",
      "Anzahl der Zeilen und Indizes passen zusammen!\n",
      "\n",
      "Die Datensätze haben etwas miteinander zu tun!\n"
     ]
    }
   ],
   "source": [
    "if (n_rows_funded == n_rows_lender) & (n_rows_funded == matching_indicies):\n",
    "    print('{} Zeilen betroffen'.format(n_rows_funded))\n",
    "    print('Anzahl der Zeilen und Indizes passen zusammen!\\n')\n",
    "    print('Die Datensätze haben etwas miteinander zu tun!')"
   ]
  },
  {
   "cell_type": "markdown",
   "id": "b37bdb03",
   "metadata": {},
   "source": [
    "Die Vermutung war richtig und wir werden uns diesen Sachverhalt später in der explorativen Datenanalyse genauer anschauen. Zuvor werden wir aber noch die verbliebenden fehlenden Werte bearbeiten müssen."
   ]
  },
  {
   "cell_type": "code",
   "execution_count": 26,
   "id": "4020772f",
   "metadata": {
    "ExecuteTime": {
     "end_time": "2022-06-02T11:26:45.590230Z",
     "start_time": "2022-06-02T11:26:45.568092Z"
    }
   },
   "outputs": [
    {
     "data": {
      "text/plain": [
       "use                  4232\n",
       "country_code            8\n",
       "region              56800\n",
       "borrower_genders     4221\n",
       "dtype: int64"
      ]
     },
     "execution_count": 26,
     "metadata": {},
     "output_type": "execute_result"
    }
   ],
   "source": [
    "cols_with_nulls"
   ]
  },
  {
   "cell_type": "markdown",
   "id": "8c569556",
   "metadata": {},
   "source": [
    "Wir fangen mal klein an und schauen uns die fehlenden Werte beim Ländercode an:"
   ]
  },
  {
   "cell_type": "markdown",
   "id": "3a601031",
   "metadata": {},
   "source": [
    "#### Fehlende Werte in Spalte 'country_code'"
   ]
  },
  {
   "cell_type": "code",
   "execution_count": 27,
   "id": "57adfaf9",
   "metadata": {
    "ExecuteTime": {
     "end_time": "2022-06-02T11:26:45.637106Z",
     "start_time": "2022-06-02T11:26:45.590230Z"
    }
   },
   "outputs": [
    {
     "data": {
      "text/plain": [
       "310649    Namibia\n",
       "310650    Namibia\n",
       "310651    Namibia\n",
       "310652    Namibia\n",
       "310653    Namibia\n",
       "310654    Namibia\n",
       "310655    Namibia\n",
       "310656    Namibia\n",
       "Name: country, dtype: object"
      ]
     },
     "execution_count": 27,
     "metadata": {},
     "output_type": "execute_result"
    }
   ],
   "source": [
    "null_values_countryCode = df.loc[:, cols_with_nulls.index[1]].isnull()\n",
    "df.loc[null_values_countryCode == True, 'country']"
   ]
  },
  {
   "cell_type": "markdown",
   "id": "34849a81",
   "metadata": {},
   "source": [
    "Ok, hier fehlt offensichtlich der Code für Namibia. Zuvor können wir nachschauen, ob es wirklich alle Datensätze aus diesem Land sind und filtern nach der Spalte **country**"
   ]
  },
  {
   "cell_type": "code",
   "execution_count": 28,
   "id": "879e1d6b",
   "metadata": {
    "ExecuteTime": {
     "end_time": "2022-06-02T11:26:45.721793Z",
     "start_time": "2022-06-02T11:26:45.637106Z"
    }
   },
   "outputs": [
    {
     "data": {
      "text/plain": [
       "8"
      ]
     },
     "execution_count": 28,
     "metadata": {},
     "output_type": "execute_result"
    }
   ],
   "source": [
    "df.loc[df.loc[:, 'country'] == 'Namibia', 'country'].count()"
   ]
  },
  {
   "cell_type": "markdown",
   "id": "c3dc9362",
   "metadata": {},
   "source": [
    "Hier fehlt wirklich nur der Ländercode. Wir suchen diesen heraus, und tragen in entsprechend der ISO 3166 ein.\n",
    "\n",
    "https://de.wikipedia.org/wiki/ISO-3166-1-Kodierliste#N"
   ]
  },
  {
   "cell_type": "code",
   "execution_count": 29,
   "id": "7700abb2",
   "metadata": {
    "ExecuteTime": {
     "end_time": "2022-06-02T11:26:45.768665Z",
     "start_time": "2022-06-02T11:26:45.721793Z"
    }
   },
   "outputs": [],
   "source": [
    "df.loc[df.loc[:, 'country'] == 'Namibia', 'country_code'] = 'NA'"
   ]
  },
  {
   "cell_type": "code",
   "execution_count": 30,
   "id": "92fdb42c",
   "metadata": {
    "ExecuteTime": {
     "end_time": "2022-06-02T11:26:45.837682Z",
     "start_time": "2022-06-02T11:26:45.768665Z"
    }
   },
   "outputs": [
    {
     "data": {
      "text/plain": [
       "310649    NA\n",
       "310650    NA\n",
       "310651    NA\n",
       "310652    NA\n",
       "310653    NA\n",
       "310654    NA\n",
       "310655    NA\n",
       "310656    NA\n",
       "Name: country_code, dtype: object"
      ]
     },
     "execution_count": 30,
     "metadata": {},
     "output_type": "execute_result"
    }
   ],
   "source": [
    "# Check ob die Wertzuweisung funktioniert hat\n",
    "df.loc[df.loc[:, 'country'] == 'Namibia', 'country_code']"
   ]
  },
  {
   "cell_type": "markdown",
   "id": "22030719",
   "metadata": {},
   "source": [
    "#### Fehlende Werte in Spalte 'use'"
   ]
  },
  {
   "cell_type": "code",
   "execution_count": 31,
   "id": "48c4e91d",
   "metadata": {
    "ExecuteTime": {
     "end_time": "2022-06-02T11:26:45.938002Z",
     "start_time": "2022-06-02T11:26:45.837682Z"
    }
   },
   "outputs": [
    {
     "data": {
      "text/html": [
       "<div>\n",
       "<style scoped>\n",
       "    .dataframe tbody tr th:only-of-type {\n",
       "        vertical-align: middle;\n",
       "    }\n",
       "\n",
       "    .dataframe tbody tr th {\n",
       "        vertical-align: top;\n",
       "    }\n",
       "\n",
       "    .dataframe thead th {\n",
       "        text-align: right;\n",
       "    }\n",
       "</style>\n",
       "<table border=\"1\" class=\"dataframe\">\n",
       "  <thead>\n",
       "    <tr style=\"text-align: right;\">\n",
       "      <th></th>\n",
       "      <th>funded_amount</th>\n",
       "      <th>loan_amount</th>\n",
       "      <th>activity</th>\n",
       "      <th>sector</th>\n",
       "      <th>use</th>\n",
       "      <th>country_code</th>\n",
       "      <th>country</th>\n",
       "      <th>region</th>\n",
       "      <th>currency</th>\n",
       "      <th>term_in_months</th>\n",
       "      <th>lender_count</th>\n",
       "      <th>borrower_genders</th>\n",
       "      <th>repayment_interval</th>\n",
       "    </tr>\n",
       "  </thead>\n",
       "  <tbody>\n",
       "    <tr>\n",
       "      <th>100</th>\n",
       "      <td>1925.0</td>\n",
       "      <td>1925.0</td>\n",
       "      <td>Agriculture</td>\n",
       "      <td>Agriculture</td>\n",
       "      <td>NaN</td>\n",
       "      <td>AL</td>\n",
       "      <td>Albania</td>\n",
       "      <td>NaN</td>\n",
       "      <td>ALL</td>\n",
       "      <td>39.0</td>\n",
       "      <td>57</td>\n",
       "      <td>NaN</td>\n",
       "      <td>monthly</td>\n",
       "    </tr>\n",
       "    <tr>\n",
       "      <th>192</th>\n",
       "      <td>975.0</td>\n",
       "      <td>975.0</td>\n",
       "      <td>Personal Housing Expenses</td>\n",
       "      <td>Housing</td>\n",
       "      <td>NaN</td>\n",
       "      <td>AL</td>\n",
       "      <td>Albania</td>\n",
       "      <td>NaN</td>\n",
       "      <td>ALL</td>\n",
       "      <td>27.0</td>\n",
       "      <td>38</td>\n",
       "      <td>NaN</td>\n",
       "      <td>monthly</td>\n",
       "    </tr>\n",
       "    <tr>\n",
       "      <th>255</th>\n",
       "      <td>200.0</td>\n",
       "      <td>775.0</td>\n",
       "      <td>Used Clothing</td>\n",
       "      <td>Clothing</td>\n",
       "      <td>NaN</td>\n",
       "      <td>AL</td>\n",
       "      <td>Albania</td>\n",
       "      <td>NaN</td>\n",
       "      <td>ALL</td>\n",
       "      <td>19.0</td>\n",
       "      <td>7</td>\n",
       "      <td>NaN</td>\n",
       "      <td>monthly</td>\n",
       "    </tr>\n",
       "    <tr>\n",
       "      <th>312</th>\n",
       "      <td>900.0</td>\n",
       "      <td>900.0</td>\n",
       "      <td>Decorations Sales</td>\n",
       "      <td>Retail</td>\n",
       "      <td>NaN</td>\n",
       "      <td>AL</td>\n",
       "      <td>Albania</td>\n",
       "      <td>NaN</td>\n",
       "      <td>ALL</td>\n",
       "      <td>14.0</td>\n",
       "      <td>31</td>\n",
       "      <td>NaN</td>\n",
       "      <td>monthly</td>\n",
       "    </tr>\n",
       "    <tr>\n",
       "      <th>619</th>\n",
       "      <td>1475.0</td>\n",
       "      <td>1475.0</td>\n",
       "      <td>Dairy</td>\n",
       "      <td>Agriculture</td>\n",
       "      <td>NaN</td>\n",
       "      <td>AL</td>\n",
       "      <td>Albania</td>\n",
       "      <td>NaN</td>\n",
       "      <td>ALL</td>\n",
       "      <td>27.0</td>\n",
       "      <td>55</td>\n",
       "      <td>NaN</td>\n",
       "      <td>monthly</td>\n",
       "    </tr>\n",
       "    <tr>\n",
       "      <th>...</th>\n",
       "      <td>...</td>\n",
       "      <td>...</td>\n",
       "      <td>...</td>\n",
       "      <td>...</td>\n",
       "      <td>...</td>\n",
       "      <td>...</td>\n",
       "      <td>...</td>\n",
       "      <td>...</td>\n",
       "      <td>...</td>\n",
       "      <td>...</td>\n",
       "      <td>...</td>\n",
       "      <td>...</td>\n",
       "      <td>...</td>\n",
       "    </tr>\n",
       "    <tr>\n",
       "      <th>670842</th>\n",
       "      <td>500.0</td>\n",
       "      <td>500.0</td>\n",
       "      <td>Poultry</td>\n",
       "      <td>Agriculture</td>\n",
       "      <td>NaN</td>\n",
       "      <td>ZW</td>\n",
       "      <td>Zimbabwe</td>\n",
       "      <td>NaN</td>\n",
       "      <td>USD</td>\n",
       "      <td>24.0</td>\n",
       "      <td>19</td>\n",
       "      <td>NaN</td>\n",
       "      <td>irregular</td>\n",
       "    </tr>\n",
       "    <tr>\n",
       "      <th>670917</th>\n",
       "      <td>2950.0</td>\n",
       "      <td>2950.0</td>\n",
       "      <td>Manufacturing</td>\n",
       "      <td>Manufacturing</td>\n",
       "      <td>NaN</td>\n",
       "      <td>ZW</td>\n",
       "      <td>Zimbabwe</td>\n",
       "      <td>NaN</td>\n",
       "      <td>USD</td>\n",
       "      <td>15.0</td>\n",
       "      <td>87</td>\n",
       "      <td>NaN</td>\n",
       "      <td>irregular</td>\n",
       "    </tr>\n",
       "    <tr>\n",
       "      <th>670930</th>\n",
       "      <td>800.0</td>\n",
       "      <td>800.0</td>\n",
       "      <td>Used Clothing</td>\n",
       "      <td>Clothing</td>\n",
       "      <td>NaN</td>\n",
       "      <td>ZW</td>\n",
       "      <td>Zimbabwe</td>\n",
       "      <td>NaN</td>\n",
       "      <td>USD</td>\n",
       "      <td>14.0</td>\n",
       "      <td>24</td>\n",
       "      <td>NaN</td>\n",
       "      <td>irregular</td>\n",
       "    </tr>\n",
       "    <tr>\n",
       "      <th>671132</th>\n",
       "      <td>500.0</td>\n",
       "      <td>500.0</td>\n",
       "      <td>General Store</td>\n",
       "      <td>Retail</td>\n",
       "      <td>NaN</td>\n",
       "      <td>ZW</td>\n",
       "      <td>Zimbabwe</td>\n",
       "      <td>NaN</td>\n",
       "      <td>USD</td>\n",
       "      <td>8.0</td>\n",
       "      <td>17</td>\n",
       "      <td>NaN</td>\n",
       "      <td>irregular</td>\n",
       "    </tr>\n",
       "    <tr>\n",
       "      <th>671167</th>\n",
       "      <td>1800.0</td>\n",
       "      <td>1800.0</td>\n",
       "      <td>Poultry</td>\n",
       "      <td>Agriculture</td>\n",
       "      <td>NaN</td>\n",
       "      <td>ZW</td>\n",
       "      <td>Zimbabwe</td>\n",
       "      <td>NaN</td>\n",
       "      <td>USD</td>\n",
       "      <td>17.0</td>\n",
       "      <td>59</td>\n",
       "      <td>NaN</td>\n",
       "      <td>monthly</td>\n",
       "    </tr>\n",
       "  </tbody>\n",
       "</table>\n",
       "<p>4232 rows × 13 columns</p>\n",
       "</div>"
      ],
      "text/plain": [
       "        funded_amount  loan_amount                   activity         sector  \\\n",
       "100            1925.0       1925.0                Agriculture    Agriculture   \n",
       "192             975.0        975.0  Personal Housing Expenses        Housing   \n",
       "255             200.0        775.0              Used Clothing       Clothing   \n",
       "312             900.0        900.0          Decorations Sales         Retail   \n",
       "619            1475.0       1475.0                      Dairy    Agriculture   \n",
       "...               ...          ...                        ...            ...   \n",
       "670842          500.0        500.0                    Poultry    Agriculture   \n",
       "670917         2950.0       2950.0              Manufacturing  Manufacturing   \n",
       "670930          800.0        800.0              Used Clothing       Clothing   \n",
       "671132          500.0        500.0              General Store         Retail   \n",
       "671167         1800.0       1800.0                    Poultry    Agriculture   \n",
       "\n",
       "        use country_code   country region currency  term_in_months  \\\n",
       "100     NaN           AL   Albania    NaN      ALL            39.0   \n",
       "192     NaN           AL   Albania    NaN      ALL            27.0   \n",
       "255     NaN           AL   Albania    NaN      ALL            19.0   \n",
       "312     NaN           AL   Albania    NaN      ALL            14.0   \n",
       "619     NaN           AL   Albania    NaN      ALL            27.0   \n",
       "...     ...          ...       ...    ...      ...             ...   \n",
       "670842  NaN           ZW  Zimbabwe    NaN      USD            24.0   \n",
       "670917  NaN           ZW  Zimbabwe    NaN      USD            15.0   \n",
       "670930  NaN           ZW  Zimbabwe    NaN      USD            14.0   \n",
       "671132  NaN           ZW  Zimbabwe    NaN      USD             8.0   \n",
       "671167  NaN           ZW  Zimbabwe    NaN      USD            17.0   \n",
       "\n",
       "        lender_count borrower_genders repayment_interval  \n",
       "100               57              NaN            monthly  \n",
       "192               38              NaN            monthly  \n",
       "255                7              NaN            monthly  \n",
       "312               31              NaN            monthly  \n",
       "619               55              NaN            monthly  \n",
       "...              ...              ...                ...  \n",
       "670842            19              NaN          irregular  \n",
       "670917            87              NaN          irregular  \n",
       "670930            24              NaN          irregular  \n",
       "671132            17              NaN          irregular  \n",
       "671167            59              NaN            monthly  \n",
       "\n",
       "[4232 rows x 13 columns]"
      ]
     },
     "execution_count": 31,
     "metadata": {},
     "output_type": "execute_result"
    }
   ],
   "source": [
    "null_values_use = df.loc[:, cols_with_nulls.index[0]].isnull()\n",
    "df_use = df.loc[null_values_use == True]\n",
    "df_use"
   ]
  },
  {
   "cell_type": "markdown",
   "id": "05c1c7ae",
   "metadata": {},
   "source": [
    "Hier fällt auf, das wir wohl gleich mehrere Spalten mit fehlenden Werten haben. (_use_, _region_ und _genders_). Um eine bessere Bewertung für ein eventuelles Löschen der Daten zu erhalten, schauen wir uns die anderen Spalten etwas genauer an."
   ]
  },
  {
   "cell_type": "code",
   "execution_count": 32,
   "id": "57d09f9c",
   "metadata": {
    "ExecuteTime": {
     "end_time": "2022-06-02T11:26:45.969256Z",
     "start_time": "2022-06-02T11:26:45.938002Z"
    }
   },
   "outputs": [
    {
     "data": {
      "text/html": [
       "<div>\n",
       "<style scoped>\n",
       "    .dataframe tbody tr th:only-of-type {\n",
       "        vertical-align: middle;\n",
       "    }\n",
       "\n",
       "    .dataframe tbody tr th {\n",
       "        vertical-align: top;\n",
       "    }\n",
       "\n",
       "    .dataframe thead th {\n",
       "        text-align: right;\n",
       "    }\n",
       "</style>\n",
       "<table border=\"1\" class=\"dataframe\">\n",
       "  <thead>\n",
       "    <tr style=\"text-align: right;\">\n",
       "      <th></th>\n",
       "      <th>funded_amount</th>\n",
       "      <th>loan_amount</th>\n",
       "      <th>term_in_months</th>\n",
       "      <th>lender_count</th>\n",
       "    </tr>\n",
       "  </thead>\n",
       "  <tbody>\n",
       "    <tr>\n",
       "      <th>count</th>\n",
       "      <td>4232.000000</td>\n",
       "      <td>4232.000000</td>\n",
       "      <td>4232.000000</td>\n",
       "      <td>4232.000000</td>\n",
       "    </tr>\n",
       "    <tr>\n",
       "      <th>mean</th>\n",
       "      <td>921.908081</td>\n",
       "      <td>1177.055766</td>\n",
       "      <td>15.126181</td>\n",
       "      <td>26.870983</td>\n",
       "    </tr>\n",
       "    <tr>\n",
       "      <th>std</th>\n",
       "      <td>1453.171843</td>\n",
       "      <td>2319.892785</td>\n",
       "      <td>8.912859</td>\n",
       "      <td>40.064176</td>\n",
       "    </tr>\n",
       "    <tr>\n",
       "      <th>min</th>\n",
       "      <td>0.000000</td>\n",
       "      <td>25.000000</td>\n",
       "      <td>2.000000</td>\n",
       "      <td>0.000000</td>\n",
       "    </tr>\n",
       "    <tr>\n",
       "      <th>25%</th>\n",
       "      <td>250.000000</td>\n",
       "      <td>325.000000</td>\n",
       "      <td>9.000000</td>\n",
       "      <td>7.000000</td>\n",
       "    </tr>\n",
       "    <tr>\n",
       "      <th>50%</th>\n",
       "      <td>500.000000</td>\n",
       "      <td>625.000000</td>\n",
       "      <td>14.000000</td>\n",
       "      <td>16.000000</td>\n",
       "    </tr>\n",
       "    <tr>\n",
       "      <th>75%</th>\n",
       "      <td>1050.000000</td>\n",
       "      <td>1200.000000</td>\n",
       "      <td>18.000000</td>\n",
       "      <td>33.000000</td>\n",
       "    </tr>\n",
       "    <tr>\n",
       "      <th>max</th>\n",
       "      <td>50000.000000</td>\n",
       "      <td>50000.000000</td>\n",
       "      <td>133.000000</td>\n",
       "      <td>1310.000000</td>\n",
       "    </tr>\n",
       "  </tbody>\n",
       "</table>\n",
       "</div>"
      ],
      "text/plain": [
       "       funded_amount   loan_amount  term_in_months  lender_count\n",
       "count    4232.000000   4232.000000     4232.000000   4232.000000\n",
       "mean      921.908081   1177.055766       15.126181     26.870983\n",
       "std      1453.171843   2319.892785        8.912859     40.064176\n",
       "min         0.000000     25.000000        2.000000      0.000000\n",
       "25%       250.000000    325.000000        9.000000      7.000000\n",
       "50%       500.000000    625.000000       14.000000     16.000000\n",
       "75%      1050.000000   1200.000000       18.000000     33.000000\n",
       "max     50000.000000  50000.000000      133.000000   1310.000000"
      ]
     },
     "execution_count": 32,
     "metadata": {},
     "output_type": "execute_result"
    }
   ],
   "source": [
    "df_use.describe()"
   ]
  },
  {
   "cell_type": "code",
   "execution_count": 33,
   "id": "10ff7ba2",
   "metadata": {
    "ExecuteTime": {
     "end_time": "2022-06-02T11:26:45.991422Z",
     "start_time": "2022-06-02T11:26:45.969256Z"
    }
   },
   "outputs": [
    {
     "data": {
      "text/plain": [
       "Index(['funded_amount', 'loan_amount', 'term_in_months', 'lender_count'], dtype='object')"
      ]
     },
     "execution_count": 33,
     "metadata": {},
     "output_type": "execute_result"
    }
   ],
   "source": [
    "df_use.describe().columns"
   ]
  },
  {
   "cell_type": "code",
   "execution_count": 34,
   "id": "77ec6763",
   "metadata": {
    "ExecuteTime": {
     "end_time": "2022-06-02T11:26:46.007026Z",
     "start_time": "2022-06-02T11:26:45.991422Z"
    }
   },
   "outputs": [
    {
     "data": {
      "text/plain": [
       "funded_amount            0\n",
       "loan_amount              0\n",
       "activity                 0\n",
       "sector                   0\n",
       "use                   4232\n",
       "country_code             0\n",
       "country                  0\n",
       "region                4227\n",
       "currency                 0\n",
       "term_in_months           0\n",
       "lender_count             0\n",
       "borrower_genders      4221\n",
       "repayment_interval       0\n",
       "dtype: int64"
      ]
     },
     "execution_count": 34,
     "metadata": {},
     "output_type": "execute_result"
    }
   ],
   "source": [
    "df_use.isnull().sum()"
   ]
  },
  {
   "cell_type": "code",
   "execution_count": 35,
   "id": "1ddf6dd0",
   "metadata": {
    "ExecuteTime": {
     "end_time": "2022-06-02T11:26:46.038296Z",
     "start_time": "2022-06-02T11:26:46.007026Z"
    }
   },
   "outputs": [
    {
     "data": {
      "text/plain": [
       "funded_amount         245\n",
       "loan_amount           238\n",
       "activity              139\n",
       "sector                 15\n",
       "use                     0\n",
       "country_code           69\n",
       "country                69\n",
       "region                  5\n",
       "currency               53\n",
       "term_in_months         55\n",
       "lender_count          192\n",
       "borrower_genders        5\n",
       "repayment_interval      3\n",
       "dtype: int64"
      ]
     },
     "execution_count": 35,
     "metadata": {},
     "output_type": "execute_result"
    }
   ],
   "source": [
    "df_use.nunique()"
   ]
  },
  {
   "cell_type": "code",
   "execution_count": 36,
   "id": "6c94da0a",
   "metadata": {
    "ExecuteTime": {
     "end_time": "2022-06-02T11:26:46.069546Z",
     "start_time": "2022-06-02T11:26:46.038296Z"
    }
   },
   "outputs": [
    {
     "name": "stdout",
     "output_type": "stream",
     "text": [
      "Summe der fehlenden Werte in Spalte funded_amount: 3383\n",
      "Dies entspricht 79.9% der bisher nicht finanzierten Projekte\n",
      "\n",
      "Summe der fehlenden Werte in Spalte lender_count: 3383\n",
      "Dies entspricht 79.9% der bisher nicht finanzierten Projekte\n",
      "\n"
     ]
    }
   ],
   "source": [
    "for col in df_use.describe().columns:\n",
    "    sum_col = df.loc[df.loc[:, col] == 0, col].count()\n",
    "    if sum_col > 0:\n",
    "        print('Summe der fehlenden Werte in Spalte {col}: {sum}'.format(\n",
    "            col=col, sum=sum_col))\n",
    "        perc = sum_col / cols_with_nulls[0]\n",
    "        print('Dies entspricht {perc:.1%} der bisher nicht finanzierten Projekte\\n'.format(perc=perc))"
   ]
  },
  {
   "cell_type": "markdown",
   "id": "942eb8db",
   "metadata": {},
   "source": [
    "##### Zusammenfassung für die Spalte 'use'\n",
    "\n",
    "Wir haben hier also einen großen Teil der Daten vor uns, welche wie bereits bei der Untersuchung der 0-Werte gefunden haben. Somit halten wir fest, das wir später nur die Projekte anschauen, welche bisher auch finanziert wurden. Wir notieren aber auch die Anzahl derer, die noch keinen Investor anziehen konnten.\n",
    "\n",
    "Da wir später auch wissen wollen, wofür die Investoren ihr Geld hergeben, muss zumindest eine kurze Beschreibung des Nutzungszweckes angegeben sein. Daher löschen wir die Datensätze ohne zusätzliche Beschreibung. Als positiver Nebeneffekt entledigen wir uns auch der Daten, welche keine Geschlechterangabe beinhalten."
   ]
  },
  {
   "cell_type": "code",
   "execution_count": 37,
   "id": "f3092c4c",
   "metadata": {
    "ExecuteTime": {
     "end_time": "2022-06-02T11:26:46.091706Z",
     "start_time": "2022-06-02T11:26:46.069546Z"
    }
   },
   "outputs": [
    {
     "name": "stdout",
     "output_type": "stream",
     "text": [
      "Projekte, in die noch nicht inverstiert wurde: 3383\n",
      "Projekte mit fehlendem Verwendungszweck: 4232\n",
      "Anzahl der sich überschneidenden Datensätze: 131\n",
      "\n",
      "Datensätze, welche gelöscht werden 7484\n",
      "Dies entspricht einem Prozentsatz von 1.1%\n"
     ]
    }
   ],
   "source": [
    "not_yet_invested = n_rows_funded\n",
    "missing_description = len(df_use.index)\n",
    "\n",
    "overlaps = len(indicies_funded.intersection(df_use.index))\n",
    "indicies_to_drop = indicies_funded.union(df_use.index)\n",
    "perc = len(indicies_to_drop) / df.shape[0]\n",
    "\n",
    "print('Projekte, in die noch nicht inverstiert wurde: {proj}'.format(proj=not_yet_invested))\n",
    "print('Projekte mit fehlendem Verwendungszweck: {miss}'.format(miss=missing_description))\n",
    "print('Anzahl der sich überschneidenden Datensätze: {over}\\n'.format(over=overlaps))\n",
    "\n",
    "\n",
    "print('Datensätze, welche gelöscht werden {to_drop}'.format(to_drop=len(indicies_to_drop)))\n",
    "print('Dies entspricht einem Prozentsatz von {perc:.1%}'.format(perc=perc))"
   ]
  },
  {
   "cell_type": "markdown",
   "id": "5ed1b620",
   "metadata": {},
   "source": [
    "Bevor wir diese Daten jedoch löschen, sichern wir uns diese als separaten Datensatz. Wir wollen später noch prüfen, warum zB Investoren ihr Geld in Projekte investieren, obwohl sie den eigentlichen Zweck (den 'use') nicht kennen. Ebenso verfahren wir mit den Projekten, welche keine Investoren anziehen konnten. Auch wenn es gerade einmal ca. 1% unserer bisher gesammelten Daten entspricht, wollen wir uns diese Daten anschauen, um besser beurteilen zu können, ob bestimmte Kategorien besser beworben werden können."
   ]
  },
  {
   "cell_type": "code",
   "execution_count": 38,
   "id": "d065adbf",
   "metadata": {
    "ExecuteTime": {
     "end_time": "2022-06-02T11:26:46.107321Z",
     "start_time": "2022-06-02T11:26:46.091706Z"
    }
   },
   "outputs": [],
   "source": [
    "# Sichern der Daten in einen separaten Datensatz\n",
    "df_check = df.loc[indicies_to_drop]"
   ]
  },
  {
   "cell_type": "code",
   "execution_count": 39,
   "id": "1e64784c",
   "metadata": {
    "ExecuteTime": {
     "end_time": "2022-06-02T11:26:46.207631Z",
     "start_time": "2022-06-02T11:26:46.107321Z"
    }
   },
   "outputs": [],
   "source": [
    "# löschen der Datensätze\n",
    "df.drop(index=indicies_to_drop, inplace=True)"
   ]
  },
  {
   "cell_type": "code",
   "execution_count": 40,
   "id": "b153b75a",
   "metadata": {
    "ExecuteTime": {
     "end_time": "2022-06-02T11:26:46.994204Z",
     "start_time": "2022-06-02T11:26:46.207631Z"
    }
   },
   "outputs": [
    {
     "data": {
      "text/plain": [
       "funded_amount             0\n",
       "loan_amount               0\n",
       "activity                  0\n",
       "sector                    0\n",
       "use                       0\n",
       "country_code              0\n",
       "country                   0\n",
       "region                51621\n",
       "currency                  0\n",
       "term_in_months            0\n",
       "lender_count              0\n",
       "borrower_genders          0\n",
       "repayment_interval        0\n",
       "dtype: int64"
      ]
     },
     "execution_count": 40,
     "metadata": {},
     "output_type": "execute_result"
    }
   ],
   "source": [
    "# Check, ob das Löschen funktioniert hat\n",
    "df.isnull().sum()"
   ]
  },
  {
   "cell_type": "markdown",
   "id": "0b2b0955",
   "metadata": {},
   "source": [
    "#### Fehlende Werte in Spalte 'borrower_genders'\n",
    "\n",
    "Die fehlenden Werte in dieser Spalte haben wir bereits im vorherigen Schritt mit eleminiert."
   ]
  },
  {
   "cell_type": "markdown",
   "id": "cc73260d",
   "metadata": {},
   "source": [
    "#### Fehlende Werte in Spalte 'region'\n",
    "\n",
    "In dieser Spalte haben wir die meisten fehlenden Werte mit knapp 8,5% unserer Gesamtdatenmenge. Auch hier schauen wir wieder etwas genauer hin, um keine wichtigen Datensätze zu entfernen.\n",
    "\n",
    "Generell wäre es ideal, dass wir eine möglichst feinkörnige Granularität der Projekte bezüglich ihres Standortes erhalten. Da uns eine Spalte mit Städten fehlt, wäre die Region zumindest das detailliertes, was wir zur Verfügung haben. Daher überprüfen wir, ob nicht wieder irgendwelche Zusammenhänge erkennbar sind."
   ]
  },
  {
   "cell_type": "code",
   "execution_count": 41,
   "id": "5f058c4a",
   "metadata": {
    "ExecuteTime": {
     "end_time": "2022-06-02T11:26:47.064612Z",
     "start_time": "2022-06-02T11:26:46.996233Z"
    }
   },
   "outputs": [
    {
     "data": {
      "text/html": [
       "<div>\n",
       "<style scoped>\n",
       "    .dataframe tbody tr th:only-of-type {\n",
       "        vertical-align: middle;\n",
       "    }\n",
       "\n",
       "    .dataframe tbody tr th {\n",
       "        vertical-align: top;\n",
       "    }\n",
       "\n",
       "    .dataframe thead th {\n",
       "        text-align: right;\n",
       "    }\n",
       "</style>\n",
       "<table border=\"1\" class=\"dataframe\">\n",
       "  <thead>\n",
       "    <tr style=\"text-align: right;\">\n",
       "      <th></th>\n",
       "      <th>funded_amount</th>\n",
       "      <th>loan_amount</th>\n",
       "      <th>activity</th>\n",
       "      <th>sector</th>\n",
       "      <th>use</th>\n",
       "      <th>country_code</th>\n",
       "      <th>country</th>\n",
       "      <th>region</th>\n",
       "      <th>currency</th>\n",
       "      <th>term_in_months</th>\n",
       "      <th>lender_count</th>\n",
       "      <th>borrower_genders</th>\n",
       "      <th>repayment_interval</th>\n",
       "    </tr>\n",
       "  </thead>\n",
       "  <tbody>\n",
       "    <tr>\n",
       "      <th>9</th>\n",
       "      <td>925.0</td>\n",
       "      <td>925.0</td>\n",
       "      <td>Livestock</td>\n",
       "      <td>Agriculture</td>\n",
       "      <td>to build a roof for her animal stable.</td>\n",
       "      <td>AL</td>\n",
       "      <td>Albania</td>\n",
       "      <td>NaN</td>\n",
       "      <td>ALL</td>\n",
       "      <td>26.0</td>\n",
       "      <td>33</td>\n",
       "      <td>female</td>\n",
       "      <td>monthly</td>\n",
       "    </tr>\n",
       "    <tr>\n",
       "      <th>17</th>\n",
       "      <td>1275.0</td>\n",
       "      <td>2575.0</td>\n",
       "      <td>Retail</td>\n",
       "      <td>Retail</td>\n",
       "      <td>to purchase drapes, sheets and blankets to sell.</td>\n",
       "      <td>AL</td>\n",
       "      <td>Albania</td>\n",
       "      <td>NaN</td>\n",
       "      <td>ALL</td>\n",
       "      <td>38.0</td>\n",
       "      <td>24</td>\n",
       "      <td>male</td>\n",
       "      <td>monthly</td>\n",
       "    </tr>\n",
       "    <tr>\n",
       "      <th>21</th>\n",
       "      <td>925.0</td>\n",
       "      <td>925.0</td>\n",
       "      <td>Personal Housing Expenses</td>\n",
       "      <td>Housing</td>\n",
       "      <td>To make minor repairs to their washroom and bu...</td>\n",
       "      <td>AL</td>\n",
       "      <td>Albania</td>\n",
       "      <td>NaN</td>\n",
       "      <td>ALL</td>\n",
       "      <td>18.0</td>\n",
       "      <td>31</td>\n",
       "      <td>female</td>\n",
       "      <td>monthly</td>\n",
       "    </tr>\n",
       "    <tr>\n",
       "      <th>22</th>\n",
       "      <td>900.0</td>\n",
       "      <td>900.0</td>\n",
       "      <td>Higher education costs</td>\n",
       "      <td>Education</td>\n",
       "      <td>to pay her son's university tuition fees.</td>\n",
       "      <td>AL</td>\n",
       "      <td>Albania</td>\n",
       "      <td>NaN</td>\n",
       "      <td>ALL</td>\n",
       "      <td>22.0</td>\n",
       "      <td>31</td>\n",
       "      <td>female</td>\n",
       "      <td>monthly</td>\n",
       "    </tr>\n",
       "    <tr>\n",
       "      <th>24</th>\n",
       "      <td>1450.0</td>\n",
       "      <td>1450.0</td>\n",
       "      <td>Personal Housing Expenses</td>\n",
       "      <td>Housing</td>\n",
       "      <td>to make home improvements by installing energy...</td>\n",
       "      <td>AL</td>\n",
       "      <td>Albania</td>\n",
       "      <td>NaN</td>\n",
       "      <td>ALL</td>\n",
       "      <td>26.0</td>\n",
       "      <td>53</td>\n",
       "      <td>female</td>\n",
       "      <td>monthly</td>\n",
       "    </tr>\n",
       "    <tr>\n",
       "      <th>...</th>\n",
       "      <td>...</td>\n",
       "      <td>...</td>\n",
       "      <td>...</td>\n",
       "      <td>...</td>\n",
       "      <td>...</td>\n",
       "      <td>...</td>\n",
       "      <td>...</td>\n",
       "      <td>...</td>\n",
       "      <td>...</td>\n",
       "      <td>...</td>\n",
       "      <td>...</td>\n",
       "      <td>...</td>\n",
       "      <td>...</td>\n",
       "    </tr>\n",
       "    <tr>\n",
       "      <th>653218</th>\n",
       "      <td>2400.0</td>\n",
       "      <td>2400.0</td>\n",
       "      <td>Services</td>\n",
       "      <td>Services</td>\n",
       "      <td>replace an outdated computer, retain a busines...</td>\n",
       "      <td>US</td>\n",
       "      <td>United States</td>\n",
       "      <td>NaN</td>\n",
       "      <td>USD</td>\n",
       "      <td>12.0</td>\n",
       "      <td>25</td>\n",
       "      <td>female</td>\n",
       "      <td>monthly</td>\n",
       "    </tr>\n",
       "    <tr>\n",
       "      <th>653219</th>\n",
       "      <td>5000.0</td>\n",
       "      <td>5000.0</td>\n",
       "      <td>Clothing</td>\n",
       "      <td>Clothing</td>\n",
       "      <td>produce 100 pieces of my master piece, The Per...</td>\n",
       "      <td>US</td>\n",
       "      <td>United States</td>\n",
       "      <td>NaN</td>\n",
       "      <td>USD</td>\n",
       "      <td>24.0</td>\n",
       "      <td>107</td>\n",
       "      <td>female</td>\n",
       "      <td>monthly</td>\n",
       "    </tr>\n",
       "    <tr>\n",
       "      <th>653222</th>\n",
       "      <td>4800.0</td>\n",
       "      <td>4800.0</td>\n",
       "      <td>Agriculture</td>\n",
       "      <td>Agriculture</td>\n",
       "      <td>complete projects in a timely manner without b...</td>\n",
       "      <td>US</td>\n",
       "      <td>United States</td>\n",
       "      <td>NaN</td>\n",
       "      <td>USD</td>\n",
       "      <td>30.0</td>\n",
       "      <td>70</td>\n",
       "      <td>male</td>\n",
       "      <td>monthly</td>\n",
       "    </tr>\n",
       "    <tr>\n",
       "      <th>661822</th>\n",
       "      <td>1350.0</td>\n",
       "      <td>1350.0</td>\n",
       "      <td>Restaurant</td>\n",
       "      <td>Food</td>\n",
       "      <td>to purchase materials to maintain her small re...</td>\n",
       "      <td>VN</td>\n",
       "      <td>Vietnam</td>\n",
       "      <td>NaN</td>\n",
       "      <td>VND</td>\n",
       "      <td>14.0</td>\n",
       "      <td>42</td>\n",
       "      <td>female, female, female</td>\n",
       "      <td>monthly</td>\n",
       "    </tr>\n",
       "    <tr>\n",
       "      <th>670918</th>\n",
       "      <td>1150.0</td>\n",
       "      <td>1150.0</td>\n",
       "      <td>Used Clothing</td>\n",
       "      <td>Clothing</td>\n",
       "      <td>to restock secondhand clothing for sale.</td>\n",
       "      <td>ZW</td>\n",
       "      <td>Zimbabwe</td>\n",
       "      <td>NaN</td>\n",
       "      <td>USD</td>\n",
       "      <td>9.0</td>\n",
       "      <td>37</td>\n",
       "      <td>female, female, female, female</td>\n",
       "      <td>irregular</td>\n",
       "    </tr>\n",
       "  </tbody>\n",
       "</table>\n",
       "<p>51621 rows × 13 columns</p>\n",
       "</div>"
      ],
      "text/plain": [
       "        funded_amount  loan_amount                   activity       sector  \\\n",
       "9               925.0        925.0                  Livestock  Agriculture   \n",
       "17             1275.0       2575.0                     Retail       Retail   \n",
       "21              925.0        925.0  Personal Housing Expenses      Housing   \n",
       "22              900.0        900.0     Higher education costs    Education   \n",
       "24             1450.0       1450.0  Personal Housing Expenses      Housing   \n",
       "...               ...          ...                        ...          ...   \n",
       "653218         2400.0       2400.0                   Services     Services   \n",
       "653219         5000.0       5000.0                   Clothing     Clothing   \n",
       "653222         4800.0       4800.0                Agriculture  Agriculture   \n",
       "661822         1350.0       1350.0                 Restaurant         Food   \n",
       "670918         1150.0       1150.0              Used Clothing     Clothing   \n",
       "\n",
       "                                                      use country_code  \\\n",
       "9                  to build a roof for her animal stable.           AL   \n",
       "17       to purchase drapes, sheets and blankets to sell.           AL   \n",
       "21      To make minor repairs to their washroom and bu...           AL   \n",
       "22              to pay her son's university tuition fees.           AL   \n",
       "24      to make home improvements by installing energy...           AL   \n",
       "...                                                   ...          ...   \n",
       "653218  replace an outdated computer, retain a busines...           US   \n",
       "653219  produce 100 pieces of my master piece, The Per...           US   \n",
       "653222  complete projects in a timely manner without b...           US   \n",
       "661822  to purchase materials to maintain her small re...           VN   \n",
       "670918           to restock secondhand clothing for sale.           ZW   \n",
       "\n",
       "              country region currency  term_in_months  lender_count  \\\n",
       "9             Albania    NaN      ALL            26.0            33   \n",
       "17            Albania    NaN      ALL            38.0            24   \n",
       "21            Albania    NaN      ALL            18.0            31   \n",
       "22            Albania    NaN      ALL            22.0            31   \n",
       "24            Albania    NaN      ALL            26.0            53   \n",
       "...               ...    ...      ...             ...           ...   \n",
       "653218  United States    NaN      USD            12.0            25   \n",
       "653219  United States    NaN      USD            24.0           107   \n",
       "653222  United States    NaN      USD            30.0            70   \n",
       "661822        Vietnam    NaN      VND            14.0            42   \n",
       "670918       Zimbabwe    NaN      USD             9.0            37   \n",
       "\n",
       "                      borrower_genders repayment_interval  \n",
       "9                               female            monthly  \n",
       "17                                male            monthly  \n",
       "21                              female            monthly  \n",
       "22                              female            monthly  \n",
       "24                              female            monthly  \n",
       "...                                ...                ...  \n",
       "653218                          female            monthly  \n",
       "653219                          female            monthly  \n",
       "653222                            male            monthly  \n",
       "661822          female, female, female            monthly  \n",
       "670918  female, female, female, female          irregular  \n",
       "\n",
       "[51621 rows x 13 columns]"
      ]
     },
     "execution_count": 41,
     "metadata": {},
     "output_type": "execute_result"
    }
   ],
   "source": [
    "df_region = df.loc[df.loc[:, 'region'].isnull() == True]\n",
    "df_region"
   ]
  },
  {
   "cell_type": "code",
   "execution_count": 42,
   "id": "c2769fdb",
   "metadata": {
    "ExecuteTime": {
     "end_time": "2022-06-02T11:26:47.084808Z",
     "start_time": "2022-06-02T11:26:47.064612Z"
    }
   },
   "outputs": [
    {
     "name": "stdout",
     "output_type": "stream",
     "text": [
      "7.8% der noch verbliebenden Daten sind betroffen.\n"
     ]
    }
   ],
   "source": [
    "print('{perc:.1%} der noch verbliebenden Daten sind betroffen.'.format(perc=len(df_region)/len(df)))"
   ]
  },
  {
   "cell_type": "code",
   "execution_count": 43,
   "id": "ad4c7e7f",
   "metadata": {
    "ExecuteTime": {
     "end_time": "2022-06-02T11:26:47.125182Z",
     "start_time": "2022-06-02T11:26:47.086861Z"
    }
   },
   "outputs": [
    {
     "data": {
      "text/html": [
       "<div>\n",
       "<style scoped>\n",
       "    .dataframe tbody tr th:only-of-type {\n",
       "        vertical-align: middle;\n",
       "    }\n",
       "\n",
       "    .dataframe tbody tr th {\n",
       "        vertical-align: top;\n",
       "    }\n",
       "\n",
       "    .dataframe thead th {\n",
       "        text-align: right;\n",
       "    }\n",
       "</style>\n",
       "<table border=\"1\" class=\"dataframe\">\n",
       "  <thead>\n",
       "    <tr style=\"text-align: right;\">\n",
       "      <th></th>\n",
       "      <th>funded_amount</th>\n",
       "      <th>loan_amount</th>\n",
       "      <th>term_in_months</th>\n",
       "      <th>lender_count</th>\n",
       "    </tr>\n",
       "  </thead>\n",
       "  <tbody>\n",
       "    <tr>\n",
       "      <th>count</th>\n",
       "      <td>51621.000000</td>\n",
       "      <td>51621.000000</td>\n",
       "      <td>51621.000000</td>\n",
       "      <td>51621.000000</td>\n",
       "    </tr>\n",
       "    <tr>\n",
       "      <th>mean</th>\n",
       "      <td>1222.389144</td>\n",
       "      <td>1374.877472</td>\n",
       "      <td>13.438930</td>\n",
       "      <td>30.085605</td>\n",
       "    </tr>\n",
       "    <tr>\n",
       "      <th>std</th>\n",
       "      <td>1857.113618</td>\n",
       "      <td>1998.741679</td>\n",
       "      <td>7.916555</td>\n",
       "      <td>38.714436</td>\n",
       "    </tr>\n",
       "    <tr>\n",
       "      <th>min</th>\n",
       "      <td>5.000000</td>\n",
       "      <td>25.000000</td>\n",
       "      <td>1.000000</td>\n",
       "      <td>1.000000</td>\n",
       "    </tr>\n",
       "    <tr>\n",
       "      <th>25%</th>\n",
       "      <td>300.000000</td>\n",
       "      <td>325.000000</td>\n",
       "      <td>8.000000</td>\n",
       "      <td>10.000000</td>\n",
       "    </tr>\n",
       "    <tr>\n",
       "      <th>50%</th>\n",
       "      <td>525.000000</td>\n",
       "      <td>600.000000</td>\n",
       "      <td>14.000000</td>\n",
       "      <td>17.000000</td>\n",
       "    </tr>\n",
       "    <tr>\n",
       "      <th>75%</th>\n",
       "      <td>1125.000000</td>\n",
       "      <td>1375.000000</td>\n",
       "      <td>16.000000</td>\n",
       "      <td>34.000000</td>\n",
       "    </tr>\n",
       "    <tr>\n",
       "      <th>max</th>\n",
       "      <td>50000.000000</td>\n",
       "      <td>50000.000000</td>\n",
       "      <td>120.000000</td>\n",
       "      <td>1465.000000</td>\n",
       "    </tr>\n",
       "  </tbody>\n",
       "</table>\n",
       "</div>"
      ],
      "text/plain": [
       "       funded_amount   loan_amount  term_in_months  lender_count\n",
       "count   51621.000000  51621.000000    51621.000000  51621.000000\n",
       "mean     1222.389144   1374.877472       13.438930     30.085605\n",
       "std      1857.113618   1998.741679        7.916555     38.714436\n",
       "min         5.000000     25.000000        1.000000      1.000000\n",
       "25%       300.000000    325.000000        8.000000     10.000000\n",
       "50%       525.000000    600.000000       14.000000     17.000000\n",
       "75%      1125.000000   1375.000000       16.000000     34.000000\n",
       "max     50000.000000  50000.000000      120.000000   1465.000000"
      ]
     },
     "execution_count": 43,
     "metadata": {},
     "output_type": "execute_result"
    }
   ],
   "source": [
    "df_region.describe()"
   ]
  },
  {
   "cell_type": "code",
   "execution_count": 44,
   "id": "c3b1974b",
   "metadata": {
    "ExecuteTime": {
     "end_time": "2022-06-02T11:26:47.206109Z",
     "start_time": "2022-06-02T11:26:47.125249Z"
    }
   },
   "outputs": [
    {
     "data": {
      "text/plain": [
       "funded_amount           519\n",
       "loan_amount             402\n",
       "activity                153\n",
       "sector                   15\n",
       "use                   45726\n",
       "country_code             40\n",
       "country                  40\n",
       "region                    0\n",
       "currency                 29\n",
       "term_in_months           50\n",
       "lender_count            344\n",
       "borrower_genders       2445\n",
       "repayment_interval        4\n",
       "dtype: int64"
      ]
     },
     "execution_count": 44,
     "metadata": {},
     "output_type": "execute_result"
    }
   ],
   "source": [
    "df_region.nunique()"
   ]
  },
  {
   "cell_type": "markdown",
   "id": "01cbadb7",
   "metadata": {},
   "source": [
    "Schauen wir uns mal die dazugehörigen Länder und Kategorien an."
   ]
  },
  {
   "cell_type": "code",
   "execution_count": 45,
   "id": "24fffeab",
   "metadata": {
    "ExecuteTime": {
     "end_time": "2022-06-02T11:26:47.226398Z",
     "start_time": "2022-06-02T11:26:47.206176Z"
    }
   },
   "outputs": [
    {
     "data": {
      "text/plain": [
       "array(['Agriculture', 'Retail', 'Housing', 'Education', 'Clothing',\n",
       "       'Health', 'Services', 'Entertainment', 'Personal Use',\n",
       "       'Transportation', 'Manufacturing', 'Food', 'Construction',\n",
       "       'Wholesale', 'Arts'], dtype=object)"
      ]
     },
     "execution_count": 45,
     "metadata": {},
     "output_type": "execute_result"
    }
   ],
   "source": [
    "df_region['sector'].unique()"
   ]
  },
  {
   "cell_type": "code",
   "execution_count": 46,
   "id": "5614999b",
   "metadata": {
    "ExecuteTime": {
     "end_time": "2022-06-02T11:26:47.246586Z",
     "start_time": "2022-06-02T11:26:47.228445Z"
    }
   },
   "outputs": [
    {
     "data": {
      "text/plain": [
       "array(['Albania', 'Armenia', 'Azerbaijan', 'Benin', 'Bolivia', 'Burundi',\n",
       "       'Cameroon', 'Costa Rica', 'Ecuador', 'El Salvador', 'Guam',\n",
       "       'Guatemala', 'Haiti', 'Honduras', 'Indonesia', 'Iraq', 'Israel',\n",
       "       'Jordan', 'Kenya', 'Kosovo', 'Lebanon', 'Madagascar', 'Malawi',\n",
       "       'Mali', 'Mexico', 'Nicaragua', 'Pakistan', 'Palestine', 'Peru',\n",
       "       'Philippines', 'Puerto Rico', 'Rwanda', 'Senegal', 'South Africa',\n",
       "       'Tajikistan', 'The Democratic Republic of the Congo', 'Turkey',\n",
       "       'United States', 'Vietnam', 'Zimbabwe'], dtype=object)"
      ]
     },
     "execution_count": 46,
     "metadata": {},
     "output_type": "execute_result"
    }
   ],
   "source": [
    "df_region['country'].unique()"
   ]
  },
  {
   "cell_type": "markdown",
   "id": "2849ef95",
   "metadata": {},
   "source": [
    "Es befinden sich größtenteils kleinere Länder, dessen Regionen nicht angegeben wurden. Schauen wir ins das ganze mal im kompletten Datensatz an."
   ]
  },
  {
   "cell_type": "code",
   "execution_count": 47,
   "id": "e8a08bcd",
   "metadata": {
    "ExecuteTime": {
     "end_time": "2022-06-02T11:26:47.428608Z",
     "start_time": "2022-06-02T11:26:47.248641Z"
    }
   },
   "outputs": [
    {
     "data": {
      "text/html": [
       "<div>\n",
       "<style scoped>\n",
       "    .dataframe tbody tr th:only-of-type {\n",
       "        vertical-align: middle;\n",
       "    }\n",
       "\n",
       "    .dataframe tbody tr th {\n",
       "        vertical-align: top;\n",
       "    }\n",
       "\n",
       "    .dataframe thead th {\n",
       "        text-align: right;\n",
       "    }\n",
       "</style>\n",
       "<table border=\"1\" class=\"dataframe\">\n",
       "  <thead>\n",
       "    <tr style=\"text-align: right;\">\n",
       "      <th></th>\n",
       "      <th></th>\n",
       "      <th>Angabe_Regionen</th>\n",
       "    </tr>\n",
       "    <tr>\n",
       "      <th>country</th>\n",
       "      <th>region</th>\n",
       "      <th></th>\n",
       "    </tr>\n",
       "  </thead>\n",
       "  <tbody>\n",
       "    <tr>\n",
       "      <th>Nigeria</th>\n",
       "      <th>Kaduna</th>\n",
       "      <td>9875</td>\n",
       "    </tr>\n",
       "    <tr>\n",
       "      <th rowspan=\"2\" valign=\"top\">Pakistan</th>\n",
       "      <th>Lahore</th>\n",
       "      <td>7132</td>\n",
       "    </tr>\n",
       "    <tr>\n",
       "      <th>Rawalpindi</th>\n",
       "      <td>4455</td>\n",
       "    </tr>\n",
       "    <tr>\n",
       "      <th>Peru</th>\n",
       "      <th>Cusco</th>\n",
       "      <td>3841</td>\n",
       "    </tr>\n",
       "    <tr>\n",
       "      <th>Tanzania</th>\n",
       "      <th>Dar es Salaam</th>\n",
       "      <td>3718</td>\n",
       "    </tr>\n",
       "    <tr>\n",
       "      <th>Kenya</th>\n",
       "      <th>Kisii</th>\n",
       "      <td>3545</td>\n",
       "    </tr>\n",
       "    <tr>\n",
       "      <th rowspan=\"3\" valign=\"top\">Philippines</th>\n",
       "      <th>Palo, Leyte</th>\n",
       "      <td>3320</td>\n",
       "    </tr>\n",
       "    <tr>\n",
       "      <th>Narra, Palawan</th>\n",
       "      <td>3197</td>\n",
       "    </tr>\n",
       "    <tr>\n",
       "      <th>Quezon, Palawan</th>\n",
       "      <td>3120</td>\n",
       "    </tr>\n",
       "    <tr>\n",
       "      <th>Kenya</th>\n",
       "      <th>Kitale</th>\n",
       "      <td>3072</td>\n",
       "    </tr>\n",
       "  </tbody>\n",
       "</table>\n",
       "</div>"
      ],
      "text/plain": [
       "                             Angabe_Regionen\n",
       "country     region                          \n",
       "Nigeria     Kaduna                      9875\n",
       "Pakistan    Lahore                      7132\n",
       "            Rawalpindi                  4455\n",
       "Peru        Cusco                       3841\n",
       "Tanzania    Dar es Salaam               3718\n",
       "Kenya       Kisii                       3545\n",
       "Philippines Palo, Leyte                 3320\n",
       "            Narra, Palawan              3197\n",
       "            Quezon, Palawan             3120\n",
       "Kenya       Kitale                      3072"
      ]
     },
     "execution_count": 47,
     "metadata": {},
     "output_type": "execute_result"
    }
   ],
   "source": [
    "df.groupby(by=['country', 'region']).agg(Angabe_Regionen=('use',\n",
    "                                                'size')).sort_values(\n",
    "                                                    ['Angabe_Regionen'],\n",
    "                                                    ascending=False).head(10)"
   ]
  },
  {
   "cell_type": "markdown",
   "id": "848e7826",
   "metadata": {},
   "source": [
    "Interessante Erkenntnis:\n",
    "Nigeria und Pakistan sind die Länder, bei denen am häufigsten die Region mit angegeben wurde.\n",
    "\n",
    "Nun schauen wir uns mal die Top 10 der Länder an, welche am meisten Regionen angegeben haben. Vielleicht generieren wir damit einen gwissen Mehrwert."
   ]
  },
  {
   "cell_type": "code",
   "execution_count": 48,
   "id": "6bdd787a",
   "metadata": {
    "ExecuteTime": {
     "end_time": "2022-06-02T11:26:47.671587Z",
     "start_time": "2022-06-02T11:26:47.428680Z"
    }
   },
   "outputs": [
    {
     "name": "stdout",
     "output_type": "stream",
     "text": [
      "68.5% der angegebenen Regionen sind auf 10 Länder verteilt.\n"
     ]
    },
    {
     "data": {
      "text/html": [
       "<div>\n",
       "<style scoped>\n",
       "    .dataframe tbody tr th:only-of-type {\n",
       "        vertical-align: middle;\n",
       "    }\n",
       "\n",
       "    .dataframe tbody tr th {\n",
       "        vertical-align: top;\n",
       "    }\n",
       "\n",
       "    .dataframe thead th {\n",
       "        text-align: right;\n",
       "    }\n",
       "</style>\n",
       "<table border=\"1\" class=\"dataframe\">\n",
       "  <thead>\n",
       "    <tr style=\"text-align: right;\">\n",
       "      <th></th>\n",
       "      <th>Anzahl_Regionen</th>\n",
       "    </tr>\n",
       "    <tr>\n",
       "      <th>country</th>\n",
       "      <th></th>\n",
       "    </tr>\n",
       "  </thead>\n",
       "  <tbody>\n",
       "    <tr>\n",
       "      <th>Philippines</th>\n",
       "      <td>3632</td>\n",
       "    </tr>\n",
       "    <tr>\n",
       "      <th>Mexico</th>\n",
       "      <td>761</td>\n",
       "    </tr>\n",
       "    <tr>\n",
       "      <th>Kyrgyzstan</th>\n",
       "      <td>719</td>\n",
       "    </tr>\n",
       "    <tr>\n",
       "      <th>Armenia</th>\n",
       "      <td>666</td>\n",
       "    </tr>\n",
       "    <tr>\n",
       "      <th>Mali</th>\n",
       "      <td>627</td>\n",
       "    </tr>\n",
       "    <tr>\n",
       "      <th>Peru</th>\n",
       "      <td>577</td>\n",
       "    </tr>\n",
       "    <tr>\n",
       "      <th>Georgia</th>\n",
       "      <td>560</td>\n",
       "    </tr>\n",
       "    <tr>\n",
       "      <th>Kenya</th>\n",
       "      <td>393</td>\n",
       "    </tr>\n",
       "    <tr>\n",
       "      <th>Vietnam</th>\n",
       "      <td>382</td>\n",
       "    </tr>\n",
       "    <tr>\n",
       "      <th>Cambodia</th>\n",
       "      <td>369</td>\n",
       "    </tr>\n",
       "  </tbody>\n",
       "</table>\n",
       "</div>"
      ],
      "text/plain": [
       "             Anzahl_Regionen\n",
       "country                     \n",
       "Philippines             3632\n",
       "Mexico                   761\n",
       "Kyrgyzstan               719\n",
       "Armenia                  666\n",
       "Mali                     627\n",
       "Peru                     577\n",
       "Georgia                  560\n",
       "Kenya                    393\n",
       "Vietnam                  382\n",
       "Cambodia                 369"
      ]
     },
     "execution_count": 48,
     "metadata": {},
     "output_type": "execute_result"
    }
   ],
   "source": [
    "top = 10\n",
    "\n",
    "d_region = {}\n",
    "\n",
    "name = f'top{top}_regions'\n",
    "\n",
    "d_region[name] = df.groupby(by=['country']).agg(\n",
    "    Anzahl_Regionen=('region',\n",
    "                     'nunique')).sort_values(['Anzahl_Regionen'],\n",
    "                                             ascending=False).head(top)\n",
    "\n",
    "perc_regions = d_region[name].sum() / df['region'].nunique()\n",
    "\n",
    "print(\n",
    "    '{perc:.1%} der angegebenen Regionen sind auf {best_of} Länder verteilt.'\n",
    "    .format(perc=perc_regions[0], best_of=10))\n",
    "\n",
    "d_region[name]"
   ]
  },
  {
   "cell_type": "markdown",
   "id": "bba3fc36",
   "metadata": {},
   "source": [
    "##### Zusammenfassung für die Spalte 'region'\n",
    "Da sich ca. 70% der angegebenen Regionen auf so einen kleinen Anteil der Länder verteilt und wir leider keine anderen nützlichen Daten wie die dazugehörigen Städte oder besser noch Koordinaten haben, ist diese Spalte für uns weniger wertvoll als anfangs gedacht. Daher wird diese Spalte aus dem Datensatz gelöscht."
   ]
  },
  {
   "cell_type": "code",
   "execution_count": 49,
   "id": "4111a888",
   "metadata": {
    "ExecuteTime": {
     "end_time": "2022-06-02T11:26:47.793240Z",
     "start_time": "2022-06-02T11:26:47.673728Z"
    }
   },
   "outputs": [],
   "source": [
    "df.drop(columns='region', inplace=True)"
   ]
  },
  {
   "cell_type": "code",
   "execution_count": 50,
   "id": "390ad813",
   "metadata": {
    "ExecuteTime": {
     "end_time": "2022-06-02T11:26:47.833655Z",
     "start_time": "2022-06-02T11:26:47.795304Z"
    }
   },
   "outputs": [
    {
     "data": {
      "text/html": [
       "<div>\n",
       "<style scoped>\n",
       "    .dataframe tbody tr th:only-of-type {\n",
       "        vertical-align: middle;\n",
       "    }\n",
       "\n",
       "    .dataframe tbody tr th {\n",
       "        vertical-align: top;\n",
       "    }\n",
       "\n",
       "    .dataframe thead th {\n",
       "        text-align: right;\n",
       "    }\n",
       "</style>\n",
       "<table border=\"1\" class=\"dataframe\">\n",
       "  <thead>\n",
       "    <tr style=\"text-align: right;\">\n",
       "      <th></th>\n",
       "      <th>funded_amount</th>\n",
       "      <th>loan_amount</th>\n",
       "      <th>activity</th>\n",
       "      <th>sector</th>\n",
       "      <th>use</th>\n",
       "      <th>country_code</th>\n",
       "      <th>country</th>\n",
       "      <th>currency</th>\n",
       "      <th>term_in_months</th>\n",
       "      <th>lender_count</th>\n",
       "      <th>borrower_genders</th>\n",
       "      <th>repayment_interval</th>\n",
       "    </tr>\n",
       "  </thead>\n",
       "  <tbody>\n",
       "    <tr>\n",
       "      <th>0</th>\n",
       "      <td>8000.0</td>\n",
       "      <td>8000.0</td>\n",
       "      <td>Textiles</td>\n",
       "      <td>Arts</td>\n",
       "      <td>To purchase raw materials, including fabrics, ...</td>\n",
       "      <td>AF</td>\n",
       "      <td>Afghanistan</td>\n",
       "      <td>USD</td>\n",
       "      <td>6.0</td>\n",
       "      <td>308</td>\n",
       "      <td>female</td>\n",
       "      <td>bullet</td>\n",
       "    </tr>\n",
       "    <tr>\n",
       "      <th>1</th>\n",
       "      <td>6000.0</td>\n",
       "      <td>6000.0</td>\n",
       "      <td>Textiles</td>\n",
       "      <td>Arts</td>\n",
       "      <td>To buy 9 sewing machines that will increase pr...</td>\n",
       "      <td>AF</td>\n",
       "      <td>Afghanistan</td>\n",
       "      <td>USD</td>\n",
       "      <td>8.0</td>\n",
       "      <td>204</td>\n",
       "      <td>female</td>\n",
       "      <td>bullet</td>\n",
       "    </tr>\n",
       "    <tr>\n",
       "      <th>2</th>\n",
       "      <td>825.0</td>\n",
       "      <td>825.0</td>\n",
       "      <td>Agriculture</td>\n",
       "      <td>Agriculture</td>\n",
       "      <td>to buy a dairy cow</td>\n",
       "      <td>AL</td>\n",
       "      <td>Albania</td>\n",
       "      <td>ALL</td>\n",
       "      <td>20.0</td>\n",
       "      <td>26</td>\n",
       "      <td>female</td>\n",
       "      <td>monthly</td>\n",
       "    </tr>\n",
       "    <tr>\n",
       "      <th>3</th>\n",
       "      <td>2775.0</td>\n",
       "      <td>2775.0</td>\n",
       "      <td>Agriculture</td>\n",
       "      <td>Agriculture</td>\n",
       "      <td>to repair the damaged animal stable and also d...</td>\n",
       "      <td>AL</td>\n",
       "      <td>Albania</td>\n",
       "      <td>ALL</td>\n",
       "      <td>26.0</td>\n",
       "      <td>101</td>\n",
       "      <td>male</td>\n",
       "      <td>monthly</td>\n",
       "    </tr>\n",
       "    <tr>\n",
       "      <th>4</th>\n",
       "      <td>825.0</td>\n",
       "      <td>825.0</td>\n",
       "      <td>Personal Housing Expenses</td>\n",
       "      <td>Housing</td>\n",
       "      <td>to repair windows and doors in her house.</td>\n",
       "      <td>AL</td>\n",
       "      <td>Albania</td>\n",
       "      <td>ALL</td>\n",
       "      <td>14.0</td>\n",
       "      <td>32</td>\n",
       "      <td>female</td>\n",
       "      <td>monthly</td>\n",
       "    </tr>\n",
       "  </tbody>\n",
       "</table>\n",
       "</div>"
      ],
      "text/plain": [
       "   funded_amount  loan_amount                   activity       sector  \\\n",
       "0         8000.0       8000.0                   Textiles         Arts   \n",
       "1         6000.0       6000.0                   Textiles         Arts   \n",
       "2          825.0        825.0                Agriculture  Agriculture   \n",
       "3         2775.0       2775.0                Agriculture  Agriculture   \n",
       "4          825.0        825.0  Personal Housing Expenses      Housing   \n",
       "\n",
       "                                                 use country_code  \\\n",
       "0  To purchase raw materials, including fabrics, ...           AF   \n",
       "1  To buy 9 sewing machines that will increase pr...           AF   \n",
       "2                                 to buy a dairy cow           AL   \n",
       "3  to repair the damaged animal stable and also d...           AL   \n",
       "4          to repair windows and doors in her house.           AL   \n",
       "\n",
       "       country currency  term_in_months  lender_count borrower_genders  \\\n",
       "0  Afghanistan      USD             6.0           308           female   \n",
       "1  Afghanistan      USD             8.0           204           female   \n",
       "2      Albania      ALL            20.0            26           female   \n",
       "3      Albania      ALL            26.0           101             male   \n",
       "4      Albania      ALL            14.0            32           female   \n",
       "\n",
       "  repayment_interval  \n",
       "0             bullet  \n",
       "1             bullet  \n",
       "2            monthly  \n",
       "3            monthly  \n",
       "4            monthly  "
      ]
     },
     "execution_count": 50,
     "metadata": {},
     "output_type": "execute_result"
    }
   ],
   "source": [
    "# check ob Löschen funktioniert hat.\n",
    "df.head()"
   ]
  },
  {
   "cell_type": "code",
   "execution_count": 51,
   "id": "6bb453ea",
   "metadata": {
    "ExecuteTime": {
     "end_time": "2022-06-02T11:26:48.581336Z",
     "start_time": "2022-06-02T11:26:47.835686Z"
    }
   },
   "outputs": [
    {
     "data": {
      "text/plain": [
       "funded_amount         0\n",
       "loan_amount           0\n",
       "activity              0\n",
       "sector                0\n",
       "use                   0\n",
       "country_code          0\n",
       "country               0\n",
       "currency              0\n",
       "term_in_months        0\n",
       "lender_count          0\n",
       "borrower_genders      0\n",
       "repayment_interval    0\n",
       "dtype: int64"
      ]
     },
     "execution_count": 51,
     "metadata": {},
     "output_type": "execute_result"
    }
   ],
   "source": [
    "df.isnull().sum()"
   ]
  },
  {
   "cell_type": "markdown",
   "id": "278b0dfc",
   "metadata": {},
   "source": [
    "### Generierung von Zusatzinformationen\n",
    "\n",
    "Nachfolgend wollen wir uns den Datensatz noch einmal genauer anschauen und prüfen, ob wir noch zusätzliche Informationen ('_Features_') generieren können. Zum einen bietet die Spalte **borrower_genders** Potenzial aber auch die Spalte der Länder. Hier können wir die Tabelle ebenfalls noch etwas präzisieren."
   ]
  },
  {
   "cell_type": "markdown",
   "id": "071fc5c6",
   "metadata": {},
   "source": [
    "#### Aufbereitung der Spalte 'borrower_genders'\n",
    "Die Spalte **borrower_genders** viel bereits schon früher auf. Obwohl es 'nur' eine Spalte für das Geschlecht war, hatten wir bei der statistischen Übersicht bereits festgestellt, das die Werteangabe nicht dem entspricht, was wir uns vorstellen. Daher überprüfen wir diese Spalte nun genauer."
   ]
  },
  {
   "cell_type": "code",
   "execution_count": 52,
   "id": "2317f6ec",
   "metadata": {
    "ExecuteTime": {
     "end_time": "2022-06-02T11:26:49.187914Z",
     "start_time": "2022-06-02T11:26:48.581416Z"
    }
   },
   "outputs": [
    {
     "data": {
      "text/plain": [
       "funded_amount            597\n",
       "loan_amount              476\n",
       "activity                 163\n",
       "sector                    15\n",
       "use                   422600\n",
       "country_code              86\n",
       "country                   86\n",
       "currency                  67\n",
       "term_in_months           148\n",
       "lender_count             498\n",
       "borrower_genders       11280\n",
       "repayment_interval         4\n",
       "dtype: int64"
      ]
     },
     "execution_count": 52,
     "metadata": {},
     "output_type": "execute_result"
    }
   ],
   "source": [
    "df.nunique()"
   ]
  },
  {
   "cell_type": "code",
   "execution_count": 53,
   "id": "9f996dd0",
   "metadata": {
    "ExecuteTime": {
     "end_time": "2022-06-02T11:26:49.248440Z",
     "start_time": "2022-06-02T11:26:49.189944Z"
    }
   },
   "outputs": [
    {
     "data": {
      "text/plain": [
       "female                                                                                                            424653\n",
       "male                                                                                                              133563\n",
       "female, female                                                                                                     12118\n",
       "female, female, female                                                                                             11647\n",
       "female, female, female, female                                                                                      9018\n",
       "                                                                                                                   ...  \n",
       "male, male, male, female, male, male, male, male, male, male, male, male, female, female, female                       1\n",
       "female, female, female, female, female, female, male, male, male, male, female, male, female, male, male, male         1\n",
       "male, female, male, male, female, male, female, female, male, female, female                                           1\n",
       "female, female, male, female, male, female, female, male, female, male, male, male, male, male, female, male           1\n",
       "female, female, female, female, male, male, male, male, male, male, male, female, male                                 1\n",
       "Name: borrower_genders, Length: 11280, dtype: int64"
      ]
     },
     "execution_count": 53,
     "metadata": {},
     "output_type": "execute_result"
    }
   ],
   "source": [
    "n_genders = df['borrower_genders'].value_counts()\n",
    "n_genders"
   ]
  },
  {
   "cell_type": "markdown",
   "id": "a49dc21c",
   "metadata": {},
   "source": [
    "#### Bereinigen/Vorbereiten der Daten\n",
    "Diese Auflistung scheint sowohl die Anzahl der Investoren als auch dessen jeweiliges Geschlecht zu repräsentieren.\n",
    "Wir können also die Spalte in entsprechend viele Zusatzspalten aufteilen und die jeweilige Summe der Projektteilnehmer einfügen. Zuvor prüfen wir, wieviele verschiedene Geschlechterbezeichnungen sich in dem Datensatz befinden."
   ]
  },
  {
   "cell_type": "code",
   "execution_count": 54,
   "id": "b824d25e",
   "metadata": {
    "ExecuteTime": {
     "end_time": "2022-06-02T11:26:50.226871Z",
     "start_time": "2022-06-02T11:26:49.248440Z"
    }
   },
   "outputs": [
    {
     "data": {
      "text/plain": [
       "0                                 [female]\n",
       "1                                 [female]\n",
       "2                                 [female]\n",
       "3                                   [male]\n",
       "4                                 [female]\n",
       "                        ...               \n",
       "671200    [female, female, female, female]\n",
       "671201                            [female]\n",
       "671202                            [female]\n",
       "671203    [female, female, female, female]\n",
       "671204                            [female]\n",
       "Name: borrower_genders, Length: 663721, dtype: object"
      ]
     },
     "execution_count": 54,
     "metadata": {},
     "output_type": "execute_result"
    }
   ],
   "source": [
    "# Wir entfernen erst alle Leerzeichen und teilen die Zeichenkette anschließend am Komma\n",
    "borrower = df['borrower_genders'].str.replace(' ', '').str.split(',')\n",
    "borrower"
   ]
  },
  {
   "cell_type": "markdown",
   "id": "0f9db590",
   "metadata": {},
   "source": [
    "Nun ermitteln wir das eindeutige Geschlecht für jeden Datensatz und erzeugen uns hierfür jeweils eine neue Spalte, in denen wir schließlich die jeweilige Anzahl der Projektinitiatoren eintragen können.\n",
    "\n",
    "https://towardsdatascience.com/dealing-with-list-values-in-pandas-dataframes-a177e534f173"
   ]
  },
  {
   "cell_type": "code",
   "execution_count": 55,
   "id": "c9300fec",
   "metadata": {
    "ExecuteTime": {
     "end_time": "2022-06-02T11:26:50.246970Z",
     "start_time": "2022-06-02T11:26:50.226871Z"
    }
   },
   "outputs": [],
   "source": [
    "# Funktion, welche die Geschlechterspalte in ein eindimensionales Objekt umwandelt\n",
    "\n",
    "def to_1D(series):\n",
    "    return pd.Series([x for _list in series for x in _list])\n",
    "\n",
    "#to_1D(borrower)"
   ]
  },
  {
   "cell_type": "code",
   "execution_count": 56,
   "id": "bad30f52",
   "metadata": {
    "ExecuteTime": {
     "end_time": "2022-06-02T11:26:50.550355Z",
     "start_time": "2022-06-02T11:26:50.246970Z"
    }
   },
   "outputs": [],
   "source": [
    "unique_genders = to_1D(borrower).unique()\n",
    "#unique_genders"
   ]
  },
  {
   "cell_type": "markdown",
   "id": "1c429bb3",
   "metadata": {},
   "source": [
    "Wir haben also nur zwei verschiedene Geschlechter (male + female). Somit können wir jeweile eine Spalte erzeugen und die gezählten Ergebnisse in diese eintragen."
   ]
  },
  {
   "cell_type": "markdown",
   "id": "fd08aac5",
   "metadata": {},
   "source": [
    "#### Auszählen der Geschlechter je Zeile"
   ]
  },
  {
   "cell_type": "code",
   "execution_count": 57,
   "id": "8c5558bc",
   "metadata": {
    "ExecuteTime": {
     "end_time": "2022-06-02T11:26:51.156912Z",
     "start_time": "2022-06-02T11:26:50.550355Z"
    }
   },
   "outputs": [],
   "source": [
    "d_genders = {}\n",
    "\n",
    "for gender in unique_genders:\n",
    "    name = f'borrower_{gender}s'\n",
    "    d_genders[name] = borrower.apply(lambda lst: (lst.count(gender)))\n",
    "    d_genders[name].rename(name, inplace=True)\n",
    "    \n",
    "#d_genders"
   ]
  },
  {
   "cell_type": "code",
   "execution_count": 58,
   "id": "40283edf",
   "metadata": {
    "ExecuteTime": {
     "end_time": "2022-06-02T11:26:51.172106Z",
     "start_time": "2022-06-02T11:26:51.158932Z"
    }
   },
   "outputs": [
    {
     "data": {
      "text/plain": [
       "dict_keys(['borrower_females', 'borrower_males'])"
      ]
     },
     "execution_count": 58,
     "metadata": {},
     "output_type": "execute_result"
    }
   ],
   "source": [
    "d_genders.keys()"
   ]
  },
  {
   "cell_type": "code",
   "execution_count": 59,
   "id": "71d5d727",
   "metadata": {
    "ExecuteTime": {
     "end_time": "2022-06-02T11:26:51.187251Z",
     "start_time": "2022-06-02T11:26:51.174158Z"
    }
   },
   "outputs": [],
   "source": [
    "to_concat = [df]\n",
    "\n",
    "for key in d_genders.keys():\n",
    "    to_concat.append(d_genders[key])"
   ]
  },
  {
   "cell_type": "markdown",
   "id": "3aa39b75",
   "metadata": {},
   "source": [
    "#### Zusammenfügen der Datensätze\n",
    "\n",
    "Nun haben wir sowohl die Spalten, als auch deren Menge. Im nächsten Schritt verbinden wir die einzelnen Spalten mit unserem  ursprünglichen Datensatz und können dann die Projektteilnehmer zuordnen. Danach brauchen wir die Spalte **borrower_genders** nicht mehr und können diese löschen."
   ]
  },
  {
   "cell_type": "code",
   "execution_count": 60,
   "id": "7910b1d7",
   "metadata": {
    "ExecuteTime": {
     "end_time": "2022-06-02T11:26:51.247848Z",
     "start_time": "2022-06-02T11:26:51.189293Z"
    }
   },
   "outputs": [],
   "source": [
    "df = pd.concat(to_concat, axis=1)\n",
    "# Option 'copy=False' scheint nicht zu funktionieren\n",
    "# daher wird über Wertzuweisung der alte Datensatz überschrieben"
   ]
  },
  {
   "cell_type": "code",
   "execution_count": 61,
   "id": "b3230ba3",
   "metadata": {
    "ExecuteTime": {
     "end_time": "2022-06-02T11:26:51.288143Z",
     "start_time": "2022-06-02T11:26:51.249886Z"
    }
   },
   "outputs": [
    {
     "data": {
      "text/html": [
       "<div>\n",
       "<style scoped>\n",
       "    .dataframe tbody tr th:only-of-type {\n",
       "        vertical-align: middle;\n",
       "    }\n",
       "\n",
       "    .dataframe tbody tr th {\n",
       "        vertical-align: top;\n",
       "    }\n",
       "\n",
       "    .dataframe thead th {\n",
       "        text-align: right;\n",
       "    }\n",
       "</style>\n",
       "<table border=\"1\" class=\"dataframe\">\n",
       "  <thead>\n",
       "    <tr style=\"text-align: right;\">\n",
       "      <th></th>\n",
       "      <th>funded_amount</th>\n",
       "      <th>loan_amount</th>\n",
       "      <th>activity</th>\n",
       "      <th>sector</th>\n",
       "      <th>use</th>\n",
       "      <th>country_code</th>\n",
       "      <th>country</th>\n",
       "      <th>currency</th>\n",
       "      <th>term_in_months</th>\n",
       "      <th>lender_count</th>\n",
       "      <th>borrower_genders</th>\n",
       "      <th>repayment_interval</th>\n",
       "      <th>borrower_females</th>\n",
       "      <th>borrower_males</th>\n",
       "    </tr>\n",
       "  </thead>\n",
       "  <tbody>\n",
       "    <tr>\n",
       "      <th>0</th>\n",
       "      <td>8000.0</td>\n",
       "      <td>8000.0</td>\n",
       "      <td>Textiles</td>\n",
       "      <td>Arts</td>\n",
       "      <td>To purchase raw materials, including fabrics, ...</td>\n",
       "      <td>AF</td>\n",
       "      <td>Afghanistan</td>\n",
       "      <td>USD</td>\n",
       "      <td>6.0</td>\n",
       "      <td>308</td>\n",
       "      <td>female</td>\n",
       "      <td>bullet</td>\n",
       "      <td>1</td>\n",
       "      <td>0</td>\n",
       "    </tr>\n",
       "    <tr>\n",
       "      <th>1</th>\n",
       "      <td>6000.0</td>\n",
       "      <td>6000.0</td>\n",
       "      <td>Textiles</td>\n",
       "      <td>Arts</td>\n",
       "      <td>To buy 9 sewing machines that will increase pr...</td>\n",
       "      <td>AF</td>\n",
       "      <td>Afghanistan</td>\n",
       "      <td>USD</td>\n",
       "      <td>8.0</td>\n",
       "      <td>204</td>\n",
       "      <td>female</td>\n",
       "      <td>bullet</td>\n",
       "      <td>1</td>\n",
       "      <td>0</td>\n",
       "    </tr>\n",
       "    <tr>\n",
       "      <th>2</th>\n",
       "      <td>825.0</td>\n",
       "      <td>825.0</td>\n",
       "      <td>Agriculture</td>\n",
       "      <td>Agriculture</td>\n",
       "      <td>to buy a dairy cow</td>\n",
       "      <td>AL</td>\n",
       "      <td>Albania</td>\n",
       "      <td>ALL</td>\n",
       "      <td>20.0</td>\n",
       "      <td>26</td>\n",
       "      <td>female</td>\n",
       "      <td>monthly</td>\n",
       "      <td>1</td>\n",
       "      <td>0</td>\n",
       "    </tr>\n",
       "    <tr>\n",
       "      <th>3</th>\n",
       "      <td>2775.0</td>\n",
       "      <td>2775.0</td>\n",
       "      <td>Agriculture</td>\n",
       "      <td>Agriculture</td>\n",
       "      <td>to repair the damaged animal stable and also d...</td>\n",
       "      <td>AL</td>\n",
       "      <td>Albania</td>\n",
       "      <td>ALL</td>\n",
       "      <td>26.0</td>\n",
       "      <td>101</td>\n",
       "      <td>male</td>\n",
       "      <td>monthly</td>\n",
       "      <td>0</td>\n",
       "      <td>1</td>\n",
       "    </tr>\n",
       "    <tr>\n",
       "      <th>4</th>\n",
       "      <td>825.0</td>\n",
       "      <td>825.0</td>\n",
       "      <td>Personal Housing Expenses</td>\n",
       "      <td>Housing</td>\n",
       "      <td>to repair windows and doors in her house.</td>\n",
       "      <td>AL</td>\n",
       "      <td>Albania</td>\n",
       "      <td>ALL</td>\n",
       "      <td>14.0</td>\n",
       "      <td>32</td>\n",
       "      <td>female</td>\n",
       "      <td>monthly</td>\n",
       "      <td>1</td>\n",
       "      <td>0</td>\n",
       "    </tr>\n",
       "  </tbody>\n",
       "</table>\n",
       "</div>"
      ],
      "text/plain": [
       "   funded_amount  loan_amount                   activity       sector  \\\n",
       "0         8000.0       8000.0                   Textiles         Arts   \n",
       "1         6000.0       6000.0                   Textiles         Arts   \n",
       "2          825.0        825.0                Agriculture  Agriculture   \n",
       "3         2775.0       2775.0                Agriculture  Agriculture   \n",
       "4          825.0        825.0  Personal Housing Expenses      Housing   \n",
       "\n",
       "                                                 use country_code  \\\n",
       "0  To purchase raw materials, including fabrics, ...           AF   \n",
       "1  To buy 9 sewing machines that will increase pr...           AF   \n",
       "2                                 to buy a dairy cow           AL   \n",
       "3  to repair the damaged animal stable and also d...           AL   \n",
       "4          to repair windows and doors in her house.           AL   \n",
       "\n",
       "       country currency  term_in_months  lender_count borrower_genders  \\\n",
       "0  Afghanistan      USD             6.0           308           female   \n",
       "1  Afghanistan      USD             8.0           204           female   \n",
       "2      Albania      ALL            20.0            26           female   \n",
       "3      Albania      ALL            26.0           101             male   \n",
       "4      Albania      ALL            14.0            32           female   \n",
       "\n",
       "  repayment_interval  borrower_females  borrower_males  \n",
       "0             bullet                 1               0  \n",
       "1             bullet                 1               0  \n",
       "2            monthly                 1               0  \n",
       "3            monthly                 0               1  \n",
       "4            monthly                 1               0  "
      ]
     },
     "execution_count": 61,
     "metadata": {},
     "output_type": "execute_result"
    }
   ],
   "source": [
    "# check, ob das hinzufügen funktioniert hat\n",
    "df.head()"
   ]
  },
  {
   "cell_type": "code",
   "execution_count": 62,
   "id": "6b37a894",
   "metadata": {
    "ExecuteTime": {
     "end_time": "2022-06-02T11:26:51.348951Z",
     "start_time": "2022-06-02T11:26:51.290194Z"
    }
   },
   "outputs": [],
   "source": [
    "# Nun zählen wir noch die Spalten aus und fügen die Summe am Ende der Tabelle wieder an.\n",
    "df['sum_borrowers'] = df.loc[:, 'borrower_females':].sum(axis=1)"
   ]
  },
  {
   "cell_type": "code",
   "execution_count": 63,
   "id": "b1f0295f",
   "metadata": {
    "ExecuteTime": {
     "end_time": "2022-06-02T11:26:51.369191Z",
     "start_time": "2022-06-02T11:26:51.351003Z"
    }
   },
   "outputs": [
    {
     "data": {
      "text/plain": [
       "50"
      ]
     },
     "execution_count": 63,
     "metadata": {},
     "output_type": "execute_result"
    }
   ],
   "source": [
    "df['sum_borrowers'].nunique()"
   ]
  },
  {
   "cell_type": "code",
   "execution_count": 64,
   "id": "2794f037",
   "metadata": {
    "ExecuteTime": {
     "end_time": "2022-06-02T11:26:51.409522Z",
     "start_time": "2022-06-02T11:26:51.371222Z"
    }
   },
   "outputs": [
    {
     "data": {
      "text/plain": [
       "count    663721.000000\n",
       "mean          2.021601\n",
       "std           3.419356\n",
       "min           1.000000\n",
       "25%           1.000000\n",
       "50%           1.000000\n",
       "75%           1.000000\n",
       "max          50.000000\n",
       "Name: sum_borrowers, dtype: float64"
      ]
     },
     "execution_count": 64,
     "metadata": {},
     "output_type": "execute_result"
    }
   ],
   "source": [
    "df['sum_borrowers'].describe()"
   ]
  },
  {
   "cell_type": "markdown",
   "id": "7b202bce",
   "metadata": {},
   "source": [
    "Diese Daten können wir auch gefahrlos kategorisieren. Wir teilen die Personen in Gruppen ein:\n",
    " - Einzelpersonen bei n= 1\n",
    " - kleine Gruppen bei  1 < n <= 5\n",
    " - mittlere Gruppen bei 5 < n <=10\n",
    " - große Gruppen n > 10 "
   ]
  },
  {
   "cell_type": "code",
   "execution_count": 65,
   "id": "823d028b",
   "metadata": {
    "ExecuteTime": {
     "end_time": "2022-06-02T11:26:51.449904Z",
     "start_time": "2022-06-02T11:26:51.409600Z"
    }
   },
   "outputs": [
    {
     "data": {
      "text/plain": [
       "0          Einzelperson\n",
       "1          Einzelperson\n",
       "2          Einzelperson\n",
       "3          Einzelperson\n",
       "4          Einzelperson\n",
       "              ...      \n",
       "671200    kleine Gruppe\n",
       "671201     Einzelperson\n",
       "671202     Einzelperson\n",
       "671203    kleine Gruppe\n",
       "671204     Einzelperson\n",
       "Name: borrower_groupsize, Length: 663721, dtype: category\n",
       "Categories (4, object): ['Einzelperson' < 'kleine Gruppe' < 'mittlere Gruppe' < 'große Gruppe']"
      ]
     },
     "execution_count": 65,
     "metadata": {},
     "output_type": "execute_result"
    }
   ],
   "source": [
    "group_cat = [\n",
    "    'Einzelperson', 'kleine Gruppe', 'mittlere Gruppe', 'große Gruppe'\n",
    "]\n",
    "group_class = [0, df['sum_borrowers'].min(), 5, 10, df['sum_borrowers'].max()]\n",
    "\n",
    "df['borrower_groupsize'] = pd.cut(df['sum_borrowers'],\n",
    "                                  bins=group_class,\n",
    "                                  labels=group_cat)\n",
    "df['borrower_groupsize']"
   ]
  },
  {
   "cell_type": "markdown",
   "id": "02f9be34",
   "metadata": {},
   "source": [
    "#### Löschen nicht benötigter Spalten"
   ]
  },
  {
   "cell_type": "code",
   "execution_count": 66,
   "id": "e80aba03",
   "metadata": {
    "ExecuteTime": {
     "end_time": "2022-06-02T11:26:51.530813Z",
     "start_time": "2022-06-02T11:26:51.449904Z"
    }
   },
   "outputs": [],
   "source": [
    "df.drop(columns='borrower_genders', inplace=True)"
   ]
  },
  {
   "cell_type": "code",
   "execution_count": 67,
   "id": "99f25472",
   "metadata": {
    "ExecuteTime": {
     "end_time": "2022-06-02T11:26:51.550973Z",
     "start_time": "2022-06-02T11:26:51.530813Z"
    }
   },
   "outputs": [
    {
     "data": {
      "text/html": [
       "<div>\n",
       "<style scoped>\n",
       "    .dataframe tbody tr th:only-of-type {\n",
       "        vertical-align: middle;\n",
       "    }\n",
       "\n",
       "    .dataframe tbody tr th {\n",
       "        vertical-align: top;\n",
       "    }\n",
       "\n",
       "    .dataframe thead th {\n",
       "        text-align: right;\n",
       "    }\n",
       "</style>\n",
       "<table border=\"1\" class=\"dataframe\">\n",
       "  <thead>\n",
       "    <tr style=\"text-align: right;\">\n",
       "      <th></th>\n",
       "      <th>funded_amount</th>\n",
       "      <th>loan_amount</th>\n",
       "      <th>activity</th>\n",
       "      <th>sector</th>\n",
       "      <th>use</th>\n",
       "      <th>country_code</th>\n",
       "      <th>country</th>\n",
       "      <th>currency</th>\n",
       "      <th>term_in_months</th>\n",
       "      <th>lender_count</th>\n",
       "      <th>repayment_interval</th>\n",
       "      <th>borrower_females</th>\n",
       "      <th>borrower_males</th>\n",
       "      <th>sum_borrowers</th>\n",
       "      <th>borrower_groupsize</th>\n",
       "    </tr>\n",
       "  </thead>\n",
       "  <tbody>\n",
       "    <tr>\n",
       "      <th>0</th>\n",
       "      <td>8000.0</td>\n",
       "      <td>8000.0</td>\n",
       "      <td>Textiles</td>\n",
       "      <td>Arts</td>\n",
       "      <td>To purchase raw materials, including fabrics, ...</td>\n",
       "      <td>AF</td>\n",
       "      <td>Afghanistan</td>\n",
       "      <td>USD</td>\n",
       "      <td>6.0</td>\n",
       "      <td>308</td>\n",
       "      <td>bullet</td>\n",
       "      <td>1</td>\n",
       "      <td>0</td>\n",
       "      <td>1</td>\n",
       "      <td>Einzelperson</td>\n",
       "    </tr>\n",
       "    <tr>\n",
       "      <th>1</th>\n",
       "      <td>6000.0</td>\n",
       "      <td>6000.0</td>\n",
       "      <td>Textiles</td>\n",
       "      <td>Arts</td>\n",
       "      <td>To buy 9 sewing machines that will increase pr...</td>\n",
       "      <td>AF</td>\n",
       "      <td>Afghanistan</td>\n",
       "      <td>USD</td>\n",
       "      <td>8.0</td>\n",
       "      <td>204</td>\n",
       "      <td>bullet</td>\n",
       "      <td>1</td>\n",
       "      <td>0</td>\n",
       "      <td>1</td>\n",
       "      <td>Einzelperson</td>\n",
       "    </tr>\n",
       "    <tr>\n",
       "      <th>2</th>\n",
       "      <td>825.0</td>\n",
       "      <td>825.0</td>\n",
       "      <td>Agriculture</td>\n",
       "      <td>Agriculture</td>\n",
       "      <td>to buy a dairy cow</td>\n",
       "      <td>AL</td>\n",
       "      <td>Albania</td>\n",
       "      <td>ALL</td>\n",
       "      <td>20.0</td>\n",
       "      <td>26</td>\n",
       "      <td>monthly</td>\n",
       "      <td>1</td>\n",
       "      <td>0</td>\n",
       "      <td>1</td>\n",
       "      <td>Einzelperson</td>\n",
       "    </tr>\n",
       "    <tr>\n",
       "      <th>3</th>\n",
       "      <td>2775.0</td>\n",
       "      <td>2775.0</td>\n",
       "      <td>Agriculture</td>\n",
       "      <td>Agriculture</td>\n",
       "      <td>to repair the damaged animal stable and also d...</td>\n",
       "      <td>AL</td>\n",
       "      <td>Albania</td>\n",
       "      <td>ALL</td>\n",
       "      <td>26.0</td>\n",
       "      <td>101</td>\n",
       "      <td>monthly</td>\n",
       "      <td>0</td>\n",
       "      <td>1</td>\n",
       "      <td>1</td>\n",
       "      <td>Einzelperson</td>\n",
       "    </tr>\n",
       "    <tr>\n",
       "      <th>4</th>\n",
       "      <td>825.0</td>\n",
       "      <td>825.0</td>\n",
       "      <td>Personal Housing Expenses</td>\n",
       "      <td>Housing</td>\n",
       "      <td>to repair windows and doors in her house.</td>\n",
       "      <td>AL</td>\n",
       "      <td>Albania</td>\n",
       "      <td>ALL</td>\n",
       "      <td>14.0</td>\n",
       "      <td>32</td>\n",
       "      <td>monthly</td>\n",
       "      <td>1</td>\n",
       "      <td>0</td>\n",
       "      <td>1</td>\n",
       "      <td>Einzelperson</td>\n",
       "    </tr>\n",
       "  </tbody>\n",
       "</table>\n",
       "</div>"
      ],
      "text/plain": [
       "   funded_amount  loan_amount                   activity       sector  \\\n",
       "0         8000.0       8000.0                   Textiles         Arts   \n",
       "1         6000.0       6000.0                   Textiles         Arts   \n",
       "2          825.0        825.0                Agriculture  Agriculture   \n",
       "3         2775.0       2775.0                Agriculture  Agriculture   \n",
       "4          825.0        825.0  Personal Housing Expenses      Housing   \n",
       "\n",
       "                                                 use country_code  \\\n",
       "0  To purchase raw materials, including fabrics, ...           AF   \n",
       "1  To buy 9 sewing machines that will increase pr...           AF   \n",
       "2                                 to buy a dairy cow           AL   \n",
       "3  to repair the damaged animal stable and also d...           AL   \n",
       "4          to repair windows and doors in her house.           AL   \n",
       "\n",
       "       country currency  term_in_months  lender_count repayment_interval  \\\n",
       "0  Afghanistan      USD             6.0           308             bullet   \n",
       "1  Afghanistan      USD             8.0           204             bullet   \n",
       "2      Albania      ALL            20.0            26            monthly   \n",
       "3      Albania      ALL            26.0           101            monthly   \n",
       "4      Albania      ALL            14.0            32            monthly   \n",
       "\n",
       "   borrower_females  borrower_males  sum_borrowers borrower_groupsize  \n",
       "0                 1               0              1       Einzelperson  \n",
       "1                 1               0              1       Einzelperson  \n",
       "2                 1               0              1       Einzelperson  \n",
       "3                 0               1              1       Einzelperson  \n",
       "4                 1               0              1       Einzelperson  "
      ]
     },
     "execution_count": 67,
     "metadata": {},
     "output_type": "execute_result"
    }
   ],
   "source": [
    "# Check, ob Löschen der Zeile geklappt hat\n",
    "df.head()"
   ]
  },
  {
   "cell_type": "markdown",
   "id": "730b34ee",
   "metadata": {},
   "source": [
    "#### Aufbereitung der Spalte 'country_code'\n",
    "\n",
    "Hinter dem Ländercode verbergen sehr viele zusätzliche, zum Teil wirklich hilfreiche informationen. Jedes Land folgende , für uns wichtige Informationen:\n",
    " - einen eigenen Schwerpunkt (siehe auch https://de.wikipedia.org/wiki/Mittelpunkte_Deutschlands)\n",
    " - eine Bevölkerungszahl\n",
    " - BIP\n",
    " - Währung (mit Umrechnugskurs zu einer Referenzwährung) --> https://pypi.org/project/CurrencyConverter/\n",
    " \n",
    "Da unser Unternehmen seinen Firmensitz in Deutschland hat, genauer gesagt im wunderschönen Stralsund, ist unsere Referenzwährung der Euro."
   ]
  },
  {
   "cell_type": "markdown",
   "id": "b261616e",
   "metadata": {},
   "source": [
    "#### Umwandlung der Ländercodes"
   ]
  },
  {
   "cell_type": "code",
   "execution_count": 68,
   "id": "c23cd038",
   "metadata": {
    "ExecuteTime": {
     "end_time": "2022-06-02T11:26:51.571214Z",
     "start_time": "2022-06-02T11:26:51.553068Z"
    }
   },
   "outputs": [],
   "source": [
    "def get_continent(col):\n",
    "    try:\n",
    "        cn_a2_code =  country_name_to_country_alpha2(col)\n",
    "    except:\n",
    "        cn_a2_code = 'Unknown' \n",
    "    try:\n",
    "        cn_continent = country_alpha2_to_continent_code(cn_a2_code)\n",
    "    except:\n",
    "        cn_continent = 'Unknown' \n",
    "    return cn_continent"
   ]
  },
  {
   "cell_type": "code",
   "execution_count": 69,
   "id": "18ff7561",
   "metadata": {
    "ExecuteTime": {
     "end_time": "2022-06-02T11:26:52.178219Z",
     "start_time": "2022-06-02T11:26:51.571214Z"
    }
   },
   "outputs": [],
   "source": [
    "df['continent'] = df['country'].apply(get_continent)"
   ]
  },
  {
   "cell_type": "code",
   "execution_count": 70,
   "id": "c8a05f36",
   "metadata": {
    "ExecuteTime": {
     "end_time": "2022-06-02T11:26:52.198490Z",
     "start_time": "2022-06-02T11:26:52.178219Z"
    }
   },
   "outputs": [
    {
     "data": {
      "text/plain": [
       "0         AS\n",
       "1         AS\n",
       "2         EU\n",
       "3         EU\n",
       "4         EU\n",
       "          ..\n",
       "671200    AF\n",
       "671201    AF\n",
       "671202    AF\n",
       "671203    AF\n",
       "671204    AF\n",
       "Name: continent, Length: 663721, dtype: object"
      ]
     },
     "execution_count": 70,
     "metadata": {},
     "output_type": "execute_result"
    }
   ],
   "source": [
    "df['continent']"
   ]
  },
  {
   "cell_type": "code",
   "execution_count": 71,
   "id": "78bfc51f",
   "metadata": {
    "ExecuteTime": {
     "end_time": "2022-06-02T11:26:52.258954Z",
     "start_time": "2022-06-02T11:26:52.200526Z"
    }
   },
   "outputs": [
    {
     "data": {
      "text/plain": [
       "array(['AS', 'EU', 'NA', 'AF', 'SA', 'Unknown', 'OC'], dtype=object)"
      ]
     },
     "execution_count": 71,
     "metadata": {},
     "output_type": "execute_result"
    }
   ],
   "source": [
    "# Prüfung der Ergebnisse\n",
    "df['continent'].unique()"
   ]
  },
  {
   "cell_type": "markdown",
   "id": "b644610d",
   "metadata": {},
   "source": [
    "Wir habel also einige Länder dabei gehabt, die nicht von der Bibliothek abgedeck sind. Schauen wir uns diese einmal an."
   ]
  },
  {
   "cell_type": "code",
   "execution_count": 72,
   "id": "9fafa9b8",
   "metadata": {
    "ExecuteTime": {
     "end_time": "2022-06-02T11:26:52.400408Z",
     "start_time": "2022-06-02T11:26:52.260974Z"
    }
   },
   "outputs": [],
   "source": [
    "missing_continent = df.loc[df.loc[:, 'continent']=='Unknown', ['country', 'country_code', 'continent']]"
   ]
  },
  {
   "cell_type": "code",
   "execution_count": 73,
   "id": "204497f2",
   "metadata": {
    "ExecuteTime": {
     "end_time": "2022-06-02T11:26:52.440879Z",
     "start_time": "2022-06-02T11:26:52.400408Z"
    }
   },
   "outputs": [
    {
     "data": {
      "text/html": [
       "<div>\n",
       "<style scoped>\n",
       "    .dataframe tbody tr th:only-of-type {\n",
       "        vertical-align: middle;\n",
       "    }\n",
       "\n",
       "    .dataframe tbody tr th {\n",
       "        vertical-align: top;\n",
       "    }\n",
       "\n",
       "    .dataframe thead th {\n",
       "        text-align: right;\n",
       "    }\n",
       "</style>\n",
       "<table border=\"1\" class=\"dataframe\">\n",
       "  <thead>\n",
       "    <tr style=\"text-align: right;\">\n",
       "      <th></th>\n",
       "      <th>country_code</th>\n",
       "      <th>continent</th>\n",
       "    </tr>\n",
       "    <tr>\n",
       "      <th>country</th>\n",
       "      <th></th>\n",
       "      <th></th>\n",
       "    </tr>\n",
       "  </thead>\n",
       "  <tbody>\n",
       "    <tr>\n",
       "      <th>Cote D'Ivoire</th>\n",
       "      <td>1</td>\n",
       "      <td>1</td>\n",
       "    </tr>\n",
       "    <tr>\n",
       "      <th>Kosovo</th>\n",
       "      <td>1398</td>\n",
       "      <td>1398</td>\n",
       "    </tr>\n",
       "    <tr>\n",
       "      <th>Myanmar (Burma)</th>\n",
       "      <td>1818</td>\n",
       "      <td>1818</td>\n",
       "    </tr>\n",
       "    <tr>\n",
       "      <th>The Democratic Republic of the Congo</th>\n",
       "      <td>3067</td>\n",
       "      <td>3067</td>\n",
       "    </tr>\n",
       "    <tr>\n",
       "      <th>Timor-Leste</th>\n",
       "      <td>2676</td>\n",
       "      <td>2676</td>\n",
       "    </tr>\n",
       "  </tbody>\n",
       "</table>\n",
       "</div>"
      ],
      "text/plain": [
       "                                      country_code  continent\n",
       "country                                                      \n",
       "Cote D'Ivoire                                    1          1\n",
       "Kosovo                                        1398       1398\n",
       "Myanmar (Burma)                               1818       1818\n",
       "The Democratic Republic of the Congo          3067       3067\n",
       "Timor-Leste                                   2676       2676"
      ]
     },
     "execution_count": 73,
     "metadata": {},
     "output_type": "execute_result"
    }
   ],
   "source": [
    "missing_continent.groupby(['country']).count()"
   ]
  },
  {
   "cell_type": "code",
   "execution_count": 74,
   "id": "4e2e32ed",
   "metadata": {
    "ExecuteTime": {
     "end_time": "2022-06-02T11:26:52.461090Z",
     "start_time": "2022-06-02T11:26:52.442943Z"
    }
   },
   "outputs": [
    {
     "data": {
      "text/plain": [
       "array(['CI', 'XK', 'MM', 'CD', 'TL'], dtype=object)"
      ]
     },
     "execution_count": 74,
     "metadata": {},
     "output_type": "execute_result"
    }
   ],
   "source": [
    "missing_continent['country_code'].unique()"
   ]
  },
  {
   "cell_type": "markdown",
   "id": "b9f22aed",
   "metadata": {},
   "source": [
    "Das sind zum glück nicht viele Länder, diese können wir händisch eintragen. Welche Kontinente wir setzen müssen, können wir hier entnehmen:\n",
    "\n",
    "https://gist.github.com/alyssaq/3415363a18610d22f0d307bcaac857cd"
   ]
  },
  {
   "cell_type": "code",
   "execution_count": 75,
   "id": "0a0d28be",
   "metadata": {
    "ExecuteTime": {
     "end_time": "2022-06-02T11:26:52.481326Z",
     "start_time": "2022-06-02T11:26:52.463131Z"
    }
   },
   "outputs": [],
   "source": [
    "continents_to_set = dict.fromkeys(missing_continent['country'].unique())"
   ]
  },
  {
   "cell_type": "code",
   "execution_count": 76,
   "id": "8122c41a",
   "metadata": {
    "ExecuteTime": {
     "end_time": "2022-06-02T11:26:52.501508Z",
     "start_time": "2022-06-02T11:26:52.483352Z"
    }
   },
   "outputs": [
    {
     "data": {
      "text/plain": [
       "{\"Cote D'Ivoire\": 'AF',\n",
       " 'Kosovo': 'EU',\n",
       " 'Myanmar (Burma)': 'AS',\n",
       " 'The Democratic Republic of the Congo': 'AF',\n",
       " 'Timor-Leste': 'AS'}"
      ]
     },
     "execution_count": 76,
     "metadata": {},
     "output_type": "execute_result"
    }
   ],
   "source": [
    "continents_to_set[\"Cote D'Ivoire\"] = 'AF'\n",
    "continents_to_set['Kosovo'] = 'EU'\n",
    "continents_to_set['Myanmar (Burma)'] = 'AS'\n",
    "continents_to_set['The Democratic Republic of the Congo'] = 'AF'\n",
    "continents_to_set['Timor-Leste'] = 'AS'\n",
    "\n",
    "continents_to_set"
   ]
  },
  {
   "cell_type": "markdown",
   "id": "1bc159f2",
   "metadata": {},
   "source": [
    "Nun weisen wir den jeweiligen Ländern ihre Kontinente zu:"
   ]
  },
  {
   "cell_type": "code",
   "execution_count": 77,
   "id": "4d8ab765",
   "metadata": {
    "ExecuteTime": {
     "end_time": "2022-06-02T11:26:52.521775Z",
     "start_time": "2022-06-02T11:26:52.503551Z"
    }
   },
   "outputs": [],
   "source": [
    "#test = df.loc[:, 'country'] == \"Cote D'Ivoire\"\n",
    "#df.loc[test == True, ['continent']]"
   ]
  },
  {
   "cell_type": "code",
   "execution_count": 78,
   "id": "8f2085a2",
   "metadata": {
    "ExecuteTime": {
     "end_time": "2022-06-02T11:26:52.542041Z",
     "start_time": "2022-06-02T11:26:52.523820Z"
    }
   },
   "outputs": [
    {
     "data": {
      "text/plain": [
       "dict_keys([\"Cote D'Ivoire\", 'Kosovo', 'Myanmar (Burma)', 'The Democratic Republic of the Congo', 'Timor-Leste'])"
      ]
     },
     "execution_count": 78,
     "metadata": {},
     "output_type": "execute_result"
    }
   ],
   "source": [
    "continents_to_set.keys()"
   ]
  },
  {
   "cell_type": "code",
   "execution_count": 79,
   "id": "d32a0036",
   "metadata": {
    "ExecuteTime": {
     "end_time": "2022-06-02T11:26:52.704007Z",
     "start_time": "2022-06-02T11:26:52.542041Z"
    }
   },
   "outputs": [],
   "source": [
    "for key in continents_to_set:\n",
    "    #print(key)\n",
    "    country_to_set = df.loc[:, 'country'] == key\n",
    "    df.loc[country_to_set == True, ['continent']] = continents_to_set[key]"
   ]
  },
  {
   "cell_type": "code",
   "execution_count": 80,
   "id": "f6fbd015",
   "metadata": {
    "ExecuteTime": {
     "end_time": "2022-06-02T11:26:52.744494Z",
     "start_time": "2022-06-02T11:26:52.704007Z"
    }
   },
   "outputs": [
    {
     "data": {
      "text/plain": [
       "array(['AS', 'EU', 'NA', 'AF', 'SA', 'OC'], dtype=object)"
      ]
     },
     "execution_count": 80,
     "metadata": {},
     "output_type": "execute_result"
    }
   ],
   "source": [
    "#Check ob es funktioniert hat\n",
    "df['continent'].unique()"
   ]
  },
  {
   "cell_type": "markdown",
   "id": "47b43e26",
   "metadata": {},
   "source": [
    "Da wir später die Kontinete als deutsche Langversion haben wollen, mappen wir die Iso-Kurzbezeichnungen entsprechend und fügen diese als neue Spalte hinzu."
   ]
  },
  {
   "cell_type": "code",
   "execution_count": 81,
   "id": "e0792b0e",
   "metadata": {
    "ExecuteTime": {
     "end_time": "2022-06-02T11:26:52.764705Z",
     "start_time": "2022-06-02T11:26:52.754567Z"
    }
   },
   "outputs": [],
   "source": [
    "continent_mapping = {\n",
    "    'AS': 'Asien',\n",
    "    'EU': 'Europa',\n",
    "    'NA': 'Nordamerika',\n",
    "    'AF': 'Afrika',\n",
    "    'SA': 'Südamerika',\n",
    "    'OC': 'Australien/Ozeanien'\n",
    "}"
   ]
  },
  {
   "cell_type": "code",
   "execution_count": 82,
   "id": "81e167be",
   "metadata": {
    "ExecuteTime": {
     "end_time": "2022-06-02T11:26:53.046810Z",
     "start_time": "2022-06-02T11:26:52.764705Z"
    }
   },
   "outputs": [],
   "source": [
    "for key in continent_mapping:\n",
    "    #print(key)\n",
    "    country_to_set = df.loc[:, 'continent'] == key\n",
    "    df.loc[country_to_set == True, ['continent_long']] = continent_mapping[key]"
   ]
  },
  {
   "cell_type": "code",
   "execution_count": 83,
   "id": "4f800e08",
   "metadata": {
    "ExecuteTime": {
     "end_time": "2022-06-02T11:26:53.087239Z",
     "start_time": "2022-06-02T11:26:53.046873Z"
    }
   },
   "outputs": [
    {
     "data": {
      "text/plain": [
       "array(['Asien', 'Europa', 'Nordamerika', 'Afrika', 'Südamerika',\n",
       "       'Australien/Ozeanien'], dtype=object)"
      ]
     },
     "execution_count": 83,
     "metadata": {},
     "output_type": "execute_result"
    }
   ],
   "source": [
    "df['continent_long'].unique()"
   ]
  },
  {
   "cell_type": "markdown",
   "id": "0406dfb8",
   "metadata": {},
   "source": [
    "#### Konvertierung der Währung"
   ]
  },
  {
   "cell_type": "code",
   "execution_count": 84,
   "id": "dacfed1e",
   "metadata": {
    "ExecuteTime": {
     "end_time": "2022-06-02T11:26:53.369618Z",
     "start_time": "2022-06-02T11:26:53.087332Z"
    }
   },
   "outputs": [
    {
     "name": "stdout",
     "output_type": "stream",
     "text": [
      "94.62528387585164\n",
      "94.62528387585164\n"
     ]
    }
   ],
   "source": [
    "# Test des Umrechnungskures Dollar --> Euro\n",
    "c = CurrencyConverter()\n",
    "\n",
    "print(c.convert(100, 'USD', 'EUR'))\n",
    "\n",
    "# Standardwährung ist Euro\n",
    "print(c.convert(100, 'USD'))"
   ]
  },
  {
   "cell_type": "markdown",
   "id": "6aa661a8",
   "metadata": {},
   "source": [
    "Mit diesem Wissen können wir nun den jeweiligen Umrechnungskurs berechnen. Damit die Daten sich nicht ändern, nehmen wir den Umrechnungskurs vom jeweils letztmöglichen Eintrag."
   ]
  },
  {
   "cell_type": "code",
   "execution_count": 85,
   "id": "2ae59071",
   "metadata": {
    "ExecuteTime": {
     "end_time": "2022-06-02T11:26:53.389790Z",
     "start_time": "2022-06-02T11:26:53.371655Z"
    }
   },
   "outputs": [
    {
     "data": {
      "text/plain": [
       "(datetime.date(1999, 1, 4), datetime.date(2022, 5, 5))"
      ]
     },
     "execution_count": 85,
     "metadata": {},
     "output_type": "execute_result"
    }
   ],
   "source": [
    "first_date, last_date = c.bounds['USD']\n",
    "first_date, last_date"
   ]
  },
  {
   "cell_type": "code",
   "execution_count": 86,
   "id": "2944e919",
   "metadata": {
    "ExecuteTime": {
     "end_time": "2022-06-02T11:26:53.409957Z",
     "start_time": "2022-06-02T11:26:53.391812Z"
    }
   },
   "outputs": [
    {
     "data": {
      "text/plain": [
       "94.62528387585164"
      ]
     },
     "execution_count": 86,
     "metadata": {},
     "output_type": "execute_result"
    }
   ],
   "source": [
    "c.convert(100, 'USD', date=last_date)"
   ]
  },
  {
   "cell_type": "markdown",
   "id": "165fe7b3",
   "metadata": {
    "ExecuteTime": {
     "end_time": "2022-05-10T19:31:30.860381Z",
     "start_time": "2022-05-10T19:31:30.854385Z"
    }
   },
   "source": [
    "Auch müssen wir Prüfen, ob wir in unserem Datensatz keine Währungen haben, die nicht unterstützt werden. Die unterstützen Währungen können direkt aufgerufen werden."
   ]
  },
  {
   "cell_type": "code",
   "execution_count": 87,
   "id": "53073cec",
   "metadata": {
    "ExecuteTime": {
     "end_time": "2022-06-02T11:26:53.430154Z",
     "start_time": "2022-06-02T11:26:53.411994Z"
    }
   },
   "outputs": [
    {
     "data": {
      "text/plain": [
       "{'AUD',\n",
       " 'BGN',\n",
       " 'BRL',\n",
       " 'CAD',\n",
       " 'CHF',\n",
       " 'CNY',\n",
       " 'CYP',\n",
       " 'CZK',\n",
       " 'DKK',\n",
       " 'EEK',\n",
       " 'EUR',\n",
       " 'GBP',\n",
       " 'HKD',\n",
       " 'HRK',\n",
       " 'HUF',\n",
       " 'IDR',\n",
       " 'ILS',\n",
       " 'INR',\n",
       " 'ISK',\n",
       " 'JPY',\n",
       " 'KRW',\n",
       " 'LTL',\n",
       " 'LVL',\n",
       " 'MTL',\n",
       " 'MXN',\n",
       " 'MYR',\n",
       " 'NOK',\n",
       " 'NZD',\n",
       " 'PHP',\n",
       " 'PLN',\n",
       " 'ROL',\n",
       " 'RON',\n",
       " 'RUB',\n",
       " 'SEK',\n",
       " 'SGD',\n",
       " 'SIT',\n",
       " 'SKK',\n",
       " 'THB',\n",
       " 'TRL',\n",
       " 'TRY',\n",
       " 'USD',\n",
       " 'ZAR'}"
      ]
     },
     "execution_count": 87,
     "metadata": {},
     "output_type": "execute_result"
    }
   ],
   "source": [
    "c.currencies"
   ]
  },
  {
   "cell_type": "code",
   "execution_count": 88,
   "id": "7c5c8a82",
   "metadata": {
    "ExecuteTime": {
     "end_time": "2022-06-02T11:26:53.510781Z",
     "start_time": "2022-06-02T11:26:53.432196Z"
    }
   },
   "outputs": [
    {
     "data": {
      "text/plain": [
       "array(['USD', 'ALL', 'AMD', 'AZN', 'BZD', 'XOF', 'BOB', 'BRL', 'BIF',\n",
       "       'KHR', 'XAF', 'CLP', 'CNY', 'COP', 'CRC', 'DOP', 'EGP', 'GEL',\n",
       "       'GHS', 'GTQ', 'HTG', 'HNL', 'INR', 'IDR', 'ILS', 'JOD', 'KES',\n",
       "       'EUR', 'KGS', 'LAK', 'LBP', 'LSL', 'LRD', 'MGA', 'MWK', 'MXN',\n",
       "       'MDL', 'MNT', 'MZN', 'MMK', 'NAD', 'NPR', 'NIO', 'NGN', 'PKR',\n",
       "       'PYG', 'PEN', 'PHP', 'RWF', 'XCD', 'WST', 'SLL', 'SBD', 'ZAR',\n",
       "       'SSP', 'SRD', 'TJS', 'TZS', 'THB', 'TRY', 'UGX', 'UAH', 'VUV',\n",
       "       'VND', 'YER', 'ZMW', 'ZWD'], dtype=object)"
      ]
     },
     "execution_count": 88,
     "metadata": {},
     "output_type": "execute_result"
    }
   ],
   "source": [
    "# Check, ob unser Datensatz nicht unterstützte Währungen enthält\n",
    "df['currency'].unique()"
   ]
  },
  {
   "cell_type": "code",
   "execution_count": 89,
   "id": "d2db8619",
   "metadata": {
    "ExecuteTime": {
     "end_time": "2022-06-02T11:26:53.530937Z",
     "start_time": "2022-06-02T11:26:53.510781Z"
    }
   },
   "outputs": [
    {
     "data": {
      "text/plain": [
       "True"
      ]
     },
     "execution_count": 89,
     "metadata": {},
     "output_type": "execute_result"
    }
   ],
   "source": [
    "'USD' in c.currencies"
   ]
  },
  {
   "cell_type": "code",
   "execution_count": 90,
   "id": "27a4d59b",
   "metadata": {
    "ExecuteTime": {
     "end_time": "2022-06-02T11:26:53.692611Z",
     "start_time": "2022-06-02T11:26:53.532971Z"
    }
   },
   "outputs": [],
   "source": [
    "unsupported_currencies = df['currency'].apply(lambda x: x not in c.currencies)"
   ]
  },
  {
   "cell_type": "code",
   "execution_count": 91,
   "id": "20fd5444",
   "metadata": {
    "ExecuteTime": {
     "end_time": "2022-06-02T11:26:53.753175Z",
     "start_time": "2022-06-02T11:26:53.692670Z"
    }
   },
   "outputs": [
    {
     "data": {
      "text/plain": [
       "array(['Albania', 'Armenia', 'Azerbaijan', 'Belize', 'Benin', 'Bolivia',\n",
       "       'Burkina Faso', 'Burundi', 'Cambodia', 'Cameroon', 'Chile',\n",
       "       'Colombia', 'Congo', 'Costa Rica', 'Dominican Republic', 'Egypt',\n",
       "       'Georgia', 'Ghana', 'Guatemala', 'Haiti', 'Honduras', 'Jordan',\n",
       "       'Kenya', 'Kyrgyzstan', \"Lao People's Democratic Republic\",\n",
       "       'Lebanon', 'Lesotho', 'Liberia', 'Madagascar', 'Malawi', 'Mali',\n",
       "       'Moldova', 'Mongolia', 'Mozambique', 'Myanmar (Burma)', 'Namibia',\n",
       "       'Nepal', 'Nicaragua', 'Nigeria', 'Pakistan', 'Palestine',\n",
       "       'Paraguay', 'Peru', 'Rwanda', 'Saint Vincent and the Grenadines',\n",
       "       'Samoa', 'Senegal', 'Sierra Leone', 'Solomon Islands',\n",
       "       'South Sudan', 'Suriname', 'Tajikistan', 'Tanzania', 'Togo',\n",
       "       'Uganda', 'Ukraine', 'Vanuatu', 'Vietnam', 'Yemen', 'Zambia',\n",
       "       'Zimbabwe'], dtype=object)"
      ]
     },
     "execution_count": 91,
     "metadata": {},
     "output_type": "execute_result"
    }
   ],
   "source": [
    "df.loc[unsupported_currencies, 'country'].unique()"
   ]
  },
  {
   "cell_type": "markdown",
   "id": "7860f855",
   "metadata": {},
   "source": [
    "##### Hinweis in eigener Sache:\n",
    "\n",
    "Ein nachträglicher Blick in die Aufgabenstellung ergab, das der Kredit nur in die jeweilige Landeswährung ausgezahlt wurde. Gesammelt wurde das Geld in US-Dollar. Somit können wir, da unser Firmensitz weiterhin in Deutschland ist, die Währungen in Euro umwandeln. Der Einfachheithalber wird die Summe auf ganze Euro's gerundet."
   ]
  },
  {
   "cell_type": "code",
   "execution_count": 92,
   "id": "305dd3d7",
   "metadata": {
    "ExecuteTime": {
     "end_time": "2022-06-02T11:26:55.571969Z",
     "start_time": "2022-06-02T11:26:53.755225Z"
    }
   },
   "outputs": [],
   "source": [
    "df['funded_amount_euro'] = df['funded_amount'].apply(\n",
    "    lambda money_to_convert: round(c.convert(money_to_convert, 'USD', date=last_date), 0))"
   ]
  },
  {
   "cell_type": "code",
   "execution_count": 93,
   "id": "697400a7",
   "metadata": {
    "ExecuteTime": {
     "end_time": "2022-06-02T11:26:57.311737Z",
     "start_time": "2022-06-02T11:26:55.573989Z"
    }
   },
   "outputs": [],
   "source": [
    "df['loan_amount_euro'] = df['loan_amount'].apply(\n",
    "    lambda money_to_convert: round(c.convert(money_to_convert, 'USD', date=last_date), 0))"
   ]
  },
  {
   "cell_type": "markdown",
   "id": "302e590d",
   "metadata": {},
   "source": [
    "#### Prozentualer Anteil der finanzierten Projekte\n",
    "\n",
    "Später wollen wir wissen, wieviele Projekte komplett finanziert wurden und wie hoch der anteil derer ist, die es nicht ganz geschafft haben und wie groß der Fehlbetrag in Prozent ist. Daher erstellen wir eine neue Zusatzspalte, in der wir nach folgender Formel den Anteil errechnen:\n",
    "\n",
    "\\begin{equation}\n",
    "perc_{recieved} = {\\frac {funded_{amount}}{loan_{amount}}}\n",
    "\\end{equation}"
   ]
  },
  {
   "cell_type": "code",
   "execution_count": 94,
   "id": "51969ed1",
   "metadata": {
    "ExecuteTime": {
     "end_time": "2022-06-02T11:26:57.372264Z",
     "start_time": "2022-06-02T11:26:57.313767Z"
    }
   },
   "outputs": [],
   "source": [
    "df['perc_recieved'] = round(df['funded_amount'] / df['loan_amount'] * 100,0)"
   ]
  },
  {
   "cell_type": "code",
   "execution_count": 95,
   "id": "e1503410",
   "metadata": {
    "ExecuteTime": {
     "end_time": "2022-06-02T11:26:57.392438Z",
     "start_time": "2022-06-02T11:26:57.374295Z"
    }
   },
   "outputs": [
    {
     "data": {
      "text/plain": [
       "0         100.0\n",
       "1         100.0\n",
       "2         100.0\n",
       "3         100.0\n",
       "4         100.0\n",
       "          ...  \n",
       "671200    100.0\n",
       "671201    100.0\n",
       "671202    100.0\n",
       "671203    100.0\n",
       "671204    100.0\n",
       "Name: perc_recieved, Length: 663721, dtype: float64"
      ]
     },
     "execution_count": 95,
     "metadata": {},
     "output_type": "execute_result"
    }
   ],
   "source": [
    "# Check ob es funktioniert hat\n",
    "df['perc_recieved']"
   ]
  },
  {
   "cell_type": "code",
   "execution_count": 96,
   "id": "8b71c0e7",
   "metadata": {
    "ExecuteTime": {
     "end_time": "2022-06-02T11:26:57.432812Z",
     "start_time": "2022-06-02T11:26:57.394464Z"
    }
   },
   "outputs": [
    {
     "data": {
      "text/plain": [
       "array([100.,  60.,  50.,  31.,  86.,  91.,  52.,  37.,  67.,  35.,  47.,\n",
       "        54.,  71.,   6.,  74.,  68.,  93.,  72.,  53.,  16.,  27.,  95.,\n",
       "        41.,  63.,  15.,  36.,  21.,  87.,  28.,  79.,  82.,  19.,  45.,\n",
       "        13.,  18.,  57.,  92.,  39.,  80.,  34.,  69.,  66.,   2.,  70.,\n",
       "        73.,  64.,  29.,  51.,  89.,  65.,  38.,  75.,  83.,  59.,   5.,\n",
       "        56.,  43.,  78.,  81.,  76.,  42.,  33.,  90.,  58.,  94.,  88.,\n",
       "        48.,  30.,  85.,  40.,  17.,  49.,  24.,  26.,  55.,  32.,  84.,\n",
       "        25.,  61.,  77.,  22.,  14.,  62.,  98.,   9.,  46.,  44.,  20.,\n",
       "        11.,  12.,   7.,   4.,   3.,  96.,  10.,   1.,  23.,   8.,  97.,\n",
       "       113.,  99.,   0., 106.])"
      ]
     },
     "execution_count": 96,
     "metadata": {},
     "output_type": "execute_result"
    }
   ],
   "source": [
    "df['perc_recieved'].unique()"
   ]
  },
  {
   "cell_type": "code",
   "execution_count": 97,
   "id": "9d3dcec2",
   "metadata": {
    "ExecuteTime": {
     "end_time": "2022-06-02T11:26:57.453048Z",
     "start_time": "2022-06-02T11:26:57.434867Z"
    }
   },
   "outputs": [
    {
     "name": "stdout",
     "output_type": "stream",
     "text": [
      "Maximalwert: 113.0%\n",
      "Minimalwert: 0.0%\n"
     ]
    }
   ],
   "source": [
    "min_recieved = df['perc_recieved'].min()\n",
    "max_recieved = df['perc_recieved'].max()\n",
    "\n",
    "print('Maximalwert: {:3}%'.format(max_recieved))\n",
    "print('Minimalwert: {:3}%'.format(min_recieved))"
   ]
  },
  {
   "cell_type": "markdown",
   "id": "de421b58",
   "metadata": {},
   "source": [
    "Interessante Erkenntnis. Es gibt also Projekte, in die mehr investiert wurde, als geplant. Dies schauen wir uns in der EDA genauer an. Wir werden die Projekte noch zusätzlich Kategorisieren.\n",
    "\n",
    "Wir teilen die Werte in 20% Schritte bis 100% ein. Für alle über 100% gilt die Kategorie 'Überfinanziert'"
   ]
  },
  {
   "cell_type": "code",
   "execution_count": 98,
   "id": "c637e2e8",
   "metadata": {
    "ExecuteTime": {
     "end_time": "2022-06-02T11:26:57.513722Z",
     "start_time": "2022-06-02T11:26:57.455071Z"
    }
   },
   "outputs": [
    {
     "data": {
      "text/plain": [
       "0         100%\n",
       "1         100%\n",
       "2         100%\n",
       "3         100%\n",
       "4         100%\n",
       "          ... \n",
       "671200    100%\n",
       "671201    100%\n",
       "671202    100%\n",
       "671203    100%\n",
       "671204    100%\n",
       "Name: funding_status, Length: 663721, dtype: category\n",
       "Categories (12, object): ['<= 5%' < '10%' < '20%' < '30%' ... '80%' < '90%' < '100%' < 'Überfinanziert']"
      ]
     },
     "execution_count": 98,
     "metadata": {},
     "output_type": "execute_result"
    }
   ],
   "source": [
    "categories = [\n",
    "    '<= 5%', '10%', '20%', '30%', '40%', '50%', '60%', '70%', '80%', '90%',\n",
    "    '100%', 'Überfinanziert'\n",
    "]\n",
    "classification = [0, 5, 10, 20, 30, 40, 50, 60, 70, 80, 90, 100, max_recieved]\n",
    "\n",
    "df['funding_status'] = pd.cut(df['perc_recieved'],\n",
    "                              bins=classification,\n",
    "                              labels=categories)\n",
    "df['funding_status']"
   ]
  },
  {
   "cell_type": "markdown",
   "id": "9102c5ec",
   "metadata": {},
   "source": [
    "### Optimierung des Speicherverbrauchs\n",
    "\n",
    "Wir haben bereits am Anfang den Speicherplatz unsere Daten optimiert. Wir wollen aber trotzdem noch einmal schauen, ob es Optimierungsmöglichkeiten gibt. einen Anhaltspunkt, wie wir die Datentypen weiter optimieren können finden wir auf diesen Seiten:\n",
    "\n",
    "https://pythonspeed.com/articles/pandas-load-less-data/\n",
    "https://jakevdp.github.io/PythonDataScienceHandbook/02.01-understanding-data-types.html\n",
    "\n",
    "Zuvor werden wir nur noch die Spalten neu anordnen, damit sie thematisch besser zusammenpassen. Auch übernehmen wir die Spalte "
   ]
  },
  {
   "cell_type": "code",
   "execution_count": 99,
   "id": "89a2c026",
   "metadata": {
    "ExecuteTime": {
     "end_time": "2022-06-02T11:26:57.533875Z",
     "start_time": "2022-06-02T11:26:57.515755Z"
    }
   },
   "outputs": [
    {
     "data": {
      "text/plain": [
       "Index(['funded_amount', 'loan_amount', 'activity', 'sector', 'use',\n",
       "       'country_code', 'country', 'currency', 'term_in_months', 'lender_count',\n",
       "       'repayment_interval', 'borrower_females', 'borrower_males',\n",
       "       'sum_borrowers', 'borrower_groupsize', 'continent', 'continent_long',\n",
       "       'funded_amount_euro', 'loan_amount_euro', 'perc_recieved',\n",
       "       'funding_status'],\n",
       "      dtype='object')"
      ]
     },
     "execution_count": 99,
     "metadata": {},
     "output_type": "execute_result"
    }
   ],
   "source": [
    "df.columns"
   ]
  },
  {
   "cell_type": "code",
   "execution_count": 100,
   "id": "6f701cb8",
   "metadata": {
    "ExecuteTime": {
     "end_time": "2022-06-02T11:26:57.736376Z",
     "start_time": "2022-06-02T11:26:57.535897Z"
    }
   },
   "outputs": [],
   "source": [
    "df_final = df[[\n",
    "    'funded_amount_euro', 'loan_amount_euro', 'perc_recieved', 'funding_status', 'activity',\n",
    "    'sector', 'use', 'country_code', 'continent', 'continent_long', 'country', 'currency', 'term_in_months',\n",
    "    'lender_count', 'repayment_interval', 'borrower_females', 'borrower_males',\n",
    "    'sum_borrowers', 'borrower_groupsize'\n",
    "]]"
   ]
  },
  {
   "cell_type": "markdown",
   "id": "29cdc52e",
   "metadata": {},
   "source": [
    "#### Check ob Datentypen passen"
   ]
  },
  {
   "cell_type": "code",
   "execution_count": 101,
   "id": "0f296c4c",
   "metadata": {
    "ExecuteTime": {
     "end_time": "2022-06-02T11:26:57.756554Z",
     "start_time": "2022-06-02T11:26:57.738405Z"
    }
   },
   "outputs": [
    {
     "data": {
      "text/plain": [
       "funded_amount_euro     float64\n",
       "loan_amount_euro       float64\n",
       "perc_recieved          float64\n",
       "funding_status        category\n",
       "activity                object\n",
       "sector                  object\n",
       "use                     object\n",
       "country_code            object\n",
       "continent               object\n",
       "continent_long          object\n",
       "country                 object\n",
       "currency                object\n",
       "term_in_months         float64\n",
       "lender_count             int64\n",
       "repayment_interval      object\n",
       "borrower_females         int64\n",
       "borrower_males           int64\n",
       "sum_borrowers            int64\n",
       "borrower_groupsize    category\n",
       "dtype: object"
      ]
     },
     "execution_count": 101,
     "metadata": {},
     "output_type": "execute_result"
    }
   ],
   "source": [
    "df_final.dtypes"
   ]
  },
  {
   "cell_type": "markdown",
   "id": "e6be3845",
   "metadata": {},
   "source": [
    "Eine erste Prüfung des Datensatzes zeigt, das wir die Spalten **borrower_genders** und **repayment_interval** möglicherweise kategorisieren können. Hierzu müssen wir aber noch die benutzen Einträge prüfen. Des weiteren wird geprüft, ob wir die Spalten **funded_amount**, **loan_amount** und **term_in_months** in Ganzzahlen umwandeln können. Falls nicht, ist dies ein Hinweis für eventuell fehlende Werte. Desweiteren können wir auf diese Weise schon eine Speicherplatzoptimierung erreichen."
   ]
  },
  {
   "cell_type": "code",
   "execution_count": 102,
   "id": "df49084c",
   "metadata": {
    "ExecuteTime": {
     "end_time": "2022-06-02T11:26:58.404303Z",
     "start_time": "2022-06-02T11:26:57.758605Z"
    }
   },
   "outputs": [
    {
     "name": "stdout",
     "output_type": "stream",
     "text": [
      "genutzer Speicherplatz [MiB]:\n"
     ]
    },
    {
     "data": {
      "text/plain": [
       "445.1"
      ]
     },
     "execution_count": 102,
     "metadata": {},
     "output_type": "execute_result"
    }
   ],
   "source": [
    "mem_opti_pre = my_memory_usage(df_final)\n",
    "mem_opti_pre # verwendeter Speicherplatz nach Bearbeitung des Datensatzes"
   ]
  },
  {
   "cell_type": "code",
   "execution_count": 103,
   "id": "32c227a0",
   "metadata": {
    "ExecuteTime": {
     "end_time": "2022-06-02T11:26:59.720078Z",
     "start_time": "2022-06-02T11:26:58.406350Z"
    }
   },
   "outputs": [
    {
     "name": "stdout",
     "output_type": "stream",
     "text": [
      "<class 'pandas.core.frame.DataFrame'>\n",
      "Int64Index: 663721 entries, 0 to 671204\n",
      "Data columns (total 19 columns):\n",
      " #   Column              Non-Null Count   Dtype   \n",
      "---  ------              --------------   -----   \n",
      " 0   funded_amount_euro  663721 non-null  float64 \n",
      " 1   loan_amount_euro    663721 non-null  float64 \n",
      " 2   perc_recieved       663721 non-null  float64 \n",
      " 3   funding_status      663655 non-null  category\n",
      " 4   activity            663721 non-null  object  \n",
      " 5   sector              663721 non-null  object  \n",
      " 6   use                 663721 non-null  object  \n",
      " 7   country_code        663721 non-null  object  \n",
      " 8   continent           663721 non-null  object  \n",
      " 9   continent_long      663721 non-null  object  \n",
      " 10  country             663721 non-null  object  \n",
      " 11  currency            663721 non-null  object  \n",
      " 12  term_in_months      663721 non-null  float64 \n",
      " 13  lender_count        663721 non-null  int64   \n",
      " 14  repayment_interval  663721 non-null  object  \n",
      " 15  borrower_females    663721 non-null  int64   \n",
      " 16  borrower_males      663721 non-null  int64   \n",
      " 17  sum_borrowers       663721 non-null  int64   \n",
      " 18  borrower_groupsize  663721 non-null  category\n",
      "dtypes: category(2), float64(4), int64(4), object(9)\n",
      "memory usage: 445.1 MB\n"
     ]
    }
   ],
   "source": [
    "df_final.info(verbose=True, memory_usage='deep')"
   ]
  },
  {
   "cell_type": "code",
   "execution_count": 104,
   "id": "1baba3c2",
   "metadata": {
    "ExecuteTime": {
     "end_time": "2022-06-02T11:27:00.408194Z",
     "start_time": "2022-06-02T11:26:59.722129Z"
    }
   },
   "outputs": [
    {
     "name": "stdout",
     "output_type": "stream",
     "text": [
      "\u001b[31mDie Spalte funded_amount_euro beinhaltet mehr als 25 eindeutige Werte\n",
      "\n",
      "\u001b[31mDie Spalte loan_amount_euro beinhaltet mehr als 25 eindeutige Werte\n",
      "\n",
      "\u001b[31mDie Spalte perc_recieved beinhaltet mehr als 25 eindeutige Werte\n",
      "\n",
      "\u001b[32mIn Spalte funding_status befinden sich 12 eindeutige Werte\n",
      "\n",
      "\u001b[31mDie Spalte activity beinhaltet mehr als 25 eindeutige Werte\n",
      "\n",
      "\u001b[32mIn Spalte sector befinden sich 15 eindeutige Werte\n",
      "\n",
      "\u001b[31mDie Spalte use beinhaltet mehr als 25 eindeutige Werte\n",
      "\n",
      "\u001b[31mDie Spalte country_code beinhaltet mehr als 25 eindeutige Werte\n",
      "\n",
      "\u001b[32mIn Spalte continent befinden sich 6 eindeutige Werte\n",
      "\n",
      "\u001b[32mIn Spalte continent_long befinden sich 6 eindeutige Werte\n",
      "\n",
      "\u001b[31mDie Spalte country beinhaltet mehr als 25 eindeutige Werte\n",
      "\n",
      "\u001b[31mDie Spalte currency beinhaltet mehr als 25 eindeutige Werte\n",
      "\n",
      "\u001b[31mDie Spalte term_in_months beinhaltet mehr als 25 eindeutige Werte\n",
      "\n",
      "\u001b[31mDie Spalte lender_count beinhaltet mehr als 25 eindeutige Werte\n",
      "\n",
      "\u001b[32mIn Spalte repayment_interval befinden sich 4 eindeutige Werte\n",
      "\n",
      "\u001b[31mDie Spalte borrower_females beinhaltet mehr als 25 eindeutige Werte\n",
      "\n",
      "\u001b[31mDie Spalte borrower_males beinhaltet mehr als 25 eindeutige Werte\n",
      "\n",
      "\u001b[31mDie Spalte sum_borrowers beinhaltet mehr als 25 eindeutige Werte\n",
      "\n",
      "\u001b[32mIn Spalte borrower_groupsize befinden sich 4 eindeutige Werte\n",
      "\n"
     ]
    }
   ],
   "source": [
    "cols_to_check = []\n",
    "\n",
    "unique_limit = 25\n",
    "\n",
    "for col in df_final.columns:\n",
    "    n_uniques = df_final[col].nunique()\n",
    "    if n_uniques < unique_limit:\n",
    "        print(Fore.GREEN +\n",
    "              'In Spalte {col} befinden sich {n} eindeutige Werte\\n'.format(\n",
    "                  col=col, n=n_uniques))\n",
    "        cols_to_check.append(col)\n",
    "    else:\n",
    "        print(Fore.RED +\n",
    "              'Die Spalte {col} beinhaltet mehr als {n} eindeutige Werte\\n'.\n",
    "              format(col=col, n=unique_limit))"
   ]
  },
  {
   "cell_type": "markdown",
   "id": "ddae2fe2",
   "metadata": {},
   "source": [
    "Schauen wir uns die Ergebnisse für **repayment_interval** und **sector** einmal genauer an. Die Spalte **perc_recieved** haben wir schon zuvor kategorisiert."
   ]
  },
  {
   "cell_type": "code",
   "execution_count": 105,
   "id": "1907f549",
   "metadata": {
    "ExecuteTime": {
     "end_time": "2022-06-02T11:27:00.423372Z",
     "start_time": "2022-06-02T11:27:00.410258Z"
    }
   },
   "outputs": [
    {
     "data": {
      "text/plain": [
       "['funding_status',\n",
       " 'sector',\n",
       " 'continent',\n",
       " 'continent_long',\n",
       " 'repayment_interval',\n",
       " 'borrower_groupsize']"
      ]
     },
     "execution_count": 105,
     "metadata": {},
     "output_type": "execute_result"
    }
   ],
   "source": [
    "cols_to_check"
   ]
  },
  {
   "cell_type": "markdown",
   "id": "fe463b00",
   "metadata": {},
   "source": [
    "Wir können auch gefahrlos die Länder oder deren Ländercode kategorisieren. Da wir bei der Speicherplatzeinsparung über die Ländernamen prozentual mehr optimieren können, wählen wir noch diese Spalte zusätzlich aus."
   ]
  },
  {
   "cell_type": "code",
   "execution_count": 106,
   "id": "a1363999",
   "metadata": {
    "ExecuteTime": {
     "end_time": "2022-06-02T11:27:00.440098Z",
     "start_time": "2022-06-02T11:27:00.424404Z"
    }
   },
   "outputs": [],
   "source": [
    "cols_to_check.append('country')"
   ]
  },
  {
   "cell_type": "code",
   "execution_count": 107,
   "id": "1d6dc4fe",
   "metadata": {
    "ExecuteTime": {
     "end_time": "2022-06-02T11:27:00.640520Z",
     "start_time": "2022-06-02T11:27:00.440098Z"
    }
   },
   "outputs": [
    {
     "name": "stdout",
     "output_type": "stream",
     "text": [
      "funding_status:\n",
      "['100%', '60%', '50%', '40%', '90%', ..., '20%', '30%', '<= 5%', 'Überfinanziert', NaN]\n",
      "Length: 13\n",
      "Categories (12, object): ['<= 5%' < '10%' < '20%' < '30%' ... '80%' < '90%' < '100%' < 'Überfinanziert']\n",
      "\n",
      "sector:\n",
      "['Arts' 'Agriculture' 'Housing' 'Health' 'Construction' 'Food' 'Retail'\n",
      " 'Services' 'Education' 'Transportation' 'Clothing' 'Personal Use'\n",
      " 'Manufacturing' 'Entertainment' 'Wholesale']\n",
      "\n",
      "continent:\n",
      "['AS' 'EU' 'NA' 'AF' 'SA' 'OC']\n",
      "\n",
      "continent_long:\n",
      "['Asien' 'Europa' 'Nordamerika' 'Afrika' 'Südamerika'\n",
      " 'Australien/Ozeanien']\n",
      "\n",
      "repayment_interval:\n",
      "['bullet' 'monthly' 'irregular' 'weekly']\n",
      "\n",
      "borrower_groupsize:\n",
      "['Einzelperson', 'kleine Gruppe', 'mittlere Gruppe', 'große Gruppe']\n",
      "Categories (4, object): ['Einzelperson' < 'kleine Gruppe' < 'mittlere Gruppe' < 'große Gruppe']\n",
      "\n",
      "country:\n",
      "['Afghanistan' 'Albania' 'Armenia' 'Azerbaijan' 'Belize' 'Benin' 'Bhutan'\n",
      " 'Bolivia' 'Brazil' 'Burkina Faso' 'Burundi' 'Cambodia' 'Cameroon' 'Chile'\n",
      " 'China' 'Colombia' 'Congo' 'Costa Rica' \"Cote D'Ivoire\"\n",
      " 'Dominican Republic' 'Ecuador' 'Egypt' 'El Salvador' 'Georgia' 'Ghana'\n",
      " 'Guam' 'Guatemala' 'Haiti' 'Honduras' 'India' 'Indonesia' 'Iraq' 'Israel'\n",
      " 'Jordan' 'Kenya' 'Kosovo' 'Kyrgyzstan' \"Lao People's Democratic Republic\"\n",
      " 'Lebanon' 'Lesotho' 'Liberia' 'Madagascar' 'Malawi' 'Mali' 'Mauritania'\n",
      " 'Mexico' 'Moldova' 'Mongolia' 'Mozambique' 'Myanmar (Burma)' 'Namibia'\n",
      " 'Nepal' 'Nicaragua' 'Nigeria' 'Pakistan' 'Palestine' 'Panama' 'Paraguay'\n",
      " 'Peru' 'Philippines' 'Puerto Rico' 'Rwanda'\n",
      " 'Saint Vincent and the Grenadines' 'Samoa' 'Senegal' 'Sierra Leone'\n",
      " 'Solomon Islands' 'Somalia' 'South Africa' 'South Sudan' 'Suriname'\n",
      " 'Tajikistan' 'Tanzania' 'Thailand' 'The Democratic Republic of the Congo'\n",
      " 'Timor-Leste' 'Togo' 'Turkey' 'Uganda' 'Ukraine' 'United States'\n",
      " 'Vanuatu' 'Vietnam' 'Yemen' 'Zambia' 'Zimbabwe']\n",
      "\n"
     ]
    }
   ],
   "source": [
    "for col in cols_to_check:\n",
    "    print(col + ':')\n",
    "    print(df_final[col].unique())\n",
    "    print()"
   ]
  },
  {
   "cell_type": "markdown",
   "id": "bc27d3cb",
   "metadata": {},
   "source": [
    "#### Daten kategorisieren\n",
    "\n",
    "In diesen Spalten können wir die Daten gefahrlos kategorisieren, da die Daten keinerlei fehlende Werte enthalten und im Vergleich zur Anzahl der Spalten nur sehr wenige Werte annehmen können."
   ]
  },
  {
   "cell_type": "code",
   "execution_count": 108,
   "id": "6915d388",
   "metadata": {
    "ExecuteTime": {
     "end_time": "2022-06-02T11:27:01.368995Z",
     "start_time": "2022-06-02T11:27:00.642558Z"
    }
   },
   "outputs": [
    {
     "name": "stdout",
     "output_type": "stream",
     "text": [
      "Spalte \"funding_status\" hat bereits diesen Datentyp und wird nicht umgewandelt.\n",
      "\n"
     ]
    },
    {
     "name": "stderr",
     "output_type": "stream",
     "text": [
      "C:\\Users\\CAD\\AppData\\Local\\Temp\\ipykernel_1052\\4170922902.py:5: SettingWithCopyWarning: \n",
      "A value is trying to be set on a copy of a slice from a DataFrame.\n",
      "Try using .loc[row_indexer,col_indexer] = value instead\n",
      "\n",
      "See the caveats in the documentation: https://pandas.pydata.org/pandas-docs/stable/user_guide/indexing.html#returning-a-view-versus-a-copy\n",
      "  df_final.loc[:, col] = df_final.loc[:, col].astype('category')\n",
      "C:\\Users\\CAD\\AppData\\Local\\Temp\\ipykernel_1052\\4170922902.py:5: SettingWithCopyWarning: \n",
      "A value is trying to be set on a copy of a slice from a DataFrame.\n",
      "Try using .loc[row_indexer,col_indexer] = value instead\n",
      "\n",
      "See the caveats in the documentation: https://pandas.pydata.org/pandas-docs/stable/user_guide/indexing.html#returning-a-view-versus-a-copy\n",
      "  df_final.loc[:, col] = df_final.loc[:, col].astype('category')\n",
      "C:\\Users\\CAD\\AppData\\Local\\Temp\\ipykernel_1052\\4170922902.py:5: SettingWithCopyWarning: \n",
      "A value is trying to be set on a copy of a slice from a DataFrame.\n",
      "Try using .loc[row_indexer,col_indexer] = value instead\n",
      "\n",
      "See the caveats in the documentation: https://pandas.pydata.org/pandas-docs/stable/user_guide/indexing.html#returning-a-view-versus-a-copy\n",
      "  df_final.loc[:, col] = df_final.loc[:, col].astype('category')\n"
     ]
    },
    {
     "name": "stdout",
     "output_type": "stream",
     "text": [
      "Spalte \"sector\" kategorisiert.\n",
      "\n",
      "Spalte \"continent\" kategorisiert.\n",
      "\n",
      "Spalte \"continent_long\" kategorisiert.\n",
      "\n",
      "Spalte \"repayment_interval\" kategorisiert.\n",
      "\n",
      "Spalte \"borrower_groupsize\" hat bereits diesen Datentyp und wird nicht umgewandelt.\n",
      "\n",
      "Spalte \"country\" kategorisiert.\n",
      "\n"
     ]
    },
    {
     "name": "stderr",
     "output_type": "stream",
     "text": [
      "C:\\Users\\CAD\\AppData\\Local\\Temp\\ipykernel_1052\\4170922902.py:5: SettingWithCopyWarning: \n",
      "A value is trying to be set on a copy of a slice from a DataFrame.\n",
      "Try using .loc[row_indexer,col_indexer] = value instead\n",
      "\n",
      "See the caveats in the documentation: https://pandas.pydata.org/pandas-docs/stable/user_guide/indexing.html#returning-a-view-versus-a-copy\n",
      "  df_final.loc[:, col] = df_final.loc[:, col].astype('category')\n",
      "C:\\Users\\CAD\\AppData\\Local\\Temp\\ipykernel_1052\\4170922902.py:5: SettingWithCopyWarning: \n",
      "A value is trying to be set on a copy of a slice from a DataFrame.\n",
      "Try using .loc[row_indexer,col_indexer] = value instead\n",
      "\n",
      "See the caveats in the documentation: https://pandas.pydata.org/pandas-docs/stable/user_guide/indexing.html#returning-a-view-versus-a-copy\n",
      "  df_final.loc[:, col] = df_final.loc[:, col].astype('category')\n"
     ]
    }
   ],
   "source": [
    "for col in cols_to_check:\n",
    "    if df_final[col].dtype.name == 'category':\n",
    "        print('Spalte \"{col}\" hat bereits diesen Datentyp und wird nicht umgewandelt.\\n'.format(col=col))\n",
    "    else:\n",
    "        df_final.loc[:, col] = df_final.loc[:, col].astype('category')\n",
    "        #df_final.loc[:, col] = pd.Categorical(df_final[col])\n",
    "        #df_final[col] = pd.Categorical(df_final[col])\n",
    "        print('Spalte \"{col}\" kategorisiert.\\n'.format(col=col))"
   ]
  },
  {
   "cell_type": "code",
   "execution_count": 109,
   "id": "b6169cc4",
   "metadata": {
    "ExecuteTime": {
     "end_time": "2022-06-02T11:27:01.783835Z",
     "start_time": "2022-06-02T11:27:01.371114Z"
    }
   },
   "outputs": [
    {
     "name": "stdout",
     "output_type": "stream",
     "text": [
      "genutzer Speicherplatz [MiB]:\n"
     ]
    },
    {
     "data": {
      "text/plain": [
       "244.4"
      ]
     },
     "execution_count": 109,
     "metadata": {},
     "output_type": "execute_result"
    }
   ],
   "source": [
    "mem_opti_cat = my_memory_usage(df_final)\n",
    "mem_opti_cat # verwendeter Speicherplatz nach Kategorisierung"
   ]
  },
  {
   "cell_type": "code",
   "execution_count": 110,
   "id": "0f79d433",
   "metadata": {
    "ExecuteTime": {
     "end_time": "2022-06-02T11:27:02.492308Z",
     "start_time": "2022-06-02T11:27:01.785989Z"
    }
   },
   "outputs": [
    {
     "name": "stdout",
     "output_type": "stream",
     "text": [
      "<class 'pandas.core.frame.DataFrame'>\n",
      "Int64Index: 663721 entries, 0 to 671204\n",
      "Data columns (total 19 columns):\n",
      " #   Column              Non-Null Count   Dtype   \n",
      "---  ------              --------------   -----   \n",
      " 0   funded_amount_euro  663721 non-null  float64 \n",
      " 1   loan_amount_euro    663721 non-null  float64 \n",
      " 2   perc_recieved       663721 non-null  float64 \n",
      " 3   funding_status      663655 non-null  category\n",
      " 4   activity            663721 non-null  object  \n",
      " 5   sector              663721 non-null  category\n",
      " 6   use                 663721 non-null  object  \n",
      " 7   country_code        663721 non-null  object  \n",
      " 8   continent           663721 non-null  category\n",
      " 9   continent_long      663721 non-null  category\n",
      " 10  country             663721 non-null  category\n",
      " 11  currency            663721 non-null  object  \n",
      " 12  term_in_months      663721 non-null  float64 \n",
      " 13  lender_count        663721 non-null  int64   \n",
      " 14  repayment_interval  663721 non-null  category\n",
      " 15  borrower_females    663721 non-null  int64   \n",
      " 16  borrower_males      663721 non-null  int64   \n",
      " 17  sum_borrowers       663721 non-null  int64   \n",
      " 18  borrower_groupsize  663721 non-null  category\n",
      "dtypes: category(7), float64(4), int64(4), object(4)\n",
      "memory usage: 244.4 MB\n"
     ]
    }
   ],
   "source": [
    "df_final.info(verbose=True, memory_usage='deep')"
   ]
  },
  {
   "cell_type": "markdown",
   "id": "c7926465",
   "metadata": {},
   "source": [
    "#### Daten in Ganzzahlen umwandeln\n",
    "\n",
    "Nun schauen wir uns die Datensätze an, welche Fließkommazahlen beinhalten. Durch einen einfache Check können wir herausfinden, ob wir nur unnötige Präzision mitschleppen. Wir können hier auch gefahrlos auf INT32 konvertieren, da unsere Ganzzahlwerte deutlich kleiner als 2.147.483.647 sind. Somit lässt sich auch hier eine Speicherplatzoptimierung durchführen.\n",
    "\n",
    "Wir berechnen den Restwert der jeweiligen Zahl bei einer Division durch 1. Ist dieser Wert 0, können wir diese Zahl in eine Ganzzahl umwandeln (siehe Beispiel)"
   ]
  },
  {
   "cell_type": "code",
   "execution_count": 111,
   "id": "9a4eb844",
   "metadata": {
    "ExecuteTime": {
     "end_time": "2022-06-02T11:27:02.507581Z",
     "start_time": "2022-06-02T11:27:02.492308Z"
    }
   },
   "outputs": [
    {
     "name": "stdout",
     "output_type": "stream",
     "text": [
      "0.5 --> Keine Umwandlung in Ganzzahl möglich!\n",
      "0.0 --> Umwandlung in Ganzzahl möglich\n"
     ]
    }
   ],
   "source": [
    "print(str(251.5 % 1) + ' --> Keine Umwandlung in Ganzzahl möglich!')\n",
    "print(str(251.0 % 1) + ' --> Umwandlung in Ganzzahl möglich')"
   ]
  },
  {
   "cell_type": "code",
   "execution_count": 112,
   "id": "bbf0d0ef",
   "metadata": {
    "ExecuteTime": {
     "end_time": "2022-06-02T11:27:02.524311Z",
     "start_time": "2022-06-02T11:27:02.508612Z"
    }
   },
   "outputs": [
    {
     "data": {
      "text/plain": [
       "funded_amount_euro     float64\n",
       "loan_amount_euro       float64\n",
       "perc_recieved          float64\n",
       "funding_status        category\n",
       "activity                object\n",
       "sector                category\n",
       "use                     object\n",
       "country_code            object\n",
       "continent             category\n",
       "continent_long        category\n",
       "country               category\n",
       "currency                object\n",
       "term_in_months         float64\n",
       "lender_count             int64\n",
       "repayment_interval    category\n",
       "borrower_females         int64\n",
       "borrower_males           int64\n",
       "sum_borrowers            int64\n",
       "borrower_groupsize    category\n",
       "dtype: object"
      ]
     },
     "execution_count": 112,
     "metadata": {},
     "output_type": "execute_result"
    }
   ],
   "source": [
    "df_final.dtypes"
   ]
  },
  {
   "cell_type": "code",
   "execution_count": 113,
   "id": "8113da27",
   "metadata": {
    "ExecuteTime": {
     "end_time": "2022-06-02T11:27:02.542445Z",
     "start_time": "2022-06-02T11:27:02.524311Z"
    }
   },
   "outputs": [
    {
     "data": {
      "text/plain": [
       "Index(['funded_amount_euro', 'loan_amount_euro', 'perc_recieved',\n",
       "       'term_in_months'],\n",
       "      dtype='object')"
      ]
     },
     "execution_count": 113,
     "metadata": {},
     "output_type": "execute_result"
    }
   ],
   "source": [
    "# Selektieren der Spalten mit Fließkommazahlen\n",
    "#cols_with_floats = df_final.dtypes.loc[df_final.dtypes.isin(['float', 'float64']) == True]\n",
    "cols_with_floats = df_final.select_dtypes(include=['float', 'float64'])\n",
    "cols_with_floats.columns"
   ]
  },
  {
   "cell_type": "code",
   "execution_count": 114,
   "id": "bead3c9a",
   "metadata": {
    "ExecuteTime": {
     "end_time": "2022-06-02T11:27:02.582881Z",
     "start_time": "2022-06-02T11:27:02.544489Z"
    }
   },
   "outputs": [
    {
     "data": {
      "text/html": [
       "<div>\n",
       "<style scoped>\n",
       "    .dataframe tbody tr th:only-of-type {\n",
       "        vertical-align: middle;\n",
       "    }\n",
       "\n",
       "    .dataframe tbody tr th {\n",
       "        vertical-align: top;\n",
       "    }\n",
       "\n",
       "    .dataframe thead th {\n",
       "        text-align: right;\n",
       "    }\n",
       "</style>\n",
       "<table border=\"1\" class=\"dataframe\">\n",
       "  <thead>\n",
       "    <tr style=\"text-align: right;\">\n",
       "      <th></th>\n",
       "      <th>funded_amount_euro</th>\n",
       "      <th>loan_amount_euro</th>\n",
       "      <th>perc_recieved</th>\n",
       "      <th>term_in_months</th>\n",
       "    </tr>\n",
       "  </thead>\n",
       "  <tbody>\n",
       "    <tr>\n",
       "      <th>0</th>\n",
       "      <td>7570.0</td>\n",
       "      <td>7570.0</td>\n",
       "      <td>100.0</td>\n",
       "      <td>6.0</td>\n",
       "    </tr>\n",
       "    <tr>\n",
       "      <th>1</th>\n",
       "      <td>5678.0</td>\n",
       "      <td>5678.0</td>\n",
       "      <td>100.0</td>\n",
       "      <td>8.0</td>\n",
       "    </tr>\n",
       "    <tr>\n",
       "      <th>2</th>\n",
       "      <td>781.0</td>\n",
       "      <td>781.0</td>\n",
       "      <td>100.0</td>\n",
       "      <td>20.0</td>\n",
       "    </tr>\n",
       "    <tr>\n",
       "      <th>3</th>\n",
       "      <td>2626.0</td>\n",
       "      <td>2626.0</td>\n",
       "      <td>100.0</td>\n",
       "      <td>26.0</td>\n",
       "    </tr>\n",
       "    <tr>\n",
       "      <th>4</th>\n",
       "      <td>781.0</td>\n",
       "      <td>781.0</td>\n",
       "      <td>100.0</td>\n",
       "      <td>14.0</td>\n",
       "    </tr>\n",
       "  </tbody>\n",
       "</table>\n",
       "</div>"
      ],
      "text/plain": [
       "   funded_amount_euro  loan_amount_euro  perc_recieved  term_in_months\n",
       "0              7570.0            7570.0          100.0             6.0\n",
       "1              5678.0            5678.0          100.0             8.0\n",
       "2               781.0             781.0          100.0            20.0\n",
       "3              2626.0            2626.0          100.0            26.0\n",
       "4               781.0             781.0          100.0            14.0"
      ]
     },
     "execution_count": 114,
     "metadata": {},
     "output_type": "execute_result"
    }
   ],
   "source": [
    "cols_with_floats.head()"
   ]
  },
  {
   "cell_type": "code",
   "execution_count": 115,
   "id": "c0727e6f",
   "metadata": {
    "ExecuteTime": {
     "end_time": "2022-06-02T11:27:02.805308Z",
     "start_time": "2022-06-02T11:27:02.584912Z"
    }
   },
   "outputs": [
    {
     "name": "stdout",
     "output_type": "stream",
     "text": [
      "Spalte funded_amount_euro:\n",
      "Daten lassen sich in Ganzzahlen konvertieren\n",
      "\n",
      "Spalte loan_amount_euro:\n",
      "Daten lassen sich in Ganzzahlen konvertieren\n",
      "\n",
      "Spalte perc_recieved:\n",
      "Daten lassen sich in Ganzzahlen konvertieren\n",
      "\n",
      "Spalte term_in_months:\n",
      "Daten lassen sich in Ganzzahlen konvertieren\n",
      "\n"
     ]
    }
   ],
   "source": [
    "convert_to_int = []\n",
    "nulls = []\n",
    "\n",
    "for col in cols_with_floats.columns:\n",
    "    check_zeros = df_final[col] % 1 == 0\n",
    "    check_nan = df_final[col] % 1 != np.nan\n",
    "    print('Spalte ' + col + ':')\n",
    "    if df_final.loc[check_zeros == False].index.empty:\n",
    "        print('Daten lassen sich in Ganzzahlen konvertieren\\n')\n",
    "        convert_to_int.append(col)\n",
    "        continue\n",
    "    if df_final.loc[check_nan == True].empty:\n",
    "        print('NULL-Werte gefunden!')\n",
    "        nulls.append(col)\n",
    "        continue\n",
    "    else:\n",
    "        print('Daten können nicht konvertiert werden\\n')\n",
    "        continue"
   ]
  },
  {
   "cell_type": "code",
   "execution_count": 116,
   "id": "f998dacb",
   "metadata": {
    "ExecuteTime": {
     "end_time": "2022-06-02T11:27:02.906396Z",
     "start_time": "2022-06-02T11:27:02.807357Z"
    }
   },
   "outputs": [
    {
     "name": "stdout",
     "output_type": "stream",
     "text": [
      "Spalte umgewandelt: funded_amount_euro\n",
      "Spalte umgewandelt: loan_amount_euro\n",
      "Spalte umgewandelt: perc_recieved\n",
      "Spalte umgewandelt: term_in_months\n"
     ]
    },
    {
     "name": "stderr",
     "output_type": "stream",
     "text": [
      "C:\\Users\\CAD\\AppData\\Local\\Temp\\ipykernel_1052\\122533370.py:2: SettingWithCopyWarning: \n",
      "A value is trying to be set on a copy of a slice from a DataFrame.\n",
      "Try using .loc[row_indexer,col_indexer] = value instead\n",
      "\n",
      "See the caveats in the documentation: https://pandas.pydata.org/pandas-docs/stable/user_guide/indexing.html#returning-a-view-versus-a-copy\n",
      "  df_final.loc[:, col] = df_final.loc[:, col].astype(np.int32, copy=False)\n"
     ]
    }
   ],
   "source": [
    "for col in convert_to_int:\n",
    "    df_final.loc[:, col] = df_final.loc[:, col].astype(np.int32, copy=False)\n",
    "    print('Spalte umgewandelt: {col}'.format(col=col))"
   ]
  },
  {
   "cell_type": "code",
   "execution_count": 117,
   "id": "d52d69c1",
   "metadata": {
    "ExecuteTime": {
     "end_time": "2022-06-02T11:27:03.370943Z",
     "start_time": "2022-06-02T11:27:02.908442Z"
    }
   },
   "outputs": [
    {
     "name": "stdout",
     "output_type": "stream",
     "text": [
      "genutzer Speicherplatz [MiB]:\n"
     ]
    },
    {
     "data": {
      "text/plain": [
       "234.3"
      ]
     },
     "execution_count": 117,
     "metadata": {},
     "output_type": "execute_result"
    }
   ],
   "source": [
    "mem_opti_float2int = my_memory_usage(df_final)\n",
    "mem_opti_float2int # verwendeter Speicherplatz nach Umwandlung von Fließkommazahlemn in Ganzzahlen"
   ]
  },
  {
   "cell_type": "code",
   "execution_count": 118,
   "id": "ac611921",
   "metadata": {
    "ExecuteTime": {
     "end_time": "2022-06-02T11:27:04.107677Z",
     "start_time": "2022-06-02T11:27:03.370943Z"
    }
   },
   "outputs": [
    {
     "name": "stdout",
     "output_type": "stream",
     "text": [
      "<class 'pandas.core.frame.DataFrame'>\n",
      "Int64Index: 663721 entries, 0 to 671204\n",
      "Data columns (total 19 columns):\n",
      " #   Column              Non-Null Count   Dtype   \n",
      "---  ------              --------------   -----   \n",
      " 0   funded_amount_euro  663721 non-null  int32   \n",
      " 1   loan_amount_euro    663721 non-null  int32   \n",
      " 2   perc_recieved       663721 non-null  int32   \n",
      " 3   funding_status      663655 non-null  category\n",
      " 4   activity            663721 non-null  object  \n",
      " 5   sector              663721 non-null  category\n",
      " 6   use                 663721 non-null  object  \n",
      " 7   country_code        663721 non-null  object  \n",
      " 8   continent           663721 non-null  category\n",
      " 9   continent_long      663721 non-null  category\n",
      " 10  country             663721 non-null  category\n",
      " 11  currency            663721 non-null  object  \n",
      " 12  term_in_months      663721 non-null  int32   \n",
      " 13  lender_count        663721 non-null  int64   \n",
      " 14  repayment_interval  663721 non-null  category\n",
      " 15  borrower_females    663721 non-null  int64   \n",
      " 16  borrower_males      663721 non-null  int64   \n",
      " 17  sum_borrowers       663721 non-null  int64   \n",
      " 18  borrower_groupsize  663721 non-null  category\n",
      "dtypes: category(7), int32(4), int64(4), object(4)\n",
      "memory usage: 234.3 MB\n"
     ]
    }
   ],
   "source": [
    "df_final.info(verbose=True, memory_usage='deep')"
   ]
  },
  {
   "cell_type": "code",
   "execution_count": 119,
   "id": "9aa97f46",
   "metadata": {
    "ExecuteTime": {
     "end_time": "2022-06-02T11:27:04.127871Z",
     "start_time": "2022-06-02T11:27:04.109710Z"
    }
   },
   "outputs": [
    {
     "data": {
      "text/plain": [
       "funded_amount_euro       int32\n",
       "loan_amount_euro         int32\n",
       "perc_recieved            int32\n",
       "funding_status        category\n",
       "activity                object\n",
       "sector                category\n",
       "use                     object\n",
       "country_code            object\n",
       "continent             category\n",
       "continent_long        category\n",
       "country               category\n",
       "currency                object\n",
       "term_in_months           int32\n",
       "lender_count             int64\n",
       "repayment_interval    category\n",
       "borrower_females         int64\n",
       "borrower_males           int64\n",
       "sum_borrowers            int64\n",
       "borrower_groupsize    category\n",
       "dtype: object"
      ]
     },
     "execution_count": 119,
     "metadata": {},
     "output_type": "execute_result"
    }
   ],
   "source": [
    "# Check, ob die Umwandlung funktioniert hat\n",
    "df_final.dtypes"
   ]
  },
  {
   "cell_type": "markdown",
   "id": "c8335741",
   "metadata": {},
   "source": [
    "#### Verkleinern der Ganzzahlen in passendere Datentypen"
   ]
  },
  {
   "cell_type": "code",
   "execution_count": 120,
   "id": "326cdf75",
   "metadata": {
    "ExecuteTime": {
     "end_time": "2022-06-02T11:27:04.143112Z",
     "start_time": "2022-06-02T11:27:04.129917Z"
    }
   },
   "outputs": [
    {
     "data": {
      "text/plain": [
       "funded_amount_euro    int32\n",
       "loan_amount_euro      int32\n",
       "perc_recieved         int32\n",
       "term_in_months        int32\n",
       "lender_count          int64\n",
       "borrower_females      int64\n",
       "borrower_males        int64\n",
       "sum_borrowers         int64\n",
       "dtype: object"
      ]
     },
     "execution_count": 120,
     "metadata": {},
     "output_type": "execute_result"
    }
   ],
   "source": [
    "cols_with_ints = df_final.select_dtypes(include=['int32', 'int64'])\n",
    "cols_with_ints.dtypes"
   ]
  },
  {
   "cell_type": "code",
   "execution_count": 121,
   "id": "3207f5c4",
   "metadata": {
    "ExecuteTime": {
     "end_time": "2022-06-02T11:27:04.158364Z",
     "start_time": "2022-06-02T11:27:04.146175Z"
    }
   },
   "outputs": [
    {
     "name": "stdout",
     "output_type": "stream",
     "text": [
      "   94625.0 --> Maximalwert in Spalte funded_amount_euro\n",
      "   94625.0 --> Maximalwert in Spalte loan_amount_euro\n",
      "     113.0 --> Maximalwert in Spalte perc_recieved\n",
      "     158.0 --> Maximalwert in Spalte term_in_months\n",
      "      2986 --> Maximalwert in Spalte lender_count\n",
      "        50 --> Maximalwert in Spalte borrower_females\n",
      "        44 --> Maximalwert in Spalte borrower_males\n",
      "        50 --> Maximalwert in Spalte sum_borrowers\n"
     ]
    }
   ],
   "source": [
    "for col in cols_with_ints:\n",
    "    print('{value:>10} --> Maximalwert in Spalte {col}'.format(col=col, value=df[col].max()))"
   ]
  },
  {
   "cell_type": "markdown",
   "id": "547fdcbe",
   "metadata": {},
   "source": [
    "Wir haben hier also die Möglichkeit, in den letzten vier Spalten den Datentyp nochmals zu verringern.\n",
    "Hierbei gilt zu beachten, das es zwei verschiedene Arten von Ganzzahlen gibt. Die Zahlen, die nur positiv sein können (_unsigned_) und auch negativ (_signed_), im deutschen auch als Vorzeichen bezeichnet..\n",
    "\n",
    "\n",
    "Folgende Maximalgrößen sind, laut oben verlinkter Seiten, für die Datentypen zulässig:\n",
    "\n",
    "| int_8bit | int_16bit |int_32bit | int_64bit |\n",
    "| :---: | :---: | :---: | :---: |\n",
    "| [$-2^7$, $2^7-1$] | [$-2^{15}$, $2^{15}-1$] | [$-2^{31}$, $2^{31}-1$] |[$-2^{63}$, $2^{63}-1$] |\n"
   ]
  },
  {
   "cell_type": "markdown",
   "id": "9c9e6b82",
   "metadata": {},
   "source": [
    "| uint_8bit | uint_16bit |uint_32bit | uint_64bit |\n",
    "| :---: | :---: | :---: | :---: |\n",
    "| $(2^{7}-1)$ | $(2^{15}-1)$ | $(2^{31}-1)$ |$(2^{63}-1)$ |"
   ]
  },
  {
   "cell_type": "code",
   "execution_count": 122,
   "id": "df2c11c0",
   "metadata": {
    "ExecuteTime": {
     "end_time": "2022-06-02T11:27:04.178566Z",
     "start_time": "2022-06-02T11:27:04.160413Z"
    }
   },
   "outputs": [
    {
     "data": {
      "text/plain": [
       "{'uint8': {'max_size': 255, 'columns': []},\n",
       " 'uint16': {'max_size': 65535, 'columns': []},\n",
       " 'uint32': {'max_size': 4294967295, 'columns': []},\n",
       " 'uint64': {'max_size': 18446744073709551615, 'columns': []}}"
      ]
     },
     "execution_count": 122,
     "metadata": {},
     "output_type": "execute_result"
    }
   ],
   "source": [
    "int_sizes = {}\n",
    "\n",
    "for i in [1, 2, 4, 8]:\n",
    "    name = 'uint{}'.format(8 * i)\n",
    "    #print(name)\n",
    "    int_sizes[name] = {'max_size': 2*2**(8 * i - 1) - 1, 'columns': []}\n",
    "\n",
    "int_sizes"
   ]
  },
  {
   "cell_type": "code",
   "execution_count": 123,
   "id": "67e451e0",
   "metadata": {
    "ExecuteTime": {
     "end_time": "2022-06-02T11:27:04.340215Z",
     "start_time": "2022-06-02T11:27:04.180614Z"
    }
   },
   "outputs": [
    {
     "name": "stdout",
     "output_type": "stream",
     "text": [
      "Spalte funded_amount_euro:\n",
      "vorhandener Maximalwert: 94,625\n",
      "Der ideale Datentyp für diese Spalte ist uint32.\n",
      "erlaubter Maximalwert = 4,294,967,295 bytes\n",
      "\n",
      "Spalte loan_amount_euro:\n",
      "vorhandener Maximalwert: 94,625\n",
      "Der ideale Datentyp für diese Spalte ist uint32.\n",
      "erlaubter Maximalwert = 4,294,967,295 bytes\n",
      "\n",
      "Spalte perc_recieved:\n",
      "vorhandener Maximalwert: 113\n",
      "Der ideale Datentyp für diese Spalte ist uint8.\n",
      "erlaubter Maximalwert = 255 bytes\n",
      "\n",
      "Spalte term_in_months:\n",
      "vorhandener Maximalwert: 158\n",
      "Der ideale Datentyp für diese Spalte ist uint8.\n",
      "erlaubter Maximalwert = 255 bytes\n",
      "\n",
      "Spalte lender_count:\n",
      "vorhandener Maximalwert: 2,986\n",
      "Der ideale Datentyp für diese Spalte ist uint16.\n",
      "erlaubter Maximalwert = 65,535 bytes\n",
      "\n",
      "Spalte borrower_females:\n",
      "vorhandener Maximalwert: 50\n",
      "Der ideale Datentyp für diese Spalte ist uint8.\n",
      "erlaubter Maximalwert = 255 bytes\n",
      "\n",
      "Spalte borrower_males:\n",
      "vorhandener Maximalwert: 44\n",
      "Der ideale Datentyp für diese Spalte ist uint8.\n",
      "erlaubter Maximalwert = 255 bytes\n",
      "\n",
      "Spalte sum_borrowers:\n",
      "vorhandener Maximalwert: 50\n",
      "Der ideale Datentyp für diese Spalte ist uint8.\n",
      "erlaubter Maximalwert = 255 bytes\n",
      "\n"
     ]
    },
    {
     "name": "stderr",
     "output_type": "stream",
     "text": [
      "C:\\Users\\CAD\\AppData\\Local\\Temp\\ipykernel_1052\\2837985473.py:11: SettingWithCopyWarning: \n",
      "A value is trying to be set on a copy of a slice from a DataFrame.\n",
      "Try using .loc[row_indexer,col_indexer] = value instead\n",
      "\n",
      "See the caveats in the documentation: https://pandas.pydata.org/pandas-docs/stable/user_guide/indexing.html#returning-a-view-versus-a-copy\n",
      "  df_final.loc[:, col] = df_final.loc[:, col].astype(key, copy=False)\n"
     ]
    }
   ],
   "source": [
    "for col in cols_with_ints.columns:\n",
    "    for key in int_sizes.keys():\n",
    "        #print(key)\n",
    "        max_value = int_sizes[key]['max_size']\n",
    "        if df_final[col].max() <= max_value:\n",
    "            print(f'Spalte {col}:')\n",
    "            print(f'vorhandener Maximalwert: {df_final[col].max():,}')\n",
    "            print(\n",
    "                f'Der ideale Datentyp für diese Spalte ist {key}.\\nerlaubter Maximalwert = {max_value:,} bytes\\n'\n",
    "            )\n",
    "            df_final.loc[:, col] = df_final.loc[:, col].astype(key, copy=False)\n",
    "            break"
   ]
  },
  {
   "cell_type": "code",
   "execution_count": 124,
   "id": "d8632643",
   "metadata": {
    "ExecuteTime": {
     "end_time": "2022-06-02T11:27:04.360344Z",
     "start_time": "2022-06-02T11:27:04.342232Z"
    }
   },
   "outputs": [
    {
     "data": {
      "text/plain": [
       "funded_amount_euro      uint32\n",
       "loan_amount_euro        uint32\n",
       "perc_recieved            uint8\n",
       "funding_status        category\n",
       "activity                object\n",
       "sector                category\n",
       "use                     object\n",
       "country_code            object\n",
       "continent             category\n",
       "continent_long        category\n",
       "country               category\n",
       "currency                object\n",
       "term_in_months           uint8\n",
       "lender_count            uint16\n",
       "repayment_interval    category\n",
       "borrower_females         uint8\n",
       "borrower_males           uint8\n",
       "sum_borrowers            uint8\n",
       "borrower_groupsize    category\n",
       "dtype: object"
      ]
     },
     "execution_count": 124,
     "metadata": {},
     "output_type": "execute_result"
    }
   ],
   "source": [
    "# Check ob umwandlung funktioniert hat\n",
    "df_final.dtypes"
   ]
  },
  {
   "cell_type": "code",
   "execution_count": 125,
   "id": "b4d9e98e",
   "metadata": {
    "ExecuteTime": {
     "end_time": "2022-06-02T11:27:04.749558Z",
     "start_time": "2022-06-02T11:27:04.362372Z"
    }
   },
   "outputs": [
    {
     "name": "stdout",
     "output_type": "stream",
     "text": [
      "genutzer Speicherplatz [MiB]:\n"
     ]
    },
    {
     "data": {
      "text/plain": [
       "213.4"
      ]
     },
     "execution_count": 125,
     "metadata": {},
     "output_type": "execute_result"
    }
   ],
   "source": [
    "mem_opti_int = my_memory_usage(df_final)\n",
    "mem_opti_int # verwendeter Speicherplatz nach Optimierung der Ganzzahlspalten"
   ]
  },
  {
   "cell_type": "code",
   "execution_count": 126,
   "id": "a52e2a0b",
   "metadata": {
    "ExecuteTime": {
     "end_time": "2022-06-02T11:27:05.491184Z",
     "start_time": "2022-06-02T11:27:04.749558Z"
    }
   },
   "outputs": [
    {
     "name": "stdout",
     "output_type": "stream",
     "text": [
      "<class 'pandas.core.frame.DataFrame'>\n",
      "Int64Index: 663721 entries, 0 to 671204\n",
      "Data columns (total 19 columns):\n",
      " #   Column              Non-Null Count   Dtype   \n",
      "---  ------              --------------   -----   \n",
      " 0   funded_amount_euro  663721 non-null  uint32  \n",
      " 1   loan_amount_euro    663721 non-null  uint32  \n",
      " 2   perc_recieved       663721 non-null  uint8   \n",
      " 3   funding_status      663655 non-null  category\n",
      " 4   activity            663721 non-null  object  \n",
      " 5   sector              663721 non-null  category\n",
      " 6   use                 663721 non-null  object  \n",
      " 7   country_code        663721 non-null  object  \n",
      " 8   continent           663721 non-null  category\n",
      " 9   continent_long      663721 non-null  category\n",
      " 10  country             663721 non-null  category\n",
      " 11  currency            663721 non-null  object  \n",
      " 12  term_in_months      663721 non-null  uint8   \n",
      " 13  lender_count        663721 non-null  uint16  \n",
      " 14  repayment_interval  663721 non-null  category\n",
      " 15  borrower_females    663721 non-null  uint8   \n",
      " 16  borrower_males      663721 non-null  uint8   \n",
      " 17  sum_borrowers       663721 non-null  uint8   \n",
      " 18  borrower_groupsize  663721 non-null  category\n",
      "dtypes: category(7), object(4), uint16(1), uint32(2), uint8(5)\n",
      "memory usage: 213.4 MB\n"
     ]
    }
   ],
   "source": [
    "df_final.info(verbose=True, memory_usage='deep')"
   ]
  },
  {
   "cell_type": "markdown",
   "id": "34c65012",
   "metadata": {},
   "source": [
    "#### Zusammenfassung"
   ]
  },
  {
   "cell_type": "code",
   "execution_count": 127,
   "id": "2f02f8e0",
   "metadata": {
    "ExecuteTime": {
     "end_time": "2022-06-02T11:27:05.511402Z",
     "start_time": "2022-06-02T11:27:05.493224Z"
    }
   },
   "outputs": [
    {
     "name": "stdout",
     "output_type": "stream",
     "text": [
      "\n",
      "Trotz der zusätzlichen Spalten, die wir im Laufe des Preprocessings eingefügt haben,\n",
      "konnten wir mit den durchgeführten Maßnahmen den Speicherplatzverbrauch um ca. 50% reduzieren.\n",
      "\n",
      "Dies entspricht in absoluten Zahlen etwa 216.5 MiB.\n",
      "      \n"
     ]
    }
   ],
   "source": [
    "saved_memory1 = 1 - mem_opti_int / mem_usage_init\n",
    "saved_memory2 = round(mem_usage_init - mem_opti_int, 1)\n",
    "\n",
    "print('''\n",
    "Trotz der zusätzlichen Spalten, die wir im Laufe des Preprocessings eingefügt haben,\n",
    "konnten wir mit den durchgeführten Maßnahmen den Speicherplatzverbrauch um ca. {mem:.0%} reduzieren.\n",
    "\n",
    "Dies entspricht in absoluten Zahlen etwa {mem_saved} MiB.\n",
    "      '''.format(mem=saved_memory1, mem_saved=saved_memory2))"
   ]
  },
  {
   "cell_type": "markdown",
   "id": "e5f02d95",
   "metadata": {},
   "source": [
    "### Sichern der Datensätze\n",
    "\n",
    "Diesen Stand sichern wir uns nun als 'pickle'-Datei (wecken unseren Datensatz also ein und machen ihn haltbar :D ). Da dieses Dateiformat versionsabhängig ist, wird der Datensatz zusätzlich noch als CSV-Datei gespeichert."
   ]
  },
  {
   "cell_type": "code",
   "execution_count": 128,
   "id": "ea5c6aa9",
   "metadata": {
    "ExecuteTime": {
     "end_time": "2022-06-02T11:27:10.024308Z",
     "start_time": "2022-06-02T11:27:05.513463Z"
    }
   },
   "outputs": [],
   "source": [
    "filename = 'SH_CrowdInvesting_preprocessing'\n",
    "\n",
    "df_final.to_pickle(f'{filename}.pkl')\n",
    "df_final.to_csv(f'{filename}.csv', index=False, sep=',')\n",
    "\n",
    "df_check.to_pickle('dataset_to_check.pkl')\n",
    "df_check.to_csv('dataset_to_check.csv', index=False, sep=',')"
   ]
  }
 ],
 "metadata": {
  "kernelspec": {
   "display_name": "Python 3 (ipykernel)",
   "language": "python",
   "name": "python3"
  },
  "language_info": {
   "codemirror_mode": {
    "name": "ipython",
    "version": 3
   },
   "file_extension": ".py",
   "mimetype": "text/x-python",
   "name": "python",
   "nbconvert_exporter": "python",
   "pygments_lexer": "ipython3",
   "version": "3.9.12"
  },
  "toc": {
   "base_numbering": 1,
   "nav_menu": {},
   "number_sections": true,
   "sideBar": true,
   "skip_h1_title": false,
   "title_cell": "Table of Contents",
   "title_sidebar": "Contents",
   "toc_cell": false,
   "toc_position": {
    "height": "calc(100% - 180px)",
    "left": "10px",
    "top": "150px",
    "width": "454px"
   },
   "toc_section_display": true,
   "toc_window_display": true
  },
  "varInspector": {
   "cols": {
    "lenName": 16,
    "lenType": 16,
    "lenVar": 40
   },
   "kernels_config": {
    "python": {
     "delete_cmd_postfix": "",
     "delete_cmd_prefix": "del ",
     "library": "var_list.py",
     "varRefreshCmd": "print(var_dic_list())"
    },
    "r": {
     "delete_cmd_postfix": ") ",
     "delete_cmd_prefix": "rm(",
     "library": "var_list.r",
     "varRefreshCmd": "cat(var_dic_list()) "
    }
   },
   "types_to_exclude": [
    "module",
    "function",
    "builtin_function_or_method",
    "instance",
    "_Feature"
   ],
   "window_display": false
  }
 },
 "nbformat": 4,
 "nbformat_minor": 5
}
