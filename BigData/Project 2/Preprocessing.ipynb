{
 "cells": [
  {
   "cell_type": "markdown",
   "id": "2f1f4ad8-ffd4-405f-883a-e4b54ceae318",
   "metadata": {},
   "source": [
    "# Arbeitsprobe zum Thema Datenanalyse\n",
    "\n",
    "Hallo liebe Besucher,\n",
    "\n",
    "mein Name ist Sebastian und ich qualifiziere mich gerade um zu einem Experten für Datenanalysen.\n",
    "\n",
    "Ich veröffentliche regelmäßig Arbeitsproben über meinen Github-Account damit sich potenzielle Partner ein Bild von meiner Arbeit machen können. Noch bin ich kein Profi auf diesem Gebiet, aber mir macht es jetzt schon unheimlich viel Spaß, mich mit der Thematik auseinander zu setzen und mit den Datensätzen herumzuspielen.\n",
    "\n",
    "In diesem Beispiel habe ich mir folgenden Datensatz von Kaggle vorgenommen:\n",
    "\n",
    "https://www.kaggle.com/datasets/berkeleyearth/climate-change-earth-surface-temperature-data"
   ]
  },
  {
   "cell_type": "code",
   "execution_count": null,
   "id": "4fb3d677-15ac-445f-9b9c-efaf192ecea3",
   "metadata": {},
   "outputs": [],
   "source": []
  }
 ],
 "metadata": {
  "kernelspec": {
   "display_name": "Python 3 (ipykernel)",
   "language": "python",
   "name": "python3"
  },
  "language_info": {
   "codemirror_mode": {
    "name": "ipython",
    "version": 3
   },
   "file_extension": ".py",
   "mimetype": "text/x-python",
   "name": "python",
   "nbconvert_exporter": "python",
   "pygments_lexer": "ipython3",
   "version": "3.10.4"
  }
 },
 "nbformat": 4,
 "nbformat_minor": 5
}
